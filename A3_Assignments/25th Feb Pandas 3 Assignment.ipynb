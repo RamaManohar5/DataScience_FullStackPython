{
 "cells": [
  {
   "cell_type": "code",
   "execution_count": 136,
   "id": "51edbc75-01da-4015-b5b7-58e586559c33",
   "metadata": {},
   "outputs": [],
   "source": [
    "# Consider following code to answer further questions:\n",
    "\n",
    "import pandas as pd\n",
    "\n",
    "course_name = ['Data Science', 'Machine Learning', 'Big Data', 'Data Engineer']\n",
    "\n",
    "duration = [2,3,6,4]\n",
    "\n",
    "df = pd.DataFrame(data = {'course_name' : course_name, 'duration' : duration})"
   ]
  },
  {
   "cell_type": "code",
   "execution_count": 137,
   "id": "15401c18-fc80-42ba-a3cd-08fabc2af786",
   "metadata": {},
   "outputs": [
    {
     "data": {
      "text/html": [
       "<div>\n",
       "<style scoped>\n",
       "    .dataframe tbody tr th:only-of-type {\n",
       "        vertical-align: middle;\n",
       "    }\n",
       "\n",
       "    .dataframe tbody tr th {\n",
       "        vertical-align: top;\n",
       "    }\n",
       "\n",
       "    .dataframe thead th {\n",
       "        text-align: right;\n",
       "    }\n",
       "</style>\n",
       "<table border=\"1\" class=\"dataframe\">\n",
       "  <thead>\n",
       "    <tr style=\"text-align: right;\">\n",
       "      <th></th>\n",
       "      <th>course_name</th>\n",
       "      <th>duration</th>\n",
       "    </tr>\n",
       "  </thead>\n",
       "  <tbody>\n",
       "    <tr>\n",
       "      <th>0</th>\n",
       "      <td>Data Science</td>\n",
       "      <td>2</td>\n",
       "    </tr>\n",
       "    <tr>\n",
       "      <th>1</th>\n",
       "      <td>Machine Learning</td>\n",
       "      <td>3</td>\n",
       "    </tr>\n",
       "    <tr>\n",
       "      <th>2</th>\n",
       "      <td>Big Data</td>\n",
       "      <td>6</td>\n",
       "    </tr>\n",
       "    <tr>\n",
       "      <th>3</th>\n",
       "      <td>Data Engineer</td>\n",
       "      <td>4</td>\n",
       "    </tr>\n",
       "  </tbody>\n",
       "</table>\n",
       "</div>"
      ],
      "text/plain": [
       "        course_name  duration\n",
       "0      Data Science         2\n",
       "1  Machine Learning         3\n",
       "2          Big Data         6\n",
       "3     Data Engineer         4"
      ]
     },
     "execution_count": 137,
     "metadata": {},
     "output_type": "execute_result"
    }
   ],
   "source": [
    "df"
   ]
  },
  {
   "cell_type": "markdown",
   "id": "54f816da-18a0-4cbf-842e-ef8785d5f870",
   "metadata": {},
   "source": [
    "### Q1. Write a code to print the data present in the second row of the dataframe, df.\n"
   ]
  },
  {
   "cell_type": "code",
   "execution_count": 138,
   "id": "8ed5151f-49c0-4fb0-b484-1e28d4a5315c",
   "metadata": {},
   "outputs": [
    {
     "data": {
      "text/html": [
       "<div>\n",
       "<style scoped>\n",
       "    .dataframe tbody tr th:only-of-type {\n",
       "        vertical-align: middle;\n",
       "    }\n",
       "\n",
       "    .dataframe tbody tr th {\n",
       "        vertical-align: top;\n",
       "    }\n",
       "\n",
       "    .dataframe thead th {\n",
       "        text-align: right;\n",
       "    }\n",
       "</style>\n",
       "<table border=\"1\" class=\"dataframe\">\n",
       "  <thead>\n",
       "    <tr style=\"text-align: right;\">\n",
       "      <th></th>\n",
       "      <th>course_name</th>\n",
       "      <th>duration</th>\n",
       "    </tr>\n",
       "  </thead>\n",
       "  <tbody>\n",
       "    <tr>\n",
       "      <th>1</th>\n",
       "      <td>Machine Learning</td>\n",
       "      <td>3</td>\n",
       "    </tr>\n",
       "  </tbody>\n",
       "</table>\n",
       "</div>"
      ],
      "text/plain": [
       "        course_name  duration\n",
       "1  Machine Learning         3"
      ]
     },
     "execution_count": 138,
     "metadata": {},
     "output_type": "execute_result"
    }
   ],
   "source": [
    "# fetching 2nd row from the dataframe\n",
    "\n",
    "df.take([1]) "
   ]
  },
  {
   "cell_type": "markdown",
   "id": "2913473f-776d-431a-a43a-47c8f20c0ebd",
   "metadata": {},
   "source": [
    "### Q2. What is the difference between the functions loc and iloc in pandas.DataFrame?\n",
    "\n",
    "    The main distinction between loc and iloc is: \n",
    "    \n",
    "        loc is label-based, which means that we have to specify rows and columns based on their row and column labels. \n",
    "        \n",
    "        iloc is integer position-based, so we have to specify rows and columns by their integer position values (0-based integer position).\n"
   ]
  },
  {
   "cell_type": "markdown",
   "id": "e4d3b11e-0aa7-4c57-b5bf-cea192d66446",
   "metadata": {},
   "source": [
    "### Q3. Reindex the given dataframe using a variable, reindex = [3,0,1,2] and store it in the variable, new_df then find the output for both new_df.loc[2] and new_df.iloc[2]."
   ]
  },
  {
   "cell_type": "code",
   "execution_count": 139,
   "id": "7acaaeee-2d29-4fd7-8f95-eedb1188b819",
   "metadata": {},
   "outputs": [
    {
     "data": {
      "text/html": [
       "<div>\n",
       "<style scoped>\n",
       "    .dataframe tbody tr th:only-of-type {\n",
       "        vertical-align: middle;\n",
       "    }\n",
       "\n",
       "    .dataframe tbody tr th {\n",
       "        vertical-align: top;\n",
       "    }\n",
       "\n",
       "    .dataframe thead th {\n",
       "        text-align: right;\n",
       "    }\n",
       "</style>\n",
       "<table border=\"1\" class=\"dataframe\">\n",
       "  <thead>\n",
       "    <tr style=\"text-align: right;\">\n",
       "      <th></th>\n",
       "      <th>course_name</th>\n",
       "      <th>duration</th>\n",
       "    </tr>\n",
       "  </thead>\n",
       "  <tbody>\n",
       "    <tr>\n",
       "      <th>0</th>\n",
       "      <td>Data Science</td>\n",
       "      <td>2</td>\n",
       "    </tr>\n",
       "    <tr>\n",
       "      <th>1</th>\n",
       "      <td>Machine Learning</td>\n",
       "      <td>3</td>\n",
       "    </tr>\n",
       "    <tr>\n",
       "      <th>2</th>\n",
       "      <td>Big Data</td>\n",
       "      <td>6</td>\n",
       "    </tr>\n",
       "    <tr>\n",
       "      <th>3</th>\n",
       "      <td>Data Engineer</td>\n",
       "      <td>4</td>\n",
       "    </tr>\n",
       "  </tbody>\n",
       "</table>\n",
       "</div>"
      ],
      "text/plain": [
       "        course_name  duration\n",
       "0      Data Science         2\n",
       "1  Machine Learning         3\n",
       "2          Big Data         6\n",
       "3     Data Engineer         4"
      ]
     },
     "execution_count": 139,
     "metadata": {},
     "output_type": "execute_result"
    }
   ],
   "source": [
    "# dataframe\n",
    "df"
   ]
  },
  {
   "cell_type": "code",
   "execution_count": 140,
   "id": "91a6c54a-2094-4aab-b900-5625b55662d3",
   "metadata": {},
   "outputs": [
    {
     "data": {
      "text/html": [
       "<div>\n",
       "<style scoped>\n",
       "    .dataframe tbody tr th:only-of-type {\n",
       "        vertical-align: middle;\n",
       "    }\n",
       "\n",
       "    .dataframe tbody tr th {\n",
       "        vertical-align: top;\n",
       "    }\n",
       "\n",
       "    .dataframe thead th {\n",
       "        text-align: right;\n",
       "    }\n",
       "</style>\n",
       "<table border=\"1\" class=\"dataframe\">\n",
       "  <thead>\n",
       "    <tr style=\"text-align: right;\">\n",
       "      <th></th>\n",
       "      <th>course_name</th>\n",
       "      <th>duration</th>\n",
       "    </tr>\n",
       "  </thead>\n",
       "  <tbody>\n",
       "    <tr>\n",
       "      <th>3</th>\n",
       "      <td>Data Engineer</td>\n",
       "      <td>4</td>\n",
       "    </tr>\n",
       "    <tr>\n",
       "      <th>0</th>\n",
       "      <td>Data Science</td>\n",
       "      <td>2</td>\n",
       "    </tr>\n",
       "    <tr>\n",
       "      <th>1</th>\n",
       "      <td>Machine Learning</td>\n",
       "      <td>3</td>\n",
       "    </tr>\n",
       "    <tr>\n",
       "      <th>2</th>\n",
       "      <td>Big Data</td>\n",
       "      <td>6</td>\n",
       "    </tr>\n",
       "  </tbody>\n",
       "</table>\n",
       "</div>"
      ],
      "text/plain": [
       "        course_name  duration\n",
       "3     Data Engineer         4\n",
       "0      Data Science         2\n",
       "1  Machine Learning         3\n",
       "2          Big Data         6"
      ]
     },
     "execution_count": 140,
     "metadata": {},
     "output_type": "execute_result"
    }
   ],
   "source": [
    "re_indexes = [3,0,1,2]\n",
    "\n",
    "# re-arranges the rows based on the given indexes order\n",
    "new_df = df.reindex(re_indexes)\n",
    "new_df"
   ]
  },
  {
   "cell_type": "code",
   "execution_count": 141,
   "id": "6ec46dff-a1fd-4542-8c0c-9b0367ea62c9",
   "metadata": {},
   "outputs": [
    {
     "data": {
      "text/plain": [
       "course_name    Big Data\n",
       "duration              6\n",
       "Name: 2, dtype: object"
      ]
     },
     "execution_count": 141,
     "metadata": {},
     "output_type": "execute_result"
    }
   ],
   "source": [
    "# loc[] :  label based, label '2'  row is at the bottom of the dataframe which will fetched using below\n",
    "\n",
    "new_df.loc[2] "
   ]
  },
  {
   "cell_type": "code",
   "execution_count": 142,
   "id": "7f3ffbfd-a8ed-4994-94b7-4b5a5e5fda79",
   "metadata": {},
   "outputs": [
    {
     "data": {
      "text/plain": [
       "course_name    Machine Learning\n",
       "duration                      3\n",
       "Name: 1, dtype: object"
      ]
     },
     "execution_count": 142,
     "metadata": {},
     "output_type": "execute_result"
    }
   ],
   "source": [
    "# iloc[] : inbuilt index based, which will fetch the 2nd index row\n",
    "\n",
    "new_df.iloc[2] "
   ]
  },
  {
   "cell_type": "code",
   "execution_count": 143,
   "id": "5aaf08d4-fe87-408f-b4c3-af9f0d18aaef",
   "metadata": {},
   "outputs": [],
   "source": [
    "# Consider the below code to answer further questions:\n",
    "import pandas as pd\n",
    "\n",
    "import numpy as np\n",
    "\n",
    "columns = ['column_1', 'column_2', 'column_3', 'column_4', 'column_5', 'column_6']\n",
    "\n",
    "indices = [1,2,3,4,5,6]\n",
    "\n",
    "#Creating a dataframe:\n",
    "\n",
    "df1 = pd.DataFrame(np.random.rand(6,6), columns = columns, index = indices)"
   ]
  },
  {
   "cell_type": "markdown",
   "id": "6017b9d0-cab3-475e-aa9d-97f5866bb84d",
   "metadata": {},
   "source": [
    "### Q4. Write a code to find the following statistical measurements for the above dataframe df1:\n",
    "\n",
    "    (i) mean of each and every column present in the dataframe.\n",
    "\n",
    "    (ii) standard deviation of column, ‘column_2’\n",
    "\n"
   ]
  },
  {
   "cell_type": "code",
   "execution_count": 144,
   "id": "397d2eb0-e29c-4fb8-b77b-724073620393",
   "metadata": {},
   "outputs": [
    {
     "data": {
      "text/html": [
       "<div>\n",
       "<style scoped>\n",
       "    .dataframe tbody tr th:only-of-type {\n",
       "        vertical-align: middle;\n",
       "    }\n",
       "\n",
       "    .dataframe tbody tr th {\n",
       "        vertical-align: top;\n",
       "    }\n",
       "\n",
       "    .dataframe thead th {\n",
       "        text-align: right;\n",
       "    }\n",
       "</style>\n",
       "<table border=\"1\" class=\"dataframe\">\n",
       "  <thead>\n",
       "    <tr style=\"text-align: right;\">\n",
       "      <th></th>\n",
       "      <th>column_1</th>\n",
       "      <th>column_2</th>\n",
       "      <th>column_3</th>\n",
       "      <th>column_4</th>\n",
       "      <th>column_5</th>\n",
       "      <th>column_6</th>\n",
       "    </tr>\n",
       "  </thead>\n",
       "  <tbody>\n",
       "    <tr>\n",
       "      <th>1</th>\n",
       "      <td>0.877690</td>\n",
       "      <td>0.910477</td>\n",
       "      <td>0.576771</td>\n",
       "      <td>0.682713</td>\n",
       "      <td>0.239301</td>\n",
       "      <td>0.542940</td>\n",
       "    </tr>\n",
       "    <tr>\n",
       "      <th>2</th>\n",
       "      <td>0.734640</td>\n",
       "      <td>0.323083</td>\n",
       "      <td>0.342391</td>\n",
       "      <td>0.061323</td>\n",
       "      <td>0.642245</td>\n",
       "      <td>0.919263</td>\n",
       "    </tr>\n",
       "    <tr>\n",
       "      <th>3</th>\n",
       "      <td>0.722149</td>\n",
       "      <td>0.700121</td>\n",
       "      <td>0.175036</td>\n",
       "      <td>0.516896</td>\n",
       "      <td>0.827729</td>\n",
       "      <td>0.651579</td>\n",
       "    </tr>\n",
       "    <tr>\n",
       "      <th>4</th>\n",
       "      <td>0.096621</td>\n",
       "      <td>0.341874</td>\n",
       "      <td>0.645642</td>\n",
       "      <td>0.384352</td>\n",
       "      <td>0.461181</td>\n",
       "      <td>0.140805</td>\n",
       "    </tr>\n",
       "    <tr>\n",
       "      <th>5</th>\n",
       "      <td>0.857893</td>\n",
       "      <td>0.556831</td>\n",
       "      <td>0.797457</td>\n",
       "      <td>0.074278</td>\n",
       "      <td>0.827233</td>\n",
       "      <td>0.489774</td>\n",
       "    </tr>\n",
       "    <tr>\n",
       "      <th>6</th>\n",
       "      <td>0.378327</td>\n",
       "      <td>0.606642</td>\n",
       "      <td>0.564817</td>\n",
       "      <td>0.995971</td>\n",
       "      <td>0.563705</td>\n",
       "      <td>0.062630</td>\n",
       "    </tr>\n",
       "  </tbody>\n",
       "</table>\n",
       "</div>"
      ],
      "text/plain": [
       "   column_1  column_2  column_3  column_4  column_5  column_6\n",
       "1  0.877690  0.910477  0.576771  0.682713  0.239301  0.542940\n",
       "2  0.734640  0.323083  0.342391  0.061323  0.642245  0.919263\n",
       "3  0.722149  0.700121  0.175036  0.516896  0.827729  0.651579\n",
       "4  0.096621  0.341874  0.645642  0.384352  0.461181  0.140805\n",
       "5  0.857893  0.556831  0.797457  0.074278  0.827233  0.489774\n",
       "6  0.378327  0.606642  0.564817  0.995971  0.563705  0.062630"
      ]
     },
     "execution_count": 144,
     "metadata": {},
     "output_type": "execute_result"
    }
   ],
   "source": [
    "df1"
   ]
  },
  {
   "cell_type": "code",
   "execution_count": 145,
   "id": "f11fddfd-5c65-4c1e-8e90-46bac1316f0d",
   "metadata": {},
   "outputs": [
    {
     "data": {
      "text/plain": [
       "column_1    0.611220\n",
       "column_2    0.573171\n",
       "column_3    0.517019\n",
       "column_4    0.452589\n",
       "column_5    0.593566\n",
       "column_6    0.467832\n",
       "dtype: float64"
      ]
     },
     "execution_count": 145,
     "metadata": {},
     "output_type": "execute_result"
    }
   ],
   "source": [
    "# mean() method calculates mean of each columns which contains int / float data\n",
    "\n",
    "df1.mean()"
   ]
  },
  {
   "cell_type": "code",
   "execution_count": 146,
   "id": "b01a0d77-165e-428c-8c37-1b71bc97bbe5",
   "metadata": {},
   "outputs": [
    {
     "data": {
      "text/plain": [
       "0.22240566588689428"
      ]
     },
     "execution_count": 146,
     "metadata": {},
     "output_type": "execute_result"
    }
   ],
   "source": [
    "# std() method calculates standard deviation of the columns which contains int / float data\n",
    "\n",
    "df1['column_2'].std()"
   ]
  },
  {
   "cell_type": "markdown",
   "id": "3b10f1da-8d19-4aa5-ad19-bea93a88cfe8",
   "metadata": {},
   "source": [
    "### Q5. Replace the data present in the second row of column, ‘column_2’ by a string variable then find the mean of column, column_2.\n",
    "\n",
    "    If you are getting errors in executing it then explain why.\n",
    "\n",
    "    [Hint: To replace the data use df1.loc[] and equate this to string data of your choice.]\n",
    "\n"
   ]
  },
  {
   "cell_type": "code",
   "execution_count": 147,
   "id": "162fedde-ff50-4c95-a343-09465d1515ee",
   "metadata": {},
   "outputs": [
    {
     "data": {
      "text/html": [
       "<div>\n",
       "<style scoped>\n",
       "    .dataframe tbody tr th:only-of-type {\n",
       "        vertical-align: middle;\n",
       "    }\n",
       "\n",
       "    .dataframe tbody tr th {\n",
       "        vertical-align: top;\n",
       "    }\n",
       "\n",
       "    .dataframe thead th {\n",
       "        text-align: right;\n",
       "    }\n",
       "</style>\n",
       "<table border=\"1\" class=\"dataframe\">\n",
       "  <thead>\n",
       "    <tr style=\"text-align: right;\">\n",
       "      <th></th>\n",
       "      <th>column_1</th>\n",
       "      <th>column_2</th>\n",
       "      <th>column_3</th>\n",
       "      <th>column_4</th>\n",
       "      <th>column_5</th>\n",
       "      <th>column_6</th>\n",
       "    </tr>\n",
       "  </thead>\n",
       "  <tbody>\n",
       "    <tr>\n",
       "      <th>1</th>\n",
       "      <td>0.877690</td>\n",
       "      <td>0.910477</td>\n",
       "      <td>0.576771</td>\n",
       "      <td>0.682713</td>\n",
       "      <td>0.239301</td>\n",
       "      <td>0.542940</td>\n",
       "    </tr>\n",
       "    <tr>\n",
       "      <th>2</th>\n",
       "      <td>0.734640</td>\n",
       "      <td>0.323083</td>\n",
       "      <td>0.342391</td>\n",
       "      <td>0.061323</td>\n",
       "      <td>0.642245</td>\n",
       "      <td>0.919263</td>\n",
       "    </tr>\n",
       "    <tr>\n",
       "      <th>3</th>\n",
       "      <td>0.722149</td>\n",
       "      <td>0.700121</td>\n",
       "      <td>0.175036</td>\n",
       "      <td>0.516896</td>\n",
       "      <td>0.827729</td>\n",
       "      <td>0.651579</td>\n",
       "    </tr>\n",
       "    <tr>\n",
       "      <th>4</th>\n",
       "      <td>0.096621</td>\n",
       "      <td>0.341874</td>\n",
       "      <td>0.645642</td>\n",
       "      <td>0.384352</td>\n",
       "      <td>0.461181</td>\n",
       "      <td>0.140805</td>\n",
       "    </tr>\n",
       "    <tr>\n",
       "      <th>5</th>\n",
       "      <td>0.857893</td>\n",
       "      <td>0.556831</td>\n",
       "      <td>0.797457</td>\n",
       "      <td>0.074278</td>\n",
       "      <td>0.827233</td>\n",
       "      <td>0.489774</td>\n",
       "    </tr>\n",
       "    <tr>\n",
       "      <th>6</th>\n",
       "      <td>0.378327</td>\n",
       "      <td>0.606642</td>\n",
       "      <td>0.564817</td>\n",
       "      <td>0.995971</td>\n",
       "      <td>0.563705</td>\n",
       "      <td>0.062630</td>\n",
       "    </tr>\n",
       "  </tbody>\n",
       "</table>\n",
       "</div>"
      ],
      "text/plain": [
       "   column_1  column_2  column_3  column_4  column_5  column_6\n",
       "1  0.877690  0.910477  0.576771  0.682713  0.239301  0.542940\n",
       "2  0.734640  0.323083  0.342391  0.061323  0.642245  0.919263\n",
       "3  0.722149  0.700121  0.175036  0.516896  0.827729  0.651579\n",
       "4  0.096621  0.341874  0.645642  0.384352  0.461181  0.140805\n",
       "5  0.857893  0.556831  0.797457  0.074278  0.827233  0.489774\n",
       "6  0.378327  0.606642  0.564817  0.995971  0.563705  0.062630"
      ]
     },
     "execution_count": 147,
     "metadata": {},
     "output_type": "execute_result"
    }
   ],
   "source": [
    "df1"
   ]
  },
  {
   "cell_type": "code",
   "execution_count": 148,
   "id": "f004d58b-0da8-4c99-b5ba-9da5af4efb5f",
   "metadata": {},
   "outputs": [
    {
     "data": {
      "text/html": [
       "<div>\n",
       "<style scoped>\n",
       "    .dataframe tbody tr th:only-of-type {\n",
       "        vertical-align: middle;\n",
       "    }\n",
       "\n",
       "    .dataframe tbody tr th {\n",
       "        vertical-align: top;\n",
       "    }\n",
       "\n",
       "    .dataframe thead th {\n",
       "        text-align: right;\n",
       "    }\n",
       "</style>\n",
       "<table border=\"1\" class=\"dataframe\">\n",
       "  <thead>\n",
       "    <tr style=\"text-align: right;\">\n",
       "      <th></th>\n",
       "      <th>column_1</th>\n",
       "      <th>column_2</th>\n",
       "      <th>column_3</th>\n",
       "      <th>column_4</th>\n",
       "      <th>column_5</th>\n",
       "      <th>column_6</th>\n",
       "    </tr>\n",
       "  </thead>\n",
       "  <tbody>\n",
       "    <tr>\n",
       "      <th>1</th>\n",
       "      <td>0.877690</td>\n",
       "      <td>0.910477</td>\n",
       "      <td>0.576771</td>\n",
       "      <td>0.682713</td>\n",
       "      <td>0.239301</td>\n",
       "      <td>0.542940</td>\n",
       "    </tr>\n",
       "    <tr>\n",
       "      <th>2</th>\n",
       "      <td>0.734640</td>\n",
       "      <td>Ram</td>\n",
       "      <td>0.342391</td>\n",
       "      <td>0.061323</td>\n",
       "      <td>0.642245</td>\n",
       "      <td>0.919263</td>\n",
       "    </tr>\n",
       "    <tr>\n",
       "      <th>3</th>\n",
       "      <td>0.722149</td>\n",
       "      <td>0.700121</td>\n",
       "      <td>0.175036</td>\n",
       "      <td>0.516896</td>\n",
       "      <td>0.827729</td>\n",
       "      <td>0.651579</td>\n",
       "    </tr>\n",
       "    <tr>\n",
       "      <th>4</th>\n",
       "      <td>0.096621</td>\n",
       "      <td>0.341874</td>\n",
       "      <td>0.645642</td>\n",
       "      <td>0.384352</td>\n",
       "      <td>0.461181</td>\n",
       "      <td>0.140805</td>\n",
       "    </tr>\n",
       "    <tr>\n",
       "      <th>5</th>\n",
       "      <td>0.857893</td>\n",
       "      <td>0.556831</td>\n",
       "      <td>0.797457</td>\n",
       "      <td>0.074278</td>\n",
       "      <td>0.827233</td>\n",
       "      <td>0.489774</td>\n",
       "    </tr>\n",
       "    <tr>\n",
       "      <th>6</th>\n",
       "      <td>0.378327</td>\n",
       "      <td>0.606642</td>\n",
       "      <td>0.564817</td>\n",
       "      <td>0.995971</td>\n",
       "      <td>0.563705</td>\n",
       "      <td>0.062630</td>\n",
       "    </tr>\n",
       "  </tbody>\n",
       "</table>\n",
       "</div>"
      ],
      "text/plain": [
       "   column_1  column_2  column_3  column_4  column_5  column_6\n",
       "1  0.877690  0.910477  0.576771  0.682713  0.239301  0.542940\n",
       "2  0.734640       Ram  0.342391  0.061323  0.642245  0.919263\n",
       "3  0.722149  0.700121  0.175036  0.516896  0.827729  0.651579\n",
       "4  0.096621  0.341874  0.645642  0.384352  0.461181  0.140805\n",
       "5  0.857893  0.556831  0.797457  0.074278  0.827233  0.489774\n",
       "6  0.378327  0.606642  0.564817  0.995971  0.563705  0.062630"
      ]
     },
     "execution_count": 148,
     "metadata": {},
     "output_type": "execute_result"
    }
   ],
   "source": [
    "# replacing 2nd row of column_2 value\n",
    "\n",
    "df1['column_2'].loc[2] = \"Ram\" \n",
    "\n",
    "df1"
   ]
  },
  {
   "cell_type": "code",
   "execution_count": 149,
   "id": "0645e57a-6d12-440a-aaf6-2b2af5b3582c",
   "metadata": {},
   "outputs": [],
   "source": [
    "## getting error because panda.Series must have same data type, hence mean operation can't be performed.\n",
    "\n",
    "#df1['column_2'].mean()\n"
   ]
  },
  {
   "cell_type": "markdown",
   "id": "30338978-c18a-4505-908c-1440847bba55",
   "metadata": {},
   "source": [
    "### Q6. What do you understand about the windows function in pandas and list the types of windows functions?\n",
    "    \n",
    "    Pandas Window functions are functions where the input values are taken from a “window” of one or more rows in a series or a table and calculation is performed over them. The word window means the number of rows between the two boundaries by which we perform calculations including the boundary rows.\n",
    "    \n",
    "    Pandas provide window functions for the following 4 types of windowing operations.\n",
    "    \n",
    "        Rolling window operations.\n",
    "            Rolling windows operations means applying some formula to a range of rows by sliding with that fixed number, from the initial value all the way to the final value.\n",
    "            \n",
    "        Weighted window operations.\n",
    "            There might be cases where we prefer value with some weightage, in these cases, the Pandas weighted windows functions are making these operations much easier.\n",
    "            \n",
    "        Expanding window operations.\n",
    "            The Expanding window Operation is the Same as the rolling window except it expands with each iteration. It yields the value of the aggregation statistical function provided.\n",
    "            In simpler words, an Expanding window operation provides the expanding transformation of a window.\n",
    "            \n",
    "        Exponentially Weighted window.\n",
    "            The Exponentially weighted window function is very much the same as the expanding window function, however, in the Exponentially weighted window, the upcoming point is exponentially weighted down in relation to the current value.\n",
    "            This is a bit more computationally expensive window function, however, can be used in different types of statistical calculations."
   ]
  },
  {
   "cell_type": "markdown",
   "id": "9c4584c9-100d-4ae8-b10d-cb5c923c7b2e",
   "metadata": {},
   "source": [
    "### Q7. Write a code to print only the current month and year at the time of answering this question.\n",
    "\n",
    "    [Hint: Use pandas.datetime function]\n",
    "\n"
   ]
  },
  {
   "cell_type": "code",
   "execution_count": 150,
   "id": "27cb88db-e4c8-40ef-ae45-36fffd24d9a4",
   "metadata": {},
   "outputs": [],
   "source": [
    "import pandas as pd\n",
    "import datetime"
   ]
  },
  {
   "cell_type": "code",
   "execution_count": 152,
   "id": "d97ce9c2-0eca-43ad-acc7-fe53a42e28dc",
   "metadata": {},
   "outputs": [
    {
     "name": "stdout",
     "output_type": "stream",
     "text": [
      "month : 3, year : 2023\n"
     ]
    },
    {
     "name": "stderr",
     "output_type": "stream",
     "text": [
      "/tmp/ipykernel_70/1381789433.py:1: FutureWarning: The pandas.datetime class is deprecated and will be removed from pandas in a future version. Import from datetime module instead.\n",
      "  today = pd.datetime.today()\n"
     ]
    }
   ],
   "source": [
    "today = pd.datetime.today()\n",
    "\n",
    "print(f\"month : {today.month}, year : {today.year}\")"
   ]
  },
  {
   "cell_type": "markdown",
   "id": "02671873-17db-4ad4-b2f4-67cfdcab4105",
   "metadata": {},
   "source": [
    "### Q8. Write a Python program that takes in two dates as input (in the format YYYY-MM-DD) and calculates the difference between them in days, hours, and minutes using Pandas time delta. The program should prompt the user to enter the dates and display the result."
   ]
  },
  {
   "cell_type": "code",
   "execution_count": 205,
   "id": "51558f2b-ced8-4448-9432-51322cb4bb00",
   "metadata": {},
   "outputs": [],
   "source": [
    "import pandas as pd"
   ]
  },
  {
   "cell_type": "code",
   "execution_count": 206,
   "id": "506cd516-abcd-4dbe-a830-db7ce514a3be",
   "metadata": {},
   "outputs": [],
   "source": [
    "def diff_days_hours_minutes(date1, date2) : \n",
    "    time_delta_date1 = pd.to_datetime(date1)\n",
    "    time_delta_date2 =  pd.to_datetime(date2)\n",
    "    time_delta = pd.Timedelta((time_delta_date2 - time_delta_date1))\n",
    "    print(f\"differnce in days : {time_delta.days}\")\n",
    "    print(f\"differnce in hours : {time_delta / pd.Timedelta('1 hour')}\")\n",
    "    print(f\"differnce in minutes : {(time_delta / pd.Timedelta('1 hour')) * 60}\")"
   ]
  },
  {
   "cell_type": "code",
   "execution_count": 204,
   "id": "d412962c-88df-47e9-8f29-ac737f4b619e",
   "metadata": {},
   "outputs": [
    {
     "name": "stdin",
     "output_type": "stream",
     "text": [
      "enter date1 in 'YYYY-MM-DD' format :  2023-01-12\n",
      "enter date2 in 'YYYY-MM-DD' format :  2023-12-25\n"
     ]
    },
    {
     "name": "stdout",
     "output_type": "stream",
     "text": [
      "differnce in days : 347\n",
      "differnce in hours : 8328.0\n",
      "differnce in minutes : 499680.0\n"
     ]
    }
   ],
   "source": [
    "while True:\n",
    "    date1 = input(\"enter date1 in 'YYYY-MM-DD' format : \")\n",
    "    date2 = input(\"enter date2 in 'YYYY-MM-DD' format : \")\n",
    "    diff_days_hours_minutes(date1, date2)\n",
    "    break;"
   ]
  },
  {
   "cell_type": "markdown",
   "id": "6464f43b-f21f-48ba-81da-2fb5a3fff683",
   "metadata": {},
   "source": [
    "### Q9. Write a Python program that reads a CSV file containing categorical data and converts a specified column to a categorical data type. The program should prompt the user to enter the file path, column name, and category order, and then display the sorted data.    "
   ]
  },
  {
   "cell_type": "code",
   "execution_count": 258,
   "id": "b0e7c873-a732-4808-a5c0-c4a5bfca1230",
   "metadata": {},
   "outputs": [
    {
     "name": "stdin",
     "output_type": "stream",
     "text": [
      "please enter a valid csv path :  uniform.csv\n",
      "please enter a valid column_name convert to categotical data type:  Shirt_Size\n",
      "please enter a category_order S,M,L\n"
     ]
    },
    {
     "name": "stdout",
     "output_type": "stream",
     "text": [
      "    Name      Year Shirt_Size\n",
      "0    Tim    Junior          S\n",
      "3  Jyoti    Junior          S\n",
      "1  Sarah    Senior          M\n",
      "2  Hasan  Freshman          L\n",
      "4   Jack  Freshman          L\n"
     ]
    }
   ],
   "source": [
    "import pandas as pd\n",
    "\n",
    "def cat_data(path, column_name, category_order) :\n",
    "    df  = pd.read_csv(path)\n",
    "    #df[column_name] = df[column_name].astype('category') # converting to categorical type\n",
    "    df[column_name] = pd.Categorical(df[column_name], \n",
    "                            categories=list(category_order.split(',')), \n",
    "                            ordered=True)\n",
    "    return df.sort_values(column_name)\n",
    "\n",
    "while True : \n",
    "    path = input('please enter a valid csv path : ')\n",
    "    column_name = input(\"please enter a valid column_name convert to categotical data type: \")\n",
    "    category_order = input(\"please enter a category_order\")\n",
    "    returned_df = cat_data(path, column_name, category_order)\n",
    "    print(returned_df)\n",
    "    break;"
   ]
  },
  {
   "cell_type": "markdown",
   "id": "ab869b7c-092d-4918-b649-af9202677912",
   "metadata": {},
   "source": [
    "### QlO. Write a Python program that reads a CSV file containing sales data for different products and visualizes the data using a stacked bar chart to show the sales of each product category over time. The program should prompt the user to enter the file path and display the chart.\n",
    "\n"
   ]
  },
  {
   "cell_type": "code",
   "execution_count": 264,
   "id": "183f93a6-a6df-4473-94a2-f49b67faf933",
   "metadata": {},
   "outputs": [
    {
     "name": "stdin",
     "output_type": "stream",
     "text": [
      "enter the csv_file_path :  cars.csv\n",
      "enter the x_axis_column_name :  Model\n"
     ]
    },
    {
     "data": {
      "text/plain": [
       "<AxesSubplot: title={'center': 'Cars Sales'}, xlabel='Model'>"
      ]
     },
     "execution_count": 264,
     "metadata": {},
     "output_type": "execute_result"
    },
    {
     "data": {
      "image/png": "[encoded data removed]",
      "text/plain": [
       "<Figure size 640x480 with 1 Axes>"
      ]
     },
     "metadata": {},
     "output_type": "display_data"
    }
   ],
   "source": [
    "import pandas as pd\n",
    "\n",
    "def plot_stacked_bar_chart(path, x_axis_column_val) : \n",
    "    df = pd.read_csv(path)\n",
    "    return df.plot.bar(x=x_axis_column_val, stacked=True, title='Cars Sales')\n",
    "    \n",
    "path = input('enter the csv_file_path : ')\n",
    "x_axis_column_val = input(\"enter the x_axis_column_name : \")\n",
    "plot_stacked_bar_chart(path, x_axis_column_val)\n"
   ]
  },
  {
   "cell_type": "markdown",
   "id": "a02671b2-0eff-48ae-9208-bdd8128093a1",
   "metadata": {},
   "source": [
    "### Qll. You are given a CSV file containing student data that includes the student ID and their test score. Write a Python program that reads the csv file, calculates the mean, median, and mode of the test scores, and displays the results in a table.\n",
    "\n",
    "    The program should do the following:\n",
    "\n",
    "    •\tPrompt the user to enter the file path of the CSV file containing the student data.\n",
    "    •\tRead the CSV file into a Pandas DataFrame.\n",
    "    •\tCalculate the mean, median, and mode of the test scores using Pandas tools.\n",
    "    •\tDisplay the mean, median, and mode in a table.\n",
    "\n",
    "    Assume the CSV file contains the following columns:\n",
    "\n",
    "    •\tStudent ID: The ID of the student.\n",
    "    •\tTest Score: The score of the student's test.\n",
    "\n",
    "    Example usage of the program:\n",
    "    Enter the file path of the CSV file con\n",
    "\n"
   ]
  },
  {
   "cell_type": "code",
   "execution_count": 33,
   "id": "8299cde3-8397-4875-ae6e-97357be965ae",
   "metadata": {},
   "outputs": [
    {
     "name": "stdin",
     "output_type": "stream",
     "text": [
      "please enter valid csv path student.csv\n"
     ]
    },
    {
     "data": {
      "text/html": [
       "<div>\n",
       "<style scoped>\n",
       "    .dataframe tbody tr th:only-of-type {\n",
       "        vertical-align: middle;\n",
       "    }\n",
       "\n",
       "    .dataframe tbody tr th {\n",
       "        vertical-align: top;\n",
       "    }\n",
       "\n",
       "    .dataframe thead th {\n",
       "        text-align: right;\n",
       "    }\n",
       "</style>\n",
       "<table border=\"1\" class=\"dataframe\">\n",
       "  <thead>\n",
       "    <tr style=\"text-align: right;\">\n",
       "      <th></th>\n",
       "      <th>values</th>\n",
       "    </tr>\n",
       "  </thead>\n",
       "  <tbody>\n",
       "    <tr>\n",
       "      <th>mean</th>\n",
       "      <td>83.5</td>\n",
       "    </tr>\n",
       "    <tr>\n",
       "      <th>median</th>\n",
       "      <td>85.0</td>\n",
       "    </tr>\n",
       "    <tr>\n",
       "      <th>mode</th>\n",
       "      <td>[85]</td>\n",
       "    </tr>\n",
       "  </tbody>\n",
       "</table>\n",
       "</div>"
      ],
      "text/plain": [
       "       values\n",
       "mean     83.5\n",
       "median   85.0\n",
       "mode     [85]"
      ]
     },
     "execution_count": 33,
     "metadata": {},
     "output_type": "execute_result"
    }
   ],
   "source": [
    "import pandas as pd\n",
    "\n",
    "def students_mean_median_mode(path) : \n",
    "    df = pd.read_csv('student.csv')\n",
    "    new_df = pd.DataFrame({ 'values' : [] })\n",
    "    new_df.loc['mean'] =  str(df['Total_Score'].mean())\n",
    "    new_df.loc['median'] = str(df['Total_Score'].median())\n",
    "    new_df.loc['mode'] = str(df['Total_Score'].mode().values)\n",
    "    return new_df\n",
    "\n",
    "path = input(\"please enter valid csv path\")\n",
    "\n",
    "students_mean_median_mode(path)\n"
   ]
  },
  {
   "cell_type": "code",
   "execution_count": 34,
   "id": "6e8bf4fb-155d-4862-b302-47f7b46be2b1",
   "metadata": {},
   "outputs": [
    {
     "data": {
      "text/html": [
       "<div>\n",
       "<style scoped>\n",
       "    .dataframe tbody tr th:only-of-type {\n",
       "        vertical-align: middle;\n",
       "    }\n",
       "\n",
       "    .dataframe tbody tr th {\n",
       "        vertical-align: top;\n",
       "    }\n",
       "\n",
       "    .dataframe thead th {\n",
       "        text-align: right;\n",
       "    }\n",
       "</style>\n",
       "<table border=\"1\" class=\"dataframe\">\n",
       "  <thead>\n",
       "    <tr style=\"text-align: right;\">\n",
       "      <th></th>\n",
       "      <th>Student_ID</th>\n",
       "      <th>Total_Score</th>\n",
       "    </tr>\n",
       "  </thead>\n",
       "  <tbody>\n",
       "    <tr>\n",
       "      <th>0</th>\n",
       "      <td>1</td>\n",
       "      <td>85</td>\n",
       "    </tr>\n",
       "    <tr>\n",
       "      <th>1</th>\n",
       "      <td>2</td>\n",
       "      <td>90</td>\n",
       "    </tr>\n",
       "    <tr>\n",
       "      <th>2</th>\n",
       "      <td>3</td>\n",
       "      <td>80</td>\n",
       "    </tr>\n",
       "    <tr>\n",
       "      <th>3</th>\n",
       "      <td>4</td>\n",
       "      <td>75</td>\n",
       "    </tr>\n",
       "    <tr>\n",
       "      <th>4</th>\n",
       "      <td>5</td>\n",
       "      <td>85</td>\n",
       "    </tr>\n",
       "    <tr>\n",
       "      <th>5</th>\n",
       "      <td>6</td>\n",
       "      <td>82</td>\n",
       "    </tr>\n",
       "    <tr>\n",
       "      <th>6</th>\n",
       "      <td>7</td>\n",
       "      <td>78</td>\n",
       "    </tr>\n",
       "    <tr>\n",
       "      <th>7</th>\n",
       "      <td>8</td>\n",
       "      <td>85</td>\n",
       "    </tr>\n",
       "    <tr>\n",
       "      <th>8</th>\n",
       "      <td>9</td>\n",
       "      <td>90</td>\n",
       "    </tr>\n",
       "    <tr>\n",
       "      <th>9</th>\n",
       "      <td>10</td>\n",
       "      <td>85</td>\n",
       "    </tr>\n",
       "  </tbody>\n",
       "</table>\n",
       "</div>"
      ],
      "text/plain": [
       "   Student_ID  Total_Score\n",
       "0           1           85\n",
       "1           2           90\n",
       "2           3           80\n",
       "3           4           75\n",
       "4           5           85\n",
       "5           6           82\n",
       "6           7           78\n",
       "7           8           85\n",
       "8           9           90\n",
       "9          10           85"
      ]
     },
     "execution_count": 34,
     "metadata": {},
     "output_type": "execute_result"
    }
   ],
   "source": [
    "df"
   ]
  },
  {
   "cell_type": "code",
   "execution_count": null,
   "id": "e43da39a-26b8-4297-85fd-2e1af2a4b71a",
   "metadata": {},
   "outputs": [],
   "source": []
  }
 ],
 "metadata": {
  "kernelspec": {
   "display_name": "Python 3 (ipykernel)",
   "language": "python",
   "name": "python3"
  },
  "language_info": {
   "codemirror_mode": {
    "name": "ipython",
    "version": 3
   },
   "file_extension": ".py",
   "mimetype": "text/x-python",
   "name": "python",
   "nbconvert_exporter": "python",
   "pygments_lexer": "ipython3",
   "version": "3.10.8"
  }
 },
 "nbformat": 4,
 "nbformat_minor": 5
}
