{
 "cells": [
  {
   "cell_type": "markdown",
   "id": "a705e301-f0eb-4d90-8750-14d7c0ab20a8",
   "metadata": {},
   "source": [
    "### Consider the below code to answer further questions:\n"
   ]
  },
  {
   "cell_type": "code",
   "execution_count": 37,
   "id": "43b13e6a-e4d8-4189-b62e-86192b532a18",
   "metadata": {},
   "outputs": [],
   "source": [
    "import numpy as np\n",
    "list_ = [ '1', '2', '3', '4', '5']\n",
    "array_list = np.array(object = list_)"
   ]
  },
  {
   "cell_type": "markdown",
   "id": "d6b763d5-c239-4099-b202-89362989a104",
   "metadata": {},
   "source": [
    "### Q1. Is there any difference in the data type of variables list_ and array_list? If there is then write a code to print the data types of both the variables.\n",
    "    \n",
    "    yes, both are diferent. a list can hold heterogeneous data / data elements where as numpy arrays have strict homogeneity of the objects."
   ]
  },
  {
   "cell_type": "code",
   "execution_count": 38,
   "id": "d5dae1c2-9eb3-4bc8-accf-6ed9249758df",
   "metadata": {},
   "outputs": [
    {
     "data": {
      "text/plain": [
       "list"
      ]
     },
     "execution_count": 38,
     "metadata": {},
     "output_type": "execute_result"
    }
   ],
   "source": [
    "# datatype of a list variable\n",
    "\n",
    "type(list_)"
   ]
  },
  {
   "cell_type": "code",
   "execution_count": 39,
   "id": "2974d61e-a9ad-4392-9921-072f31107202",
   "metadata": {},
   "outputs": [
    {
     "data": {
      "text/plain": [
       "numpy.ndarray"
      ]
     },
     "execution_count": 39,
     "metadata": {},
     "output_type": "execute_result"
    }
   ],
   "source": [
    "# datatype of a numpy array variable\n",
    "\n",
    "type(array_list)"
   ]
  },
  {
   "cell_type": "markdown",
   "id": "b210e5e3-f668-4a7f-a458-dc46a0cda359",
   "metadata": {},
   "source": [
    "### Q2. Write a code to print the data type of each and every element of both the variables list_ and arra_list."
   ]
  },
  {
   "cell_type": "code",
   "execution_count": 40,
   "id": "f64ecc7a-bef9-48c5-b23d-6727830ce339",
   "metadata": {},
   "outputs": [
    {
     "name": "stdout",
     "output_type": "stream",
     "text": [
      "<class 'str'>\n",
      "<class 'str'>\n",
      "<class 'str'>\n",
      "<class 'str'>\n",
      "<class 'str'>\n"
     ]
    }
   ],
   "source": [
    "# data types of the elements of list\n",
    "\n",
    "for s in list_:\n",
    "    print(type(s))"
   ]
  },
  {
   "cell_type": "code",
   "execution_count": 41,
   "id": "5b45586d-66a4-4613-bbea-9ea6829a5b24",
   "metadata": {},
   "outputs": [
    {
     "name": "stdout",
     "output_type": "stream",
     "text": [
      "<class 'numpy.str_'>\n",
      "<class 'numpy.str_'>\n",
      "<class 'numpy.str_'>\n",
      "<class 'numpy.str_'>\n",
      "<class 'numpy.str_'>\n"
     ]
    }
   ],
   "source": [
    "# data types of the elements of numpy array\n",
    "\n",
    "for s in array_list:\n",
    "    print(type(s))"
   ]
  },
  {
   "cell_type": "markdown",
   "id": "c5222c7e-9f8a-451e-8e7a-18f9d253729e",
   "metadata": {},
   "source": [
    "### Q3. Considering the following changes in the variable, array_list. Will there be any difference in the data type of the elements present in both the variables, list_ and arra_list? If so then print the data types of each and every element present in both the variables, list_ and arra_list.\n",
    "    \n",
    "    yes, there is a difference between the elements of list and array_list. the list_ variable has elements of string datatype where as array_list has elements of integer datatype.\n",
    "    "
   ]
  },
  {
   "cell_type": "code",
   "execution_count": 42,
   "id": "0e5a466d-3d58-4ae0-ae4c-a292c709e60a",
   "metadata": {},
   "outputs": [],
   "source": [
    "array_list = np.array(object = list_, dtype = int)"
   ]
  },
  {
   "cell_type": "code",
   "execution_count": 43,
   "id": "7d40510d-1598-4975-8e8a-9bd251c7a7e6",
   "metadata": {},
   "outputs": [
    {
     "data": {
      "text/plain": [
       "list"
      ]
     },
     "execution_count": 43,
     "metadata": {},
     "output_type": "execute_result"
    }
   ],
   "source": [
    "type(list_)"
   ]
  },
  {
   "cell_type": "code",
   "execution_count": 44,
   "id": "7958cd7c-c07b-4c5b-9760-1e394bc98d8a",
   "metadata": {},
   "outputs": [
    {
     "data": {
      "text/plain": [
       "numpy.ndarray"
      ]
     },
     "execution_count": 44,
     "metadata": {},
     "output_type": "execute_result"
    }
   ],
   "source": [
    "type(array_list)"
   ]
  },
  {
   "cell_type": "code",
   "execution_count": 45,
   "id": "1eb01b82-6e22-4bb6-871d-e0a3715a44cc",
   "metadata": {},
   "outputs": [
    {
     "name": "stdout",
     "output_type": "stream",
     "text": [
      "<class 'str'>\n",
      "<class 'str'>\n",
      "<class 'str'>\n",
      "<class 'str'>\n",
      "<class 'str'>\n"
     ]
    }
   ],
   "source": [
    "for s in list_:\n",
    "    print(type(s))"
   ]
  },
  {
   "cell_type": "code",
   "execution_count": 46,
   "id": "dc2c5f45-a3ef-4e46-a16c-5214d4491432",
   "metadata": {},
   "outputs": [
    {
     "name": "stdout",
     "output_type": "stream",
     "text": [
      "<class 'numpy.int64'>\n",
      "<class 'numpy.int64'>\n",
      "<class 'numpy.int64'>\n",
      "<class 'numpy.int64'>\n",
      "<class 'numpy.int64'>\n"
     ]
    }
   ],
   "source": [
    "for s in array_list:\n",
    "    print(type(s))"
   ]
  },
  {
   "cell_type": "markdown",
   "id": "318dffc5-7f09-4305-bec5-cb4cdc5c0b0b",
   "metadata": {},
   "source": [
    "### Consider the below code to answer further questions:\n",
    "### Q4. Write a code to find the following characteristics of variable, num_array:\n",
    "    (i) shape\n",
    "    (ii) size"
   ]
  },
  {
   "cell_type": "code",
   "execution_count": 47,
   "id": "c6e363e0-4980-492d-abef-13a8a5300b74",
   "metadata": {},
   "outputs": [],
   "source": [
    "import numpy as np\n",
    "num_list = [ [ 1 , 2 , 3 ] , [ 4 , 5 , 6 ] ]\n",
    "num_array = np.array(object = num_list)"
   ]
  },
  {
   "cell_type": "code",
   "execution_count": 48,
   "id": "b3deefb9-b4f3-42a4-b9b8-b851497421c5",
   "metadata": {},
   "outputs": [
    {
     "data": {
      "text/plain": [
       "2"
      ]
     },
     "execution_count": 48,
     "metadata": {},
     "output_type": "execute_result"
    }
   ],
   "source": [
    "# characteristics of variable num_list\n",
    "# size and shape of list\n",
    "\n",
    "len(num_list) # size & shape of list"
   ]
  },
  {
   "cell_type": "code",
   "execution_count": 49,
   "id": "c0d415f1-8704-46e0-bcab-2093160f6694",
   "metadata": {},
   "outputs": [
    {
     "data": {
      "text/plain": [
       "6"
      ]
     },
     "execution_count": 49,
     "metadata": {},
     "output_type": "execute_result"
    }
   ],
   "source": [
    "# characteristics of num_array\n",
    "# size and shape of num_array\n",
    "\n",
    "np.size(num_array) # size of num_array"
   ]
  },
  {
   "cell_type": "code",
   "execution_count": 50,
   "id": "b1bc92d3-fc9a-4712-b3ef-2ef41abc460e",
   "metadata": {},
   "outputs": [
    {
     "data": {
      "text/plain": [
       "(2, 3)"
      ]
     },
     "execution_count": 50,
     "metadata": {},
     "output_type": "execute_result"
    }
   ],
   "source": [
    "np.shape(num_array) # shape of num_array"
   ]
  },
  {
   "cell_type": "markdown",
   "id": "59085e2a-d757-44fd-82c4-11e9771bd05b",
   "metadata": {},
   "source": [
    "### Q5. Write a code to create numpy array of 3*3 matrix containing zeros only, using a numpy array creation function.\n",
    "    [Hint: The size of the array will be 9 and the shape will be (3,3).]"
   ]
  },
  {
   "cell_type": "code",
   "execution_count": 51,
   "id": "bd65ea36-45d9-47d2-a9bd-f4d3841ef850",
   "metadata": {},
   "outputs": [],
   "source": [
    "arr = np.zeros( (3,3) )"
   ]
  },
  {
   "cell_type": "code",
   "execution_count": 52,
   "id": "427df4e7-68bf-4315-b5b8-e22b1c1ea8bc",
   "metadata": {},
   "outputs": [
    {
     "data": {
      "text/plain": [
       "array([[0., 0., 0.],\n",
       "       [0., 0., 0.],\n",
       "       [0., 0., 0.]])"
      ]
     },
     "execution_count": 52,
     "metadata": {},
     "output_type": "execute_result"
    }
   ],
   "source": [
    "arr"
   ]
  },
  {
   "cell_type": "markdown",
   "id": "d79d9a32-925b-4a66-b25a-6276d1c1a08b",
   "metadata": {},
   "source": [
    "### Q6. Create an identity matrix of shape (5,5) using numpy functions?\n",
    "    [Hint: An identity matrix is a matrix containing 1 diagonally and other elements will be 0.]"
   ]
  },
  {
   "cell_type": "code",
   "execution_count": 53,
   "id": "41d4166a-c9ed-4d90-a9fa-80c7b8bad5fa",
   "metadata": {},
   "outputs": [],
   "source": [
    "arr1 = np.eye(5)"
   ]
  },
  {
   "cell_type": "code",
   "execution_count": 54,
   "id": "7285bb39-5f95-4c50-9193-98c5893e1dd4",
   "metadata": {},
   "outputs": [
    {
     "data": {
      "text/plain": [
       "array([[1., 0., 0., 0., 0.],\n",
       "       [0., 1., 0., 0., 0.],\n",
       "       [0., 0., 1., 0., 0.],\n",
       "       [0., 0., 0., 1., 0.],\n",
       "       [0., 0., 0., 0., 1.]])"
      ]
     },
     "execution_count": 54,
     "metadata": {},
     "output_type": "execute_result"
    }
   ],
   "source": [
    "arr1"
   ]
  }
 ],
 "metadata": {
  "kernelspec": {
   "display_name": "Python 3 (ipykernel)",
   "language": "python",
   "name": "python3"
  },
  "language_info": {
   "codemirror_mode": {
    "name": "ipython",
    "version": 3
   },
   "file_extension": ".py",
   "mimetype": "text/x-python",
   "name": "python",
   "nbconvert_exporter": "python",
   "pygments_lexer": "ipython3",
   "version": "3.10.8"
  }
 },
 "nbformat": 4,
 "nbformat_minor": 5
}
