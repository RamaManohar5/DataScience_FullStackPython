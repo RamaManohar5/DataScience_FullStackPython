{
 "cells": [
  {
   "cell_type": "markdown",
   "id": "a77f72d9-2a8d-4356-b329-28a75994ee68",
   "metadata": {},
   "source": [
    "### Q1. Create a Pandas Series that contains the following data: 4, 8, 15, 16, 23, and 42. Then, print the series."
   ]
  },
  {
   "cell_type": "code",
   "execution_count": 93,
   "id": "9fe511a3-8b88-4f1c-b402-297596a463dd",
   "metadata": {},
   "outputs": [
    {
     "name": "stdout",
     "output_type": "stream",
     "text": [
      "0     4\n",
      "1     8\n",
      "2    15\n",
      "3    16\n",
      "4    23\n",
      "5    42\n",
      "dtype: int64\n"
     ]
    }
   ],
   "source": [
    "import pandas as pd\n",
    "\n",
    "data1 = [4, 8, 15, 16, 23, 42]\n",
    "\n",
    "data1_series = pd.Series(data1) # creating panda series\n",
    "\n",
    "print(data1_series) "
   ]
  },
  {
   "cell_type": "markdown",
   "id": "67bee433-c194-45f2-9d37-c3ce27a8c3ba",
   "metadata": {},
   "source": [
    "### Q2. Create a variable of list type containing 10 elements in it, and apply pandas.Series function on the variable print it."
   ]
  },
  {
   "cell_type": "code",
   "execution_count": 94,
   "id": "22ebda62-08f5-4974-98e6-eaaf607013bf",
   "metadata": {},
   "outputs": [],
   "source": [
    "ls = range(10) # list of 10 elements"
   ]
  },
  {
   "cell_type": "code",
   "execution_count": 95,
   "id": "4386d193-4f75-461c-a1f7-6e8c02744604",
   "metadata": {},
   "outputs": [
    {
     "data": {
      "text/plain": [
       "0    0\n",
       "1    1\n",
       "2    2\n",
       "3    3\n",
       "4    4\n",
       "5    5\n",
       "6    6\n",
       "7    7\n",
       "8    8\n",
       "9    9\n",
       "dtype: int64"
      ]
     },
     "execution_count": 95,
     "metadata": {},
     "output_type": "execute_result"
    }
   ],
   "source": [
    "pd.Series(ls) # converting list to panda series"
   ]
  },
  {
   "cell_type": "markdown",
   "id": "9b8d05e5-abf1-4493-88f3-d8b4cdbc47e8",
   "metadata": {},
   "source": [
    "### Q3. Create a Pandas DataFrame that contains the following data:"
   ]
  },
  {
   "cell_type": "code",
   "execution_count": 96,
   "id": "5f54bfe9-9b35-4d70-b550-fe9cd5a18935",
   "metadata": {},
   "outputs": [],
   "source": [
    "dict1 = {'Name':['Alice', 'Bob', 'Gender'], 'Age' : [25,30,27], 'Gender' : ['Female', 'Male', 'Female']}"
   ]
  },
  {
   "cell_type": "code",
   "execution_count": 97,
   "id": "fc0a45ae-9a47-4d95-8230-774108bc166e",
   "metadata": {},
   "outputs": [],
   "source": [
    "df1 = pd.DataFrame(dict1) # creating data frame "
   ]
  },
  {
   "cell_type": "code",
   "execution_count": 98,
   "id": "4e6017f8-1ba5-4d8f-bbe3-293087728867",
   "metadata": {},
   "outputs": [
    {
     "data": {
      "text/html": [
       "<div>\n",
       "<style scoped>\n",
       "    .dataframe tbody tr th:only-of-type {\n",
       "        vertical-align: middle;\n",
       "    }\n",
       "\n",
       "    .dataframe tbody tr th {\n",
       "        vertical-align: top;\n",
       "    }\n",
       "\n",
       "    .dataframe thead th {\n",
       "        text-align: right;\n",
       "    }\n",
       "</style>\n",
       "<table border=\"1\" class=\"dataframe\">\n",
       "  <thead>\n",
       "    <tr style=\"text-align: right;\">\n",
       "      <th></th>\n",
       "      <th>Name</th>\n",
       "    </tr>\n",
       "  </thead>\n",
       "  <tbody>\n",
       "    <tr>\n",
       "      <th>0</th>\n",
       "      <td>Alice</td>\n",
       "    </tr>\n",
       "    <tr>\n",
       "      <th>1</th>\n",
       "      <td>Bob</td>\n",
       "    </tr>\n",
       "    <tr>\n",
       "      <th>2</th>\n",
       "      <td>Gender</td>\n",
       "    </tr>\n",
       "  </tbody>\n",
       "</table>\n",
       "</div>"
      ],
      "text/plain": [
       "     Name\n",
       "0   Alice\n",
       "1     Bob\n",
       "2  Gender"
      ]
     },
     "execution_count": 98,
     "metadata": {},
     "output_type": "execute_result"
    }
   ],
   "source": [
    "df1.loc[:, ['Name']]"
   ]
  },
  {
   "cell_type": "markdown",
   "id": "036ff47d-6d4e-4f42-9ad6-8de216192f76",
   "metadata": {},
   "source": [
    "### Q4. What is ‘DataFrame’ in pandas and how is it different from pandas.series? Explain with an example.\n",
    "    \n",
    "    DataFrame is a 2-dimensional labeled data structure. We can think of it like a spreadsheet or SQL table, or a dict of Series objects. DataFrame elements can have heterogenous data in them. DataFrames size is mutable, means elements can be dropped, added to DataFrame.\n",
    "    \n",
    "    Panda.series is a 1-dimensional labeled data structure. Series elements must have homogenous data only. Series size is immutable, means size of the series object is immutable.\n",
    "    "
   ]
  },
  {
   "cell_type": "code",
   "execution_count": 99,
   "id": "d5b2a238-625f-4f58-b82d-e62f42c79f0c",
   "metadata": {},
   "outputs": [
    {
     "name": "stdout",
     "output_type": "stream",
     "text": [
      "0     Apple\n",
      "1    Banana\n",
      "2      Kiwi\n",
      "3    Orange\n",
      "dtype: object\n"
     ]
    }
   ],
   "source": [
    "import pandas as pd\n",
    "\n",
    "fruits = ['Apple', 'Banana', 'Kiwi', 'Orange']\n",
    "\n",
    "dry_fruits = ['Cashew', 'Almonds', 'Walnuts', 'Dates']\n",
    "\n",
    "fruits_series = pd.Series(fruits) # creating a panda series using list\n",
    "\n",
    "print(fruits_series)"
   ]
  },
  {
   "cell_type": "code",
   "execution_count": 100,
   "id": "807445b8-138f-43cb-84b9-187f2f49d151",
   "metadata": {},
   "outputs": [
    {
     "name": "stdout",
     "output_type": "stream",
     "text": [
      "0     Cashew\n",
      "1    Almonds\n",
      "2    Walnuts\n",
      "3      Dates\n",
      "dtype: object\n"
     ]
    }
   ],
   "source": [
    "dry_fruits_series = pd.Series(dry_fruits) # creating a panda series using list\n",
    "\n",
    "print(dry_fruits_series)"
   ]
  },
  {
   "cell_type": "code",
   "execution_count": 101,
   "id": "602c7f61-e051-4893-bf17-eeba49423f5b",
   "metadata": {},
   "outputs": [
    {
     "name": "stdout",
     "output_type": "stream",
     "text": [
      "   Fruits Dry_Fruits\n",
      "0   Apple     Cashew\n",
      "1  Banana    Almonds\n",
      "2    Kiwi    Walnuts\n",
      "3  Orange      Dates\n"
     ]
    }
   ],
   "source": [
    "dict2 = {\"Fruits\" : fruits, \"Dry_Fruits\" : dry_fruits} # create a dict\n",
    "\n",
    "data_frame = pd.DataFrame(dict2) # creating a panda data frame using dict\n",
    "\n",
    "print(data_frame)"
   ]
  },
  {
   "cell_type": "markdown",
   "id": "92e05098-367c-47f5-96f0-2214d215df98",
   "metadata": {},
   "source": [
    "### Q5. What are some common functions you can use to manipulate data in a Pandas DataFrame? Can you give an example of when you might use one of these functions?\n",
    "      \n",
    "    We can read the dataframe by using head() function also which is having an argument (n) i.e. number of rows to be displayed.\n",
    "    \n",
    "    Counting the rows and columns in DataFrame using shape(). It returns the no. of rows and columns enclosed in a tuple.\n",
    "    \n",
    "    Summary of Statistics of DataFrame using describe() method.\n",
    "    \n",
    "    Dropping the missing values in DataFrame, it can be done using the dropna() method, it removes all the NaN values in the dataframe\n",
    "    \n",
    "    Merging DataFrames using merge(), arguments passed are the dataframes to be merged along with the column name.\n",
    "    \n",
    "    Renaming the columns of dataframe using rename(), arguments passed are the columns to be renamed & inplace.\n",
    "    \n",
    "    Sorting the DataFrame using sort_values() method.\n",
    "    \n",
    "    .loc is label base & .iloc is integer position based methods used for slicing & indexing of data.\n",
    "    "
   ]
  },
  {
   "cell_type": "code",
   "execution_count": 102,
   "id": "f235faeb-04ae-41fa-b4eb-ac5c3ed62cd8",
   "metadata": {},
   "outputs": [],
   "source": [
    "import pandas as pd"
   ]
  },
  {
   "cell_type": "code",
   "execution_count": 103,
   "id": "0a6bf386-a993-4a0b-af07-c4d91d2c3cf1",
   "metadata": {},
   "outputs": [],
   "source": [
    "dict3 = {'country' : ['India', 'Japana', 'Russia', 'China'], \"code\" : ['IN', 'JP', 'RU', 'CH']}"
   ]
  },
  {
   "cell_type": "code",
   "execution_count": 104,
   "id": "63448939-978c-442b-8978-261569cba959",
   "metadata": {},
   "outputs": [],
   "source": [
    "countries_df = pd.DataFrame(dict3) # creatind data frame"
   ]
  },
  {
   "cell_type": "code",
   "execution_count": 105,
   "id": "495e9aa7-3c83-4e76-9431-73de08aa3a42",
   "metadata": {},
   "outputs": [
    {
     "data": {
      "text/html": [
       "<div>\n",
       "<style scoped>\n",
       "    .dataframe tbody tr th:only-of-type {\n",
       "        vertical-align: middle;\n",
       "    }\n",
       "\n",
       "    .dataframe tbody tr th {\n",
       "        vertical-align: top;\n",
       "    }\n",
       "\n",
       "    .dataframe thead th {\n",
       "        text-align: right;\n",
       "    }\n",
       "</style>\n",
       "<table border=\"1\" class=\"dataframe\">\n",
       "  <thead>\n",
       "    <tr style=\"text-align: right;\">\n",
       "      <th></th>\n",
       "      <th>country</th>\n",
       "      <th>code</th>\n",
       "    </tr>\n",
       "  </thead>\n",
       "  <tbody>\n",
       "    <tr>\n",
       "      <th>0</th>\n",
       "      <td>India</td>\n",
       "      <td>IN</td>\n",
       "    </tr>\n",
       "    <tr>\n",
       "      <th>1</th>\n",
       "      <td>Japana</td>\n",
       "      <td>JP</td>\n",
       "    </tr>\n",
       "    <tr>\n",
       "      <th>2</th>\n",
       "      <td>Russia</td>\n",
       "      <td>RU</td>\n",
       "    </tr>\n",
       "    <tr>\n",
       "      <th>3</th>\n",
       "      <td>China</td>\n",
       "      <td>CH</td>\n",
       "    </tr>\n",
       "  </tbody>\n",
       "</table>\n",
       "</div>"
      ],
      "text/plain": [
       "  country code\n",
       "0   India   IN\n",
       "1  Japana   JP\n",
       "2  Russia   RU\n",
       "3   China   CH"
      ]
     },
     "execution_count": 105,
     "metadata": {},
     "output_type": "execute_result"
    }
   ],
   "source": [
    "countries_df"
   ]
  },
  {
   "cell_type": "code",
   "execution_count": 106,
   "id": "cd2d305b-ae08-49a4-9449-a58f0259ffee",
   "metadata": {},
   "outputs": [
    {
     "data": {
      "text/html": [
       "<div>\n",
       "<style scoped>\n",
       "    .dataframe tbody tr th:only-of-type {\n",
       "        vertical-align: middle;\n",
       "    }\n",
       "\n",
       "    .dataframe tbody tr th {\n",
       "        vertical-align: top;\n",
       "    }\n",
       "\n",
       "    .dataframe thead th {\n",
       "        text-align: right;\n",
       "    }\n",
       "</style>\n",
       "<table border=\"1\" class=\"dataframe\">\n",
       "  <thead>\n",
       "    <tr style=\"text-align: right;\">\n",
       "      <th></th>\n",
       "      <th>country</th>\n",
       "      <th>code</th>\n",
       "    </tr>\n",
       "  </thead>\n",
       "  <tbody>\n",
       "    <tr>\n",
       "      <th>0</th>\n",
       "      <td>India</td>\n",
       "      <td>IN</td>\n",
       "    </tr>\n",
       "    <tr>\n",
       "      <th>1</th>\n",
       "      <td>Japana</td>\n",
       "      <td>JP</td>\n",
       "    </tr>\n",
       "  </tbody>\n",
       "</table>\n",
       "</div>"
      ],
      "text/plain": [
       "  country code\n",
       "0   India   IN\n",
       "1  Japana   JP"
      ]
     },
     "execution_count": 106,
     "metadata": {},
     "output_type": "execute_result"
    }
   ],
   "source": [
    "# We can read the dataframe by using head() function also which is having an argument (n) i.e. number of rows to be displayed.\n",
    "\n",
    "countries_df.head(2)"
   ]
  },
  {
   "cell_type": "code",
   "execution_count": 107,
   "id": "d7501d04-1c4c-407c-86c7-af355fcecda4",
   "metadata": {},
   "outputs": [
    {
     "data": {
      "text/plain": [
       "(4, 2)"
      ]
     },
     "execution_count": 107,
     "metadata": {},
     "output_type": "execute_result"
    }
   ],
   "source": [
    "# Counting the rows and columns in DataFrame using shape(). It returns the no. of rows and columns enclosed in a tuple.\n",
    "\n",
    "countries_df.shape"
   ]
  },
  {
   "cell_type": "code",
   "execution_count": 108,
   "id": "2f484475-ccbc-4b03-b6c2-a2b719600e36",
   "metadata": {},
   "outputs": [
    {
     "data": {
      "text/html": [
       "<div>\n",
       "<style scoped>\n",
       "    .dataframe tbody tr th:only-of-type {\n",
       "        vertical-align: middle;\n",
       "    }\n",
       "\n",
       "    .dataframe tbody tr th {\n",
       "        vertical-align: top;\n",
       "    }\n",
       "\n",
       "    .dataframe thead th {\n",
       "        text-align: right;\n",
       "    }\n",
       "</style>\n",
       "<table border=\"1\" class=\"dataframe\">\n",
       "  <thead>\n",
       "    <tr style=\"text-align: right;\">\n",
       "      <th></th>\n",
       "      <th>country</th>\n",
       "      <th>code</th>\n",
       "    </tr>\n",
       "  </thead>\n",
       "  <tbody>\n",
       "    <tr>\n",
       "      <th>count</th>\n",
       "      <td>4</td>\n",
       "      <td>4</td>\n",
       "    </tr>\n",
       "    <tr>\n",
       "      <th>unique</th>\n",
       "      <td>4</td>\n",
       "      <td>4</td>\n",
       "    </tr>\n",
       "    <tr>\n",
       "      <th>top</th>\n",
       "      <td>India</td>\n",
       "      <td>IN</td>\n",
       "    </tr>\n",
       "    <tr>\n",
       "      <th>freq</th>\n",
       "      <td>1</td>\n",
       "      <td>1</td>\n",
       "    </tr>\n",
       "  </tbody>\n",
       "</table>\n",
       "</div>"
      ],
      "text/plain": [
       "       country code\n",
       "count        4    4\n",
       "unique       4    4\n",
       "top      India   IN\n",
       "freq         1    1"
      ]
     },
     "execution_count": 108,
     "metadata": {},
     "output_type": "execute_result"
    }
   ],
   "source": [
    "# Summary of Statistics of DataFrame using describe() method.\n",
    "\n",
    "countries_df.describe()"
   ]
  },
  {
   "cell_type": "code",
   "execution_count": 109,
   "id": "fa9d9129-c533-4987-9661-0e12eb0f843b",
   "metadata": {},
   "outputs": [
    {
     "data": {
      "text/html": [
       "<div>\n",
       "<style scoped>\n",
       "    .dataframe tbody tr th:only-of-type {\n",
       "        vertical-align: middle;\n",
       "    }\n",
       "\n",
       "    .dataframe tbody tr th {\n",
       "        vertical-align: top;\n",
       "    }\n",
       "\n",
       "    .dataframe thead th {\n",
       "        text-align: right;\n",
       "    }\n",
       "</style>\n",
       "<table border=\"1\" class=\"dataframe\">\n",
       "  <thead>\n",
       "    <tr style=\"text-align: right;\">\n",
       "      <th></th>\n",
       "      <th>country</th>\n",
       "      <th>code</th>\n",
       "    </tr>\n",
       "  </thead>\n",
       "  <tbody>\n",
       "    <tr>\n",
       "      <th>0</th>\n",
       "      <td>India</td>\n",
       "      <td>IN</td>\n",
       "    </tr>\n",
       "    <tr>\n",
       "      <th>1</th>\n",
       "      <td>Japana</td>\n",
       "      <td>JP</td>\n",
       "    </tr>\n",
       "    <tr>\n",
       "      <th>2</th>\n",
       "      <td>Russia</td>\n",
       "      <td>RU</td>\n",
       "    </tr>\n",
       "    <tr>\n",
       "      <th>3</th>\n",
       "      <td>China</td>\n",
       "      <td>CH</td>\n",
       "    </tr>\n",
       "  </tbody>\n",
       "</table>\n",
       "</div>"
      ],
      "text/plain": [
       "  country code\n",
       "0   India   IN\n",
       "1  Japana   JP\n",
       "2  Russia   RU\n",
       "3   China   CH"
      ]
     },
     "execution_count": 109,
     "metadata": {},
     "output_type": "execute_result"
    }
   ],
   "source": [
    "# Dropping the missing values in DataFrame, it can be done using the dropna() method, it removes all the NaN values in the dataframe.\n",
    "\n",
    "countries_df.dropna()"
   ]
  },
  {
   "cell_type": "code",
   "execution_count": 110,
   "id": "5e7ddb83-549c-49af-a982-119f5a390dd6",
   "metadata": {},
   "outputs": [
    {
     "data": {
      "text/html": [
       "<div>\n",
       "<style scoped>\n",
       "    .dataframe tbody tr th:only-of-type {\n",
       "        vertical-align: middle;\n",
       "    }\n",
       "\n",
       "    .dataframe tbody tr th {\n",
       "        vertical-align: top;\n",
       "    }\n",
       "\n",
       "    .dataframe thead th {\n",
       "        text-align: right;\n",
       "    }\n",
       "</style>\n",
       "<table border=\"1\" class=\"dataframe\">\n",
       "  <thead>\n",
       "    <tr style=\"text-align: right;\">\n",
       "      <th></th>\n",
       "      <th>country</th>\n",
       "      <th>code_x</th>\n",
       "      <th>code_y</th>\n",
       "    </tr>\n",
       "  </thead>\n",
       "  <tbody>\n",
       "    <tr>\n",
       "      <th>0</th>\n",
       "      <td>India</td>\n",
       "      <td>IN</td>\n",
       "      <td>IN</td>\n",
       "    </tr>\n",
       "    <tr>\n",
       "      <th>1</th>\n",
       "      <td>Japana</td>\n",
       "      <td>JP</td>\n",
       "      <td>JP</td>\n",
       "    </tr>\n",
       "    <tr>\n",
       "      <th>2</th>\n",
       "      <td>Russia</td>\n",
       "      <td>RU</td>\n",
       "      <td>RU</td>\n",
       "    </tr>\n",
       "    <tr>\n",
       "      <th>3</th>\n",
       "      <td>China</td>\n",
       "      <td>CH</td>\n",
       "      <td>CH</td>\n",
       "    </tr>\n",
       "  </tbody>\n",
       "</table>\n",
       "</div>"
      ],
      "text/plain": [
       "  country code_x code_y\n",
       "0   India     IN     IN\n",
       "1  Japana     JP     JP\n",
       "2  Russia     RU     RU\n",
       "3   China     CH     CH"
      ]
     },
     "execution_count": 110,
     "metadata": {},
     "output_type": "execute_result"
    }
   ],
   "source": [
    "# Merging DataFrames using merge(), arguments passed are the dataframes to be merged along with the column name.\n",
    "\n",
    "countries_df1 = countries_df\n",
    "\n",
    "merged_df = pd.merge(countries_df, countries_df1, on='country')\n",
    "\n",
    "merged_df"
   ]
  },
  {
   "cell_type": "code",
   "execution_count": 111,
   "id": "46c666f3-16ac-4943-9722-420389782121",
   "metadata": {},
   "outputs": [
    {
     "data": {
      "text/html": [
       "<div>\n",
       "<style scoped>\n",
       "    .dataframe tbody tr th:only-of-type {\n",
       "        vertical-align: middle;\n",
       "    }\n",
       "\n",
       "    .dataframe tbody tr th {\n",
       "        vertical-align: top;\n",
       "    }\n",
       "\n",
       "    .dataframe thead th {\n",
       "        text-align: right;\n",
       "    }\n",
       "</style>\n",
       "<table border=\"1\" class=\"dataframe\">\n",
       "  <thead>\n",
       "    <tr style=\"text-align: right;\">\n",
       "      <th></th>\n",
       "      <th>country</th>\n",
       "      <th>code</th>\n",
       "    </tr>\n",
       "  </thead>\n",
       "  <tbody>\n",
       "    <tr>\n",
       "      <th>3</th>\n",
       "      <td>China</td>\n",
       "      <td>CH</td>\n",
       "    </tr>\n",
       "    <tr>\n",
       "      <th>0</th>\n",
       "      <td>India</td>\n",
       "      <td>IN</td>\n",
       "    </tr>\n",
       "    <tr>\n",
       "      <th>1</th>\n",
       "      <td>Japana</td>\n",
       "      <td>JP</td>\n",
       "    </tr>\n",
       "    <tr>\n",
       "      <th>2</th>\n",
       "      <td>Russia</td>\n",
       "      <td>RU</td>\n",
       "    </tr>\n",
       "  </tbody>\n",
       "</table>\n",
       "</div>"
      ],
      "text/plain": [
       "  country code\n",
       "3   China   CH\n",
       "0   India   IN\n",
       "1  Japana   JP\n",
       "2  Russia   RU"
      ]
     },
     "execution_count": 111,
     "metadata": {},
     "output_type": "execute_result"
    }
   ],
   "source": [
    "# Sorting the DataFrame using sort_values() method.\n",
    "\n",
    "countries_df.sort_values(by = ['country'], ascending=True)\n"
   ]
  },
  {
   "cell_type": "markdown",
   "id": "16b8c40c-4941-46da-81d3-4bf276b89632",
   "metadata": {},
   "source": [
    "### Q6. Which of the following is mutable in nature Series, DataFrame, Panel?\n",
    "    \n",
    "    DataFrame is immutable., elements can be added, deleted or modified"
   ]
  },
  {
   "cell_type": "markdown",
   "id": "eaa3b3c7-778a-4cb9-bef6-60a7976af396",
   "metadata": {},
   "source": [
    "### Q7. Create a DataFrame using multiple Series. Explain with an example."
   ]
  },
  {
   "cell_type": "code",
   "execution_count": 112,
   "id": "c7e86ab2-ec14-4abf-afac-f5788ee9b84c",
   "metadata": {},
   "outputs": [],
   "source": [
    "import pandas as pd\n",
    "\n",
    "colors = ['blue', 'yellow', 'green', 'red']\n",
    "\n",
    "colors_series = pd.Series(colors) # create a panda series"
   ]
  },
  {
   "cell_type": "code",
   "execution_count": 113,
   "id": "42595d25-4e99-4e52-9bdf-baa11acb0e32",
   "metadata": {},
   "outputs": [],
   "source": [
    "colors_code = ['#0000FF', '#FFFF00', '#00FF00', '#FF0000']\n",
    "\n",
    "colors_code_series = pd.Series(color_code) # create a panda series"
   ]
  },
  {
   "cell_type": "code",
   "execution_count": 114,
   "id": "858242f2-2c71-438f-acd1-1050ceee3564",
   "metadata": {},
   "outputs": [],
   "source": [
    "colors_single_letter_rep = ['B', 'Y', 'G', 'R']\n",
    "\n",
    "colors_single_letter_rep_series = pd.Series(color_single_letter_rep) # create a panda series"
   ]
  },
  {
   "cell_type": "code",
   "execution_count": 115,
   "id": "78b89a9a-0f97-4859-bf4f-0e94421f18e6",
   "metadata": {},
   "outputs": [
    {
     "data": {
      "text/html": [
       "<div>\n",
       "<style scoped>\n",
       "    .dataframe tbody tr th:only-of-type {\n",
       "        vertical-align: middle;\n",
       "    }\n",
       "\n",
       "    .dataframe tbody tr th {\n",
       "        vertical-align: top;\n",
       "    }\n",
       "\n",
       "    .dataframe thead th {\n",
       "        text-align: right;\n",
       "    }\n",
       "</style>\n",
       "<table border=\"1\" class=\"dataframe\">\n",
       "  <thead>\n",
       "    <tr style=\"text-align: right;\">\n",
       "      <th></th>\n",
       "      <th>0</th>\n",
       "      <th>1</th>\n",
       "      <th>2</th>\n",
       "    </tr>\n",
       "  </thead>\n",
       "  <tbody>\n",
       "    <tr>\n",
       "      <th>0</th>\n",
       "      <td>blue</td>\n",
       "      <td>#0000FF</td>\n",
       "      <td>B</td>\n",
       "    </tr>\n",
       "    <tr>\n",
       "      <th>1</th>\n",
       "      <td>yellow</td>\n",
       "      <td>#FFFF00</td>\n",
       "      <td>Y</td>\n",
       "    </tr>\n",
       "    <tr>\n",
       "      <th>2</th>\n",
       "      <td>green</td>\n",
       "      <td>#00FF00</td>\n",
       "      <td>G</td>\n",
       "    </tr>\n",
       "    <tr>\n",
       "      <th>3</th>\n",
       "      <td>red</td>\n",
       "      <td>#FF0000</td>\n",
       "      <td>R</td>\n",
       "    </tr>\n",
       "  </tbody>\n",
       "</table>\n",
       "</div>"
      ],
      "text/plain": [
       "        0        1  2\n",
       "0    blue  #0000FF  B\n",
       "1  yellow  #FFFF00  Y\n",
       "2   green  #00FF00  G\n",
       "3     red  #FF0000  R"
      ]
     },
     "execution_count": 115,
     "metadata": {},
     "output_type": "execute_result"
    }
   ],
   "source": [
    "colors_data_frame = pd.concat([colors_series, colors_code_series, colors_single_letter_rep_series], axis=1) #concat method combines two or more series into a DataFrame\n",
    "\n",
    "colors_data_frame"
   ]
  },
  {
   "cell_type": "code",
   "execution_count": null,
   "id": "6f873353-5c48-4afa-83d9-c2f7df1bb879",
   "metadata": {},
   "outputs": [],
   "source": []
  },
  {
   "cell_type": "code",
   "execution_count": null,
   "id": "683eaccd-a15e-4bc4-83b0-5a8372772ac6",
   "metadata": {},
   "outputs": [],
   "source": []
  }
 ],
 "metadata": {
  "kernelspec": {
   "display_name": "Python 3 (ipykernel)",
   "language": "python",
   "name": "python3"
  },
  "language_info": {
   "codemirror_mode": {
    "name": "ipython",
    "version": 3
   },
   "file_extension": ".py",
   "mimetype": "text/x-python",
   "name": "python",
   "nbconvert_exporter": "python",
   "pygments_lexer": "ipython3",
   "version": "3.10.8"
  }
 },
 "nbformat": 4,
 "nbformat_minor": 5
}
