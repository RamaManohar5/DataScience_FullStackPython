{
 "cells": [
  {
   "cell_type": "code",
   "execution_count": 7,
   "id": "4eed7190-6aa6-4964-be01-8b3e1067cdaa",
   "metadata": {},
   "outputs": [],
   "source": [
    "from key import key\n",
    "import time\n",
    "import asyncio\n",
    "import aiohttp\n",
    "from urllib.request import urlopen, Request\n",
    "from bs4 import BeautifulSoup\n",
    "import json\n",
    "import csv\n",
    "import requests\n",
    "\n",
    "video_url_string = 'https://www.youtube.com/watch?v='\n",
    "url = \"https://www.googleapis.com/youtube/v3/videos?part=snippet%2CcontentDetails%2Cstatistics&id={}&key={}\"\n",
    "results = []\n",
    "\n",
    "start_time = time.time()\n",
    "\n",
    "def get_videos_ids(url, session):\n",
    "    headers = {\"User-Agent\": \"Mozilla/5.0 (Windows NT 10.0; WOW64) AppleWebKit/537.36 (KHTML, like Gecko) Chrome/47.0.2526.106 Safari/537.36\"}\n",
    "    req = Request(url, headers=headers)\n",
    "    response = urlopen(req)\n",
    "    soup = BeautifulSoup(urlopen(req), features=\"html.parser\")\n",
    "    # channelID from metadata\n",
    "    channel_id = soup.find_all('meta', {'itemprop' : 'channelId'})[0].attrs['content']\n",
    "     # count set to 25, api will fetch javascript for those videos throug API\n",
    "    channel_id_url = f\"https://www.googleapis.com/youtube/v3/search?key={key}&channelId={channel_id}&part=snippet,id&order=date&maxResults=25\"\n",
    "    # closes the connection\n",
    "    response.close() \n",
    "    # open the connection through google api\n",
    "    #req1 = Request(channel_id_url, headers=headers)\n",
    "    #response1 = urlopen(req1)\n",
    "    response1 = requests.get(channel_id_url)\n",
    "    # converts the resonse into json\n",
    "    response_data = response1.json()\n",
    "\n",
    "    # data is in dict format & fetch unique videoId of each video from the channel page.\n",
    "    videos_ids = []\n",
    "    for item in response_data['items']:\n",
    "        for k in (item['id']).keys():\n",
    "            if k == 'videoId':\n",
    "                videos_ids.append(item['id']['videoId'])\n",
    "\n",
    "    return videos_ids"
   ]
  },
  {
   "cell_type": "code",
   "execution_count": 8,
   "id": "899a1122-4894-431c-a0ba-dd4a8ce103d6",
   "metadata": {},
   "outputs": [
    {
     "ename": "NameError",
     "evalue": "name 'resp' is not defined",
     "output_type": "error",
     "traceback": [
      "\u001b[0;31m---------------------------------------------------------------------------\u001b[0m",
      "\u001b[0;31mNameError\u001b[0m                                 Traceback (most recent call last)",
      "Cell \u001b[0;32mIn[8], line 1\u001b[0m\n\u001b[0;32m----> 1\u001b[0m \u001b[43mget_videos_ids\u001b[49m\u001b[43m(\u001b[49m\u001b[38;5;124;43m'\u001b[39;49m\u001b[38;5;124;43mhttps://www.youtube.com/@SimplilearnOfficial/videos\u001b[39;49m\u001b[38;5;124;43m'\u001b[39;49m\u001b[43m,\u001b[49m\u001b[43m \u001b[49m\u001b[38;5;124;43m'\u001b[39;49m\u001b[38;5;124;43mok\u001b[39;49m\u001b[38;5;124;43m'\u001b[39;49m\u001b[43m)\u001b[49m\n",
      "Cell \u001b[0;32mIn[7], line 33\u001b[0m, in \u001b[0;36mget_videos_ids\u001b[0;34m(url, session)\u001b[0m\n\u001b[1;32m     31\u001b[0m response_data \u001b[38;5;241m=\u001b[39m response1\u001b[38;5;241m.\u001b[39mjson() \n\u001b[1;32m     32\u001b[0m \u001b[38;5;66;03m# closes the connection\u001b[39;00m\n\u001b[0;32m---> 33\u001b[0m \u001b[43mresp\u001b[49m\u001b[38;5;241m.\u001b[39mclose() \n\u001b[1;32m     34\u001b[0m \u001b[38;5;66;03m# data is in dict format & fetch unique videoId of each video from the channel page.\u001b[39;00m\n\u001b[1;32m     35\u001b[0m videos_ids \u001b[38;5;241m=\u001b[39m []\n",
      "\u001b[0;31mNameError\u001b[0m: name 'resp' is not defined"
     ]
    }
   ],
   "source": [
    "get_videos_ids('https://www.youtube.com/@SimplilearnOfficial/videos', 'ok')"
   ]
  },
  {
   "cell_type": "code",
   "execution_count": null,
   "id": "f5144f26-bfa9-405f-a0fb-48bf17b2a9e3",
   "metadata": {},
   "outputs": [],
   "source": []
  }
 ],
 "metadata": {
  "kernelspec": {
   "display_name": "Python 3 (ipykernel)",
   "language": "python",
   "name": "python3"
  },
  "language_info": {
   "codemirror_mode": {
    "name": "ipython",
    "version": 3
   },
   "file_extension": ".py",
   "mimetype": "text/x-python",
   "name": "python",
   "nbconvert_exporter": "python",
   "pygments_lexer": "ipython3",
   "version": "3.10.8"
  }
 },
 "nbformat": 4,
 "nbformat_minor": 5
}
