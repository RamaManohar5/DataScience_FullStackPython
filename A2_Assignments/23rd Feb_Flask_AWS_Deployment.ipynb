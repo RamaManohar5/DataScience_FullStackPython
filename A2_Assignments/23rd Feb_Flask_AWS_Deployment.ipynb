{
 "cells": [
  {
   "cell_type": "markdown",
   "id": "512fd988-7aa2-4100-b89f-e3aa79ef566a",
   "metadata": {},
   "source": [
    "### Go to this given URL and solve the following questions\n",
    "    URL: https://www.youtube.com/@PW-Foundation/videos\n",
    "\n",
    "    Q1. Write a python program to extract the video URL of the first five videos.\n",
    "\n",
    "    Q2. Write a python program to extract the URL of the video thumbnails of the first five videos.\n",
    "\n",
    "    Q3. Write a python program to extract the title of the first five videos.\n",
    "\n",
    "    Q4. Write a python program to extract the number of views of the first five videos.\n",
    "\n",
    "    Q5. Write a python program to extract the time of posting of video for the first five videos."
   ]
  },
  {
   "cell_type": "markdown",
   "id": "23db889e-c29a-4b59-a534-cb9ea1a3e227",
   "metadata": {},
   "source": [
    "### Answer :\n",
    "\n",
    "    I've developed the flask webapp to retrive channel Videos data, sorted them as per their published date, saved it in csv file\n",
    "\n",
    "    redirected, wrote the csv data to html website\n",
    "\n",
    "    used some concepts like async to increase the speed of execution."
   ]
  },
  {
   "cell_type": "markdown",
   "id": "4489ab80-fb13-4280-a733-ee962841df0b",
   "metadata": {},
   "source": [
    "aws link to test it : http://ytchannelapi-env.eba-pkrizvam.us-east-1.elasticbeanstalk.com/"
   ]
  },
  {
   "cell_type": "code",
   "execution_count": null,
   "id": "b19e8603-2f6e-4f5c-9501-8c75d8f24310",
   "metadata": {},
   "outputs": [],
   "source": []
  }
 ],
 "metadata": {
  "kernelspec": {
   "display_name": "Python 3 (ipykernel)",
   "language": "python",
   "name": "python3"
  },
  "language_info": {
   "codemirror_mode": {
    "name": "ipython",
    "version": 3
   },
   "file_extension": ".py",
   "mimetype": "text/x-python",
   "name": "python",
   "nbconvert_exporter": "python",
   "pygments_lexer": "ipython3",
   "version": "3.10.8"
  }
 },
 "nbformat": 4,
 "nbformat_minor": 5
}
