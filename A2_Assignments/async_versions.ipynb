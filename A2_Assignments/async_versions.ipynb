{
 "cells": [
  {
   "cell_type": "code",
   "execution_count": 1,
   "id": "e1feaf21-ced0-4fc2-9cad-83ac96d77944",
   "metadata": {},
   "outputs": [
    {
     "name": "stdout",
     "output_type": "stream",
     "text": [
      "time taken 4.616146564483643\n"
     ]
    }
   ],
   "source": [
    "#basic \n",
    "\n",
    "import requests\n",
    "from key import key\n",
    "import time\n",
    "\n",
    "video_ids = ['RYOQOfdN2qg', 'd0jR-2UB9Y0', 'tSfdQJvTKmk', '2j3em0QQaMg', 'IBfj_0Zf2Mo', 'T-y3_T1HgTI', 'RLKW7ZMJOf4', 'EOb1uRP3X_Q', 'tEh3oJcE0do', 'ynToND_xOAM', 'IlkVu_LWGys', 'dCym9EICKGQ', 'mlK_DikhNCA', 'BP8ulGbu1fc', 'L1h5gRxh8w8', '7meW2djIUYk', 'eHesTWt8xQo', 'vukzYCi2_yE', 'CWSmP3LSILo', '8cmQHom36_w', 'WhwU1-DLeVw', 'uNmWxvvyBGU', 'JKoxrqis0Co', 'FEyNt9iFPGc', 'SYG1jQYIxfQ']\n",
    "url = \"https://www.googleapis.com/youtube/v3/videos?part=snippet%2CcontentDetails%2Cstatistics&id={}&key={}\"\n",
    "results = []\n",
    "\n",
    "start_time = time.time()\n",
    "for video_id in video_ids : \n",
    "    resp = requests.get(url.format(video_id, key))\n",
    "    results.append(resp.json())\n",
    "\n",
    "stop_time = time.time()\n",
    "\n",
    "print(f\"time taken {stop_time - start_time}\")"
   ]
  },
  {
   "cell_type": "code",
   "execution_count": 2,
   "id": "39a6448f-8160-474f-975b-88bf5ca18fdc",
   "metadata": {},
   "outputs": [
    {
     "ename": "RuntimeError",
     "evalue": "This event loop is already running",
     "output_type": "error",
     "traceback": [
      "\u001b[0;31m---------------------------------------------------------------------------\u001b[0m",
      "\u001b[0;31mRuntimeError\u001b[0m                              Traceback (most recent call last)",
      "Cell \u001b[0;32mIn[2], line 22\u001b[0m\n\u001b[1;32m     20\u001b[0m \u001b[38;5;66;03m#get_details()\u001b[39;00m\n\u001b[1;32m     21\u001b[0m loop \u001b[38;5;241m=\u001b[39m asyncio\u001b[38;5;241m.\u001b[39mget_event_loop()\n\u001b[0;32m---> 22\u001b[0m \u001b[43mloop\u001b[49m\u001b[38;5;241;43m.\u001b[39;49m\u001b[43mrun_until_complete\u001b[49m\u001b[43m(\u001b[49m\u001b[43mget_details\u001b[49m\u001b[43m(\u001b[49m\u001b[43m)\u001b[49m\u001b[43m)\u001b[49m\n\u001b[1;32m     23\u001b[0m loop\u001b[38;5;241m.\u001b[39mclose()\n\u001b[1;32m     25\u001b[0m stop_time \u001b[38;5;241m=\u001b[39m time\u001b[38;5;241m.\u001b[39mtime()\n",
      "File \u001b[0;32m/opt/conda/lib/python3.10/asyncio/base_events.py:625\u001b[0m, in \u001b[0;36mBaseEventLoop.run_until_complete\u001b[0;34m(self, future)\u001b[0m\n\u001b[1;32m    614\u001b[0m \u001b[38;5;124;03m\"\"\"Run until the Future is done.\u001b[39;00m\n\u001b[1;32m    615\u001b[0m \n\u001b[1;32m    616\u001b[0m \u001b[38;5;124;03mIf the argument is a coroutine, it is wrapped in a Task.\u001b[39;00m\n\u001b[0;32m   (...)\u001b[0m\n\u001b[1;32m    622\u001b[0m \u001b[38;5;124;03mReturn the Future's result, or raise its exception.\u001b[39;00m\n\u001b[1;32m    623\u001b[0m \u001b[38;5;124;03m\"\"\"\u001b[39;00m\n\u001b[1;32m    624\u001b[0m \u001b[38;5;28mself\u001b[39m\u001b[38;5;241m.\u001b[39m_check_closed()\n\u001b[0;32m--> 625\u001b[0m \u001b[38;5;28;43mself\u001b[39;49m\u001b[38;5;241;43m.\u001b[39;49m\u001b[43m_check_running\u001b[49m\u001b[43m(\u001b[49m\u001b[43m)\u001b[49m\n\u001b[1;32m    627\u001b[0m new_task \u001b[38;5;241m=\u001b[39m \u001b[38;5;129;01mnot\u001b[39;00m futures\u001b[38;5;241m.\u001b[39misfuture(future)\n\u001b[1;32m    628\u001b[0m future \u001b[38;5;241m=\u001b[39m tasks\u001b[38;5;241m.\u001b[39mensure_future(future, loop\u001b[38;5;241m=\u001b[39m\u001b[38;5;28mself\u001b[39m)\n",
      "File \u001b[0;32m/opt/conda/lib/python3.10/asyncio/base_events.py:584\u001b[0m, in \u001b[0;36mBaseEventLoop._check_running\u001b[0;34m(self)\u001b[0m\n\u001b[1;32m    582\u001b[0m \u001b[38;5;28;01mdef\u001b[39;00m \u001b[38;5;21m_check_running\u001b[39m(\u001b[38;5;28mself\u001b[39m):\n\u001b[1;32m    583\u001b[0m     \u001b[38;5;28;01mif\u001b[39;00m \u001b[38;5;28mself\u001b[39m\u001b[38;5;241m.\u001b[39mis_running():\n\u001b[0;32m--> 584\u001b[0m         \u001b[38;5;28;01mraise\u001b[39;00m \u001b[38;5;167;01mRuntimeError\u001b[39;00m(\u001b[38;5;124m'\u001b[39m\u001b[38;5;124mThis event loop is already running\u001b[39m\u001b[38;5;124m'\u001b[39m)\n\u001b[1;32m    585\u001b[0m     \u001b[38;5;28;01mif\u001b[39;00m events\u001b[38;5;241m.\u001b[39m_get_running_loop() \u001b[38;5;129;01mis\u001b[39;00m \u001b[38;5;129;01mnot\u001b[39;00m \u001b[38;5;28;01mNone\u001b[39;00m:\n\u001b[1;32m    586\u001b[0m         \u001b[38;5;28;01mraise\u001b[39;00m \u001b[38;5;167;01mRuntimeError\u001b[39;00m(\n\u001b[1;32m    587\u001b[0m             \u001b[38;5;124m'\u001b[39m\u001b[38;5;124mCannot run the event loop while another loop is running\u001b[39m\u001b[38;5;124m'\u001b[39m)\n",
      "\u001b[0;31mRuntimeError\u001b[0m: This event loop is already running"
     ]
    }
   ],
   "source": [
    "#async\n",
    "\n",
    "import requests\n",
    "from key import key\n",
    "import time\n",
    "import asyncio\n",
    "import aiohttp\n",
    "\n",
    "video_ids = ['RYOQOfdN2qg', 'd0jR-2UB9Y0', 'tSfdQJvTKmk', '2j3em0QQaMg', 'IBfj_0Zf2Mo', 'T-y3_T1HgTI', 'RLKW7ZMJOf4', 'EOb1uRP3X_Q', 'tEh3oJcE0do', 'ynToND_xOAM', 'IlkVu_LWGys', 'dCym9EICKGQ', 'mlK_DikhNCA', 'BP8ulGbu1fc', 'L1h5gRxh8w8', '7meW2djIUYk', 'eHesTWt8xQo', 'vukzYCi2_yE', 'CWSmP3LSILo', '8cmQHom36_w', 'WhwU1-DLeVw', 'uNmWxvvyBGU', 'JKoxrqis0Co', 'FEyNt9iFPGc', 'SYG1jQYIxfQ']\n",
    "url = \"https://www.googleapis.com/youtube/v3/videos?part=snippet%2CcontentDetails%2Cstatistics&id={}&key={}\"\n",
    "results = []\n",
    "\n",
    "start_time = time.time()\n",
    "\n",
    "async def get_details():\n",
    "    for video_id in video_ids : \n",
    "        resp = requests.get(url.format(video_id, key))\n",
    "        results.append(resp.json())\n",
    "\n",
    "#get_details()\n",
    "loop = asyncio.get_event_loop()\n",
    "loop.run_until_complete(get_details())\n",
    "loop.close()\n",
    "\n",
    "stop_time = time.time()\n",
    "\n",
    "print(f\"time taken {stop_time - start_time}\")"
   ]
  },
  {
   "cell_type": "code",
   "execution_count": null,
   "id": "5d54e4a4-6fb8-4bc5-9943-5999a5a96e78",
   "metadata": {},
   "outputs": [],
   "source": []
  }
 ],
 "metadata": {
  "kernelspec": {
   "display_name": "Python 3 (ipykernel)",
   "language": "python",
   "name": "python3"
  },
  "language_info": {
   "codemirror_mode": {
    "name": "ipython",
    "version": 3
   },
   "file_extension": ".py",
   "mimetype": "text/x-python",
   "name": "python",
   "nbconvert_exporter": "python",
   "pygments_lexer": "ipython3",
   "version": "3.10.8"
  }
 },
 "nbformat": 4,
 "nbformat_minor": 5
}
