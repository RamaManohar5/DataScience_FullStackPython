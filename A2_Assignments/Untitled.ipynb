{
 "cells": [
  {
   "cell_type": "code",
   "execution_count": 9,
   "id": "d2ac64ed-1b10-4d14-b7d6-c90ba6adf361",
   "metadata": {},
   "outputs": [],
   "source": [
    "import os"
   ]
  },
  {
   "cell_type": "code",
   "execution_count": 10,
   "id": "8ea4f8c2-cc7c-4aa3-aeb9-9d645fc2e118",
   "metadata": {},
   "outputs": [],
   "source": [
    "url = \"https://www.youtube.com/@realmysteries/videos\""
   ]
  },
  {
   "cell_type": "code",
   "execution_count": 11,
   "id": "a736a0c6-5733-4bf9-8d33-d4f0c5e71b58",
   "metadata": {},
   "outputs": [
    {
     "data": {
      "text/plain": [
       "'@realmysteries'"
      ]
     },
     "execution_count": 11,
     "metadata": {},
     "output_type": "execute_result"
    }
   ],
   "source": [
    "url.split('/')[3]"
   ]
  },
  {
   "cell_type": "code",
   "execution_count": 12,
   "id": "9edbc016-c696-475e-938a-a8ef9d660250",
   "metadata": {},
   "outputs": [
    {
     "data": {
      "text/plain": [
       "['https:', '', 'www.youtube.com', '@realmysteries', 'videos']"
      ]
     },
     "execution_count": 12,
     "metadata": {},
     "output_type": "execute_result"
    }
   ],
   "source": [
    "url.split('/')"
   ]
  },
  {
   "cell_type": "code",
   "execution_count": 13,
   "id": "099d394d-9ec8-49fb-92a0-650fa236ce33",
   "metadata": {},
   "outputs": [],
   "source": [
    "current_path = os.getcwd()\n",
    "csv_name = url.split('/')[-2][1:]\n",
    "csv_path = f\"{current_path}/{csv_name}.csv\""
   ]
  },
  {
   "cell_type": "code",
   "execution_count": 14,
   "id": "b98ead9d-6f69-46b4-999a-6a1dd5a359d2",
   "metadata": {},
   "outputs": [
    {
     "data": {
      "text/plain": [
       "'/home/jovyan/work/2_Assignments/realmysteries.csv'"
      ]
     },
     "execution_count": 14,
     "metadata": {},
     "output_type": "execute_result"
    }
   ],
   "source": [
    "csv_path"
   ]
  },
  {
   "cell_type": "code",
   "execution_count": 15,
   "id": "2b612ce8-306e-4ccc-bef2-b3dd91dc52c5",
   "metadata": {},
   "outputs": [
    {
     "data": {
      "text/plain": [
       "['https:', '', 'www.youtube.com', '@realmysteries', 'videos']"
      ]
     },
     "execution_count": 15,
     "metadata": {},
     "output_type": "execute_result"
    }
   ],
   "source": [
    "str(url).split('/')"
   ]
  },
  {
   "cell_type": "code",
   "execution_count": 16,
   "id": "714d23a5-502c-4857-a35c-6ae34c4650ad",
   "metadata": {},
   "outputs": [
    {
     "data": {
      "text/plain": [
       "True"
      ]
     },
     "execution_count": 16,
     "metadata": {},
     "output_type": "execute_result"
    }
   ],
   "source": [
    "'https://' in url"
   ]
  },
  {
   "cell_type": "code",
   "execution_count": 17,
   "id": "5c87b567-a34f-437c-9d3e-918d811bb7c5",
   "metadata": {},
   "outputs": [
    {
     "ename": "SyntaxError",
     "evalue": "invalid syntax (2006355839.py, line 1)",
     "output_type": "error",
     "traceback": [
      "\u001b[0;36m  Cell \u001b[0;32mIn[17], line 1\u001b[0;36m\u001b[0m\n\u001b[0;31m    a:link {\u001b[0m\n\u001b[0m           ^\u001b[0m\n\u001b[0;31mSyntaxError\u001b[0m\u001b[0;31m:\u001b[0m invalid syntax\n"
     ]
    }
   ],
   "source": [
    "a:link {\n",
    "    color: green;\n",
    "    background-color: transparent;\n",
    "    text-decoration: none;\n",
    "  }"
   ]
  }
 ],
 "metadata": {
  "kernelspec": {
   "display_name": "Python 3 (ipykernel)",
   "language": "python",
   "name": "python3"
  },
  "language_info": {
   "codemirror_mode": {
    "name": "ipython",
    "version": 3
   },
   "file_extension": ".py",
   "mimetype": "text/x-python",
   "name": "python",
   "nbconvert_exporter": "python",
   "pygments_lexer": "ipython3",
   "version": "3.10.8"
  }
 },
 "nbformat": 4,
 "nbformat_minor": 5
}
