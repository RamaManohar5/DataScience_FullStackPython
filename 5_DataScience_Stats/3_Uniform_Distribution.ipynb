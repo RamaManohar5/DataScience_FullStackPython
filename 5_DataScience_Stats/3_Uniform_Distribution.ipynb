{
 "cells": [
  {
   "cell_type": "markdown",
   "id": "0279bbae-26ad-4cbd-bc9e-73cf9f2ca936",
   "metadata": {},
   "source": [
    "### Uniform Distribution\n",
    "\n",
    "    1) Continuous Uniform Distribution (pdf)\n",
    "            has a continuous random variable\n",
    "\n",
    "    2) Discrete Uniform Distribution (pmf)\n",
    "            has a discrete random variable"
   ]
  },
  {
   "cell_type": "code",
   "execution_count": null,
   "id": "abda1e92-b08e-468a-a0ba-20014adaad58",
   "metadata": {},
   "outputs": [],
   "source": []
  }
 ],
 "metadata": {
  "kernelspec": {
   "display_name": "Python 3 (ipykernel)",
   "language": "python",
   "name": "python3"
  },
  "language_info": {
   "codemirror_mode": {
    "name": "ipython",
    "version": 3
   },
   "file_extension": ".py",
   "mimetype": "text/x-python",
   "name": "python",
   "nbconvert_exporter": "python",
   "pygments_lexer": "ipython3",
   "version": "3.10.8"
  }
 },
 "nbformat": 4,
 "nbformat_minor": 5
}
