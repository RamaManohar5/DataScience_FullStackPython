{
 "cells": [
  {
   "cell_type": "code",
   "execution_count": 1,
   "id": "6e8d49a6-8800-4de2-ac5c-61da0f464f6b",
   "metadata": {},
   "outputs": [],
   "source": [
    "import numpy as np"
   ]
  },
  {
   "cell_type": "code",
   "execution_count": 2,
   "id": "31132f1b-ec57-4f47-b51c-3b4b768ec96f",
   "metadata": {},
   "outputs": [],
   "source": [
    "# Numpy - Sort, Search & Counting Functions"
   ]
  },
  {
   "cell_type": "code",
   "execution_count": 3,
   "id": "ee9db324-ea8d-49e1-a60c-dc570aa6cd59",
   "metadata": {},
   "outputs": [],
   "source": [
    "arr = np.random.randint(5, 25, (4, 4))"
   ]
  },
  {
   "cell_type": "code",
   "execution_count": 4,
   "id": "26b8e6c7-026b-41b1-b526-ac449157a921",
   "metadata": {},
   "outputs": [
    {
     "data": {
      "text/plain": [
       "array([[ 5, 20, 13, 24],\n",
       "       [17, 17,  6, 22],\n",
       "       [ 8, 21, 23,  7],\n",
       "       [14, 14, 11,  9]])"
      ]
     },
     "execution_count": 4,
     "metadata": {},
     "output_type": "execute_result"
    }
   ],
   "source": [
    "arr"
   ]
  },
  {
   "cell_type": "code",
   "execution_count": 5,
   "id": "0a2144b5-6485-44bd-bb2a-9d8658a68751",
   "metadata": {},
   "outputs": [
    {
     "data": {
      "text/plain": [
       "array([[ 5, 13, 20, 24],\n",
       "       [ 6, 17, 17, 22],\n",
       "       [ 7,  8, 21, 23],\n",
       "       [ 9, 11, 14, 14]])"
      ]
     },
     "execution_count": 5,
     "metadata": {},
     "output_type": "execute_result"
    }
   ],
   "source": [
    "np.sort(arr)"
   ]
  },
  {
   "cell_type": "code",
   "execution_count": 6,
   "id": "830f5fce-97c0-418b-8797-916ee4d99fbb",
   "metadata": {},
   "outputs": [],
   "source": [
    "arr1 = np.array([4,5,2,8,56,12,5,9,5,3,1,6,63,1,4,3,4,6232,7,3,24,0,1,3,5])"
   ]
  },
  {
   "cell_type": "code",
   "execution_count": 7,
   "id": "50fbd2b8-647b-4020-af94-767deb81a9b1",
   "metadata": {},
   "outputs": [
    {
     "data": {
      "text/plain": [
       "array([   0,    1,    1,    1,    2,    3,    3,    3,    3,    4,    4,\n",
       "          4,    5,    5,    5,    5,    6,    7,    8,    9,   12,   24,\n",
       "         56,   63, 6232])"
      ]
     },
     "execution_count": 7,
     "metadata": {},
     "output_type": "execute_result"
    }
   ],
   "source": [
    "np.sort(arr1)"
   ]
  },
  {
   "cell_type": "code",
   "execution_count": 8,
   "id": "671b00c4-9a61-4f30-b91f-56e4f45121f1",
   "metadata": {},
   "outputs": [
    {
     "data": {
      "text/plain": [
       "11"
      ]
     },
     "execution_count": 8,
     "metadata": {},
     "output_type": "execute_result"
    }
   ],
   "source": [
    "np.searchsorted(arr1, 6)"
   ]
  },
  {
   "cell_type": "code",
   "execution_count": 9,
   "id": "81282a07-0fb0-4a13-8575-6899a57f2816",
   "metadata": {},
   "outputs": [
    {
     "data": {
      "text/plain": [
       "24"
      ]
     },
     "execution_count": 9,
     "metadata": {},
     "output_type": "execute_result"
    }
   ],
   "source": [
    "np.count_nonzero(arr1)"
   ]
  },
  {
   "cell_type": "code",
   "execution_count": 11,
   "id": "d73dfc6b-b62b-42b9-843c-6c14b897b928",
   "metadata": {},
   "outputs": [
    {
     "data": {
      "text/plain": [
       "(array([ 0,  1,  2,  3,  4,  5,  6,  7,  8,  9, 11, 12, 14, 15, 16, 17, 18,\n",
       "        19, 20, 23, 24]),)"
      ]
     },
     "execution_count": 11,
     "metadata": {},
     "output_type": "execute_result"
    }
   ],
   "source": [
    "np.where( arr1 > 1 ) # indices of the elements which met condition"
   ]
  },
  {
   "cell_type": "code",
   "execution_count": 12,
   "id": "80aaafa3-2fe3-4a31-9021-6858db820acf",
   "metadata": {},
   "outputs": [
    {
     "data": {
      "text/plain": [
       "array([   4,    5,    8,   56,   12,    5,    9,    5,    3,    6,   63,\n",
       "          4,    3,    4, 6232,    7,    3,   24,    3,    5])"
      ]
     },
     "execution_count": 12,
     "metadata": {},
     "output_type": "execute_result"
    }
   ],
   "source": [
    "np.extract( arr1 > 2, arr1 )"
   ]
  },
  {
   "cell_type": "code",
   "execution_count": 13,
   "id": "22caa3e0-a2b9-4220-999b-4a8f529729f3",
   "metadata": {},
   "outputs": [],
   "source": [
    "# Numpy - Bite Swapping."
   ]
  },
  {
   "cell_type": "code",
   "execution_count": 14,
   "id": "c1d29c06-be38-4e21-ba50-1d35aa49365d",
   "metadata": {},
   "outputs": [
    {
     "data": {
      "text/plain": [
       "array([   4,    5,    2,    8,   56,   12,    5,    9,    5,    3,    1,\n",
       "          6,   63,    1,    4,    3,    4, 6232,    7,    3,   24,    0,\n",
       "          1,    3,    5])"
      ]
     },
     "execution_count": 14,
     "metadata": {},
     "output_type": "execute_result"
    }
   ],
   "source": [
    "arr1"
   ]
  },
  {
   "cell_type": "code",
   "execution_count": 15,
   "id": "489f3bc1-00c3-4c3a-a37d-053d8a571efd",
   "metadata": {},
   "outputs": [
    {
     "data": {
      "text/plain": [
       "array([ 288230376151711744,  360287970189639680,  144115188075855872,\n",
       "        576460752303423488, 4035225266123964416,  864691128455135232,\n",
       "        360287970189639680,  648518346341351424,  360287970189639680,\n",
       "        216172782113783808,   72057594037927936,  432345564227567616,\n",
       "       4539628424389459968,   72057594037927936,  288230376151711744,\n",
       "        216172782113783808,  288230376151711744, 6347823674778714112,\n",
       "        504403158265495552,  216172782113783808, 1729382256910270464,\n",
       "                         0,   72057594037927936,  216172782113783808,\n",
       "        360287970189639680])"
      ]
     },
     "execution_count": 15,
     "metadata": {},
     "output_type": "execute_result"
    }
   ],
   "source": [
    "arr1.byteswap()"
   ]
  },
  {
   "cell_type": "code",
   "execution_count": 16,
   "id": "ffee0841-2c01-415f-8886-ef5506353ca0",
   "metadata": {},
   "outputs": [
    {
     "data": {
      "text/plain": [
       "array([ 288230376151711744,  360287970189639680,  144115188075855872,\n",
       "        576460752303423488, 4035225266123964416,  864691128455135232,\n",
       "        360287970189639680,  648518346341351424,  360287970189639680,\n",
       "        216172782113783808,   72057594037927936,  432345564227567616,\n",
       "       4539628424389459968,   72057594037927936,  288230376151711744,\n",
       "        216172782113783808,  288230376151711744, 6347823674778714112,\n",
       "        504403158265495552,  216172782113783808, 1729382256910270464,\n",
       "                         0,   72057594037927936,  216172782113783808,\n",
       "        360287970189639680])"
      ]
     },
     "execution_count": 16,
     "metadata": {},
     "output_type": "execute_result"
    }
   ],
   "source": [
    "arr1.byteswap(True)"
   ]
  },
  {
   "cell_type": "code",
   "execution_count": 17,
   "id": "898d04bd-a859-4319-b04f-9b44ed0bb804",
   "metadata": {},
   "outputs": [],
   "source": [
    "# Numpy - Copies & Views"
   ]
  },
  {
   "cell_type": "code",
   "execution_count": 20,
   "id": "7c77ac95-efc0-4c6b-9f6d-e50a7374863e",
   "metadata": {},
   "outputs": [
    {
     "data": {
      "text/plain": [
       "array([ 288230376151711744,  360287970189639680,  144115188075855872,\n",
       "        576460752303423488, 4035225266123964416,  864691128455135232,\n",
       "        360287970189639680,  648518346341351424,  360287970189639680,\n",
       "        216172782113783808,   72057594037927936,  432345564227567616,\n",
       "       4539628424389459968,   72057594037927936,  288230376151711744,\n",
       "        216172782113783808,  288230376151711744, 6347823674778714112,\n",
       "        504403158265495552,  216172782113783808, 1729382256910270464,\n",
       "                         0,   72057594037927936,  216172782113783808,\n",
       "        360287970189639680])"
      ]
     },
     "execution_count": 20,
     "metadata": {},
     "output_type": "execute_result"
    }
   ],
   "source": [
    "arr1"
   ]
  },
  {
   "cell_type": "code",
   "execution_count": 21,
   "id": "23780ec8-1515-498f-a1d4-453ffb35a0f0",
   "metadata": {},
   "outputs": [],
   "source": [
    "a = np.copy(arr1) # creates a deep copy"
   ]
  },
  {
   "cell_type": "code",
   "execution_count": 24,
   "id": "5af14736-b43a-42f4-b6ee-b46f7dfc0645",
   "metadata": {},
   "outputs": [],
   "source": [
    "b = arr1.view() # creates a swallow copy"
   ]
  },
  {
   "cell_type": "code",
   "execution_count": 25,
   "id": "8d49c4db-8a42-4f62-bef1-d7a012b0a331",
   "metadata": {},
   "outputs": [
    {
     "data": {
      "text/plain": [
       "array([ 288230376151711744,  360287970189639680,  144115188075855872,\n",
       "        576460752303423488, 4035225266123964416,  864691128455135232,\n",
       "        360287970189639680,  648518346341351424,  360287970189639680,\n",
       "        216172782113783808,   72057594037927936,  432345564227567616,\n",
       "       4539628424389459968,   72057594037927936,  288230376151711744,\n",
       "        216172782113783808,  288230376151711744, 6347823674778714112,\n",
       "        504403158265495552,  216172782113783808, 1729382256910270464,\n",
       "                         0,   72057594037927936,  216172782113783808,\n",
       "        360287970189639680])"
      ]
     },
     "execution_count": 25,
     "metadata": {},
     "output_type": "execute_result"
    }
   ],
   "source": [
    "b"
   ]
  },
  {
   "cell_type": "code",
   "execution_count": 26,
   "id": "5ae95db7-e836-4d14-8c95-a0cf0b47d7fb",
   "metadata": {},
   "outputs": [],
   "source": [
    "b[0] = 234"
   ]
  },
  {
   "cell_type": "code",
   "execution_count": 27,
   "id": "46cb9c7b-29a9-4237-b6e5-08acf8a0b3d7",
   "metadata": {},
   "outputs": [
    {
     "data": {
      "text/plain": [
       "array([                234,  360287970189639680,  144115188075855872,\n",
       "        576460752303423488, 4035225266123964416,  864691128455135232,\n",
       "        360287970189639680,  648518346341351424,  360287970189639680,\n",
       "        216172782113783808,   72057594037927936,  432345564227567616,\n",
       "       4539628424389459968,   72057594037927936,  288230376151711744,\n",
       "        216172782113783808,  288230376151711744, 6347823674778714112,\n",
       "        504403158265495552,  216172782113783808, 1729382256910270464,\n",
       "                         0,   72057594037927936,  216172782113783808,\n",
       "        360287970189639680])"
      ]
     },
     "execution_count": 27,
     "metadata": {},
     "output_type": "execute_result"
    }
   ],
   "source": [
    "b"
   ]
  },
  {
   "cell_type": "code",
   "execution_count": 28,
   "id": "3989eedd-22c3-45af-940b-f5ee05435f59",
   "metadata": {},
   "outputs": [
    {
     "data": {
      "text/plain": [
       "array([                234,  360287970189639680,  144115188075855872,\n",
       "        576460752303423488, 4035225266123964416,  864691128455135232,\n",
       "        360287970189639680,  648518346341351424,  360287970189639680,\n",
       "        216172782113783808,   72057594037927936,  432345564227567616,\n",
       "       4539628424389459968,   72057594037927936,  288230376151711744,\n",
       "        216172782113783808,  288230376151711744, 6347823674778714112,\n",
       "        504403158265495552,  216172782113783808, 1729382256910270464,\n",
       "                         0,   72057594037927936,  216172782113783808,\n",
       "        360287970189639680])"
      ]
     },
     "execution_count": 28,
     "metadata": {},
     "output_type": "execute_result"
    }
   ],
   "source": [
    "arr1"
   ]
  },
  {
   "cell_type": "code",
   "execution_count": 29,
   "id": "47d93bfa-28d6-4b6f-b39d-1dc9a4f6787e",
   "metadata": {},
   "outputs": [],
   "source": [
    "# Numpy - Matrix libraby"
   ]
  },
  {
   "cell_type": "code",
   "execution_count": 30,
   "id": "c8a78e78-4ad9-4673-8f11-9a373edc81ab",
   "metadata": {},
   "outputs": [],
   "source": [
    "import numpy.matlib as nm"
   ]
  },
  {
   "cell_type": "code",
   "execution_count": 32,
   "id": "f7cb60e4-9d40-489f-a731-43142e46019e",
   "metadata": {},
   "outputs": [
    {
     "data": {
      "text/plain": [
       "matrix([[0., 0., 0., 0., 0.]])"
      ]
     },
     "execution_count": 32,
     "metadata": {},
     "output_type": "execute_result"
    }
   ],
   "source": [
    "nm.zeros(5) # creates a 2D matrix"
   ]
  },
  {
   "cell_type": "code",
   "execution_count": 33,
   "id": "9c810591-9300-4c25-ac24-d6527cee7f33",
   "metadata": {},
   "outputs": [
    {
     "data": {
      "text/plain": [
       "matrix([[1., 1., 1., 1.],\n",
       "        [1., 1., 1., 1.],\n",
       "        [1., 1., 1., 1.]])"
      ]
     },
     "execution_count": 33,
     "metadata": {},
     "output_type": "execute_result"
    }
   ],
   "source": [
    "nm.ones((3, 4))"
   ]
  },
  {
   "cell_type": "code",
   "execution_count": 34,
   "id": "54634564-3d91-46dc-8d8f-888d3c50f22f",
   "metadata": {},
   "outputs": [
    {
     "data": {
      "text/plain": [
       "matrix([[1., 0., 0., 0.],\n",
       "        [0., 1., 0., 0.],\n",
       "        [0., 0., 1., 0.],\n",
       "        [0., 0., 0., 1.]])"
      ]
     },
     "execution_count": 34,
     "metadata": {},
     "output_type": "execute_result"
    }
   ],
   "source": [
    "nm.eye(4)"
   ]
  },
  {
   "cell_type": "code",
   "execution_count": 35,
   "id": "9dcc4e25-46a6-4ce0-98a5-0576baf33e39",
   "metadata": {},
   "outputs": [],
   "source": [
    "# Numpy  - Linear Algebra"
   ]
  },
  {
   "cell_type": "code",
   "execution_count": 39,
   "id": "9146a91e-21f7-48ae-aece-75be995d2d57",
   "metadata": {},
   "outputs": [],
   "source": [
    "a = np.random.randint(1,10, (4, 4))"
   ]
  },
  {
   "cell_type": "code",
   "execution_count": 40,
   "id": "c39a903f-d6a3-4e89-9498-1142945e572f",
   "metadata": {},
   "outputs": [],
   "source": [
    "b = np.random.randint(1,10, (4, 4))"
   ]
  },
  {
   "cell_type": "code",
   "execution_count": 41,
   "id": "48cbbb07-89e1-4003-b0d4-f286b0647989",
   "metadata": {},
   "outputs": [
    {
     "data": {
      "text/plain": [
       "array([[5, 8, 3, 4],\n",
       "       [2, 3, 9, 4],\n",
       "       [7, 5, 2, 2],\n",
       "       [5, 7, 3, 5]])"
      ]
     },
     "execution_count": 41,
     "metadata": {},
     "output_type": "execute_result"
    }
   ],
   "source": [
    "a"
   ]
  },
  {
   "cell_type": "code",
   "execution_count": 42,
   "id": "cebc7b92-bc3d-4a7e-942c-2f658ac5bcf9",
   "metadata": {},
   "outputs": [
    {
     "data": {
      "text/plain": [
       "array([[8, 8, 3, 1],\n",
       "       [8, 4, 2, 7],\n",
       "       [4, 9, 3, 7],\n",
       "       [5, 5, 4, 6]])"
      ]
     },
     "execution_count": 42,
     "metadata": {},
     "output_type": "execute_result"
    }
   ],
   "source": [
    "b"
   ]
  },
  {
   "cell_type": "code",
   "execution_count": 43,
   "id": "99d82c60-1245-41e6-8aa4-16ec5fb4c5aa",
   "metadata": {},
   "outputs": [
    {
     "data": {
      "text/plain": [
       "array([[136, 119,  56, 106],\n",
       "       [ 96, 129,  55, 110],\n",
       "       [114, 104,  45,  68],\n",
       "       [133, 120,  58, 105]])"
      ]
     },
     "execution_count": 43,
     "metadata": {},
     "output_type": "execute_result"
    }
   ],
   "source": [
    "np.dot(a, b)"
   ]
  },
  {
   "cell_type": "code",
   "execution_count": 45,
   "id": "8df280a8-b5a8-4589-b2b2-cbf56d9be941",
   "metadata": {},
   "outputs": [
    {
     "data": {
      "text/plain": [
       "array([[136, 119,  56, 106],\n",
       "       [ 96, 129,  55, 110],\n",
       "       [114, 104,  45,  68],\n",
       "       [133, 120,  58, 105]])"
      ]
     },
     "execution_count": 45,
     "metadata": {},
     "output_type": "execute_result"
    }
   ],
   "source": [
    "a@b"
   ]
  },
  {
   "cell_type": "code",
   "execution_count": null,
   "id": "18b92a11-961d-4ee9-8148-94c93968373d",
   "metadata": {},
   "outputs": [],
   "source": []
  }
 ],
 "metadata": {
  "kernelspec": {
   "display_name": "Python 3 (ipykernel)",
   "language": "python",
   "name": "python3"
  },
  "language_info": {
   "codemirror_mode": {
    "name": "ipython",
    "version": 3
   },
   "file_extension": ".py",
   "mimetype": "text/x-python",
   "name": "python",
   "nbconvert_exporter": "python",
   "pygments_lexer": "ipython3",
   "version": "3.10.8"
  }
 },
 "nbformat": 4,
 "nbformat_minor": 5
}
