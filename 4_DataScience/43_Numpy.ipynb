{
 "cells": [
  {
   "cell_type": "code",
   "execution_count": 10,
   "id": "13adb9c2-e3ca-4a6d-ba17-8f0a0c2e2de9",
   "metadata": {},
   "outputs": [],
   "source": [
    "import numpy as np"
   ]
  },
  {
   "cell_type": "code",
   "execution_count": 11,
   "id": "5bb7fc88-60b6-4abf-8eb1-d63f589747b5",
   "metadata": {},
   "outputs": [],
   "source": [
    "# Numpy - Array Manipulation"
   ]
  },
  {
   "cell_type": "code",
   "execution_count": 12,
   "id": "60e1c02b-cc9d-4f4d-9281-c2e75ba6773d",
   "metadata": {},
   "outputs": [],
   "source": [
    "arr = np.random.randint(1, 10, (4, 4))"
   ]
  },
  {
   "cell_type": "code",
   "execution_count": 13,
   "id": "5a0ccbba-da31-4e16-bd95-2d889f3d3f82",
   "metadata": {},
   "outputs": [
    {
     "data": {
      "text/plain": [
       "array([[5, 3, 3, 4],\n",
       "       [7, 5, 2, 4],\n",
       "       [3, 1, 3, 4],\n",
       "       [5, 7, 4, 7]])"
      ]
     },
     "execution_count": 13,
     "metadata": {},
     "output_type": "execute_result"
    }
   ],
   "source": [
    "arr"
   ]
  },
  {
   "cell_type": "code",
   "execution_count": 14,
   "id": "fbcd07b8-bcb1-42ba-9454-e663e4c00f5d",
   "metadata": {},
   "outputs": [
    {
     "data": {
      "text/plain": [
       "array([[5, 3],\n",
       "       [3, 4],\n",
       "       [7, 5],\n",
       "       [2, 4],\n",
       "       [3, 1],\n",
       "       [3, 4],\n",
       "       [5, 7],\n",
       "       [4, 7]])"
      ]
     },
     "execution_count": 14,
     "metadata": {},
     "output_type": "execute_result"
    }
   ],
   "source": [
    "arr.reshape(8, 2)"
   ]
  },
  {
   "cell_type": "code",
   "execution_count": 15,
   "id": "5851b870-1f6b-42d1-9d78-4fab5f2092d2",
   "metadata": {},
   "outputs": [
    {
     "data": {
      "text/plain": [
       "array([[5, 7, 3, 5],\n",
       "       [3, 5, 1, 7],\n",
       "       [3, 2, 3, 4],\n",
       "       [4, 4, 4, 7]])"
      ]
     },
     "execution_count": 15,
     "metadata": {},
     "output_type": "execute_result"
    }
   ],
   "source": [
    "arr.T # transpose"
   ]
  },
  {
   "cell_type": "code",
   "execution_count": 16,
   "id": "08c2dcc2-755c-4c66-aefc-c8da311044f9",
   "metadata": {},
   "outputs": [
    {
     "data": {
      "text/plain": [
       "array([5, 3, 3, 4, 7, 5, 2, 4, 3, 1, 3, 4, 5, 7, 4, 7])"
      ]
     },
     "execution_count": 16,
     "metadata": {},
     "output_type": "execute_result"
    }
   ],
   "source": [
    "arr.flatten() # flattening the array"
   ]
  },
  {
   "cell_type": "code",
   "execution_count": 18,
   "id": "c1824bbd-ab83-4919-9bc8-9547559f9fa1",
   "metadata": {},
   "outputs": [
    {
     "data": {
      "text/plain": [
       "array([[[5, 3, 3, 4]],\n",
       "\n",
       "       [[7, 5, 2, 4]],\n",
       "\n",
       "       [[3, 1, 3, 4]],\n",
       "\n",
       "       [[5, 7, 4, 7]]])"
      ]
     },
     "execution_count": 18,
     "metadata": {},
     "output_type": "execute_result"
    }
   ],
   "source": [
    "np.expand_dims(arr, axis=1) # expanding the dimensions of an anrray (axis=1 is column wise)"
   ]
  },
  {
   "cell_type": "code",
   "execution_count": 19,
   "id": "0ed60cbc-205a-445a-bd76-824447961a6a",
   "metadata": {},
   "outputs": [
    {
     "data": {
      "text/plain": [
       "array([[[5, 3, 3, 4],\n",
       "        [7, 5, 2, 4],\n",
       "        [3, 1, 3, 4],\n",
       "        [5, 7, 4, 7]]])"
      ]
     },
     "execution_count": 19,
     "metadata": {},
     "output_type": "execute_result"
    }
   ],
   "source": [
    "np.expand_dims(arr, axis=0) # expanding the dimensions of an anrray (axis=0 is row wise)"
   ]
  },
  {
   "cell_type": "code",
   "execution_count": 20,
   "id": "4fcee90a-dd7d-4553-88c3-d6ad4444ae04",
   "metadata": {},
   "outputs": [],
   "source": [
    "data = np.array([ [1], [2], [3] ])"
   ]
  },
  {
   "cell_type": "code",
   "execution_count": 21,
   "id": "c20c01a2-b03c-4c24-b539-0b61c73dfd6d",
   "metadata": {},
   "outputs": [
    {
     "data": {
      "text/plain": [
       "array([[1],\n",
       "       [2],\n",
       "       [3]])"
      ]
     },
     "execution_count": 21,
     "metadata": {},
     "output_type": "execute_result"
    }
   ],
   "source": [
    "data"
   ]
  },
  {
   "cell_type": "code",
   "execution_count": 22,
   "id": "b9de5502-19e6-4a18-a142-23911074885f",
   "metadata": {},
   "outputs": [
    {
     "data": {
      "text/plain": [
       "array([1, 2, 3])"
      ]
     },
     "execution_count": 22,
     "metadata": {},
     "output_type": "execute_result"
    }
   ],
   "source": [
    "np.squeeze(data)"
   ]
  },
  {
   "cell_type": "code",
   "execution_count": 23,
   "id": "1adccaaa-6b3c-43ea-9166-230d949ebc41",
   "metadata": {},
   "outputs": [
    {
     "data": {
      "text/plain": [
       "array([1, 1, 2, 2, 3, 3])"
      ]
     },
     "execution_count": 23,
     "metadata": {},
     "output_type": "execute_result"
    }
   ],
   "source": [
    "np.repeat(data, 2)"
   ]
  },
  {
   "cell_type": "code",
   "execution_count": 24,
   "id": "9d3364da-0da6-430f-8438-7ac2bc326869",
   "metadata": {},
   "outputs": [
    {
     "data": {
      "text/plain": [
       "array([1, 1, 1, 1, 2, 2, 2, 2, 3, 3, 3, 3])"
      ]
     },
     "execution_count": 24,
     "metadata": {},
     "output_type": "execute_result"
    }
   ],
   "source": [
    "np.repeat(data, 4)"
   ]
  },
  {
   "cell_type": "code",
   "execution_count": 25,
   "id": "d9932108-bccc-4fe5-b03b-0d4692811a33",
   "metadata": {},
   "outputs": [
    {
     "data": {
      "text/plain": [
       "array([[1],\n",
       "       [2],\n",
       "       [3]])"
      ]
     },
     "execution_count": 25,
     "metadata": {},
     "output_type": "execute_result"
    }
   ],
   "source": [
    "np.roll(data, 3)"
   ]
  },
  {
   "cell_type": "code",
   "execution_count": 26,
   "id": "713c588d-753c-466c-9626-669faa0e372f",
   "metadata": {},
   "outputs": [
    {
     "data": {
      "text/plain": [
       "array([[2],\n",
       "       [3],\n",
       "       [1]])"
      ]
     },
     "execution_count": 26,
     "metadata": {},
     "output_type": "execute_result"
    }
   ],
   "source": [
    "np.roll(data, 2)"
   ]
  },
  {
   "cell_type": "code",
   "execution_count": 28,
   "id": "f77f7f93-9cb0-487b-9598-44fda2514a86",
   "metadata": {},
   "outputs": [
    {
     "data": {
      "text/plain": [
       "array([[1, 0, 0, 0],\n",
       "       [0, 2, 0, 0],\n",
       "       [0, 0, 3, 0],\n",
       "       [0, 0, 0, 4]])"
      ]
     },
     "execution_count": 28,
     "metadata": {},
     "output_type": "execute_result"
    }
   ],
   "source": [
    "np.diag(np.array([1,2,3,4])) # diagnoal matrix"
   ]
  },
  {
   "cell_type": "code",
   "execution_count": 29,
   "id": "f1236e4a-6f8f-4cf8-877e-2354327174fa",
   "metadata": {},
   "outputs": [],
   "source": [
    "# Numpy - Binaray Operations"
   ]
  },
  {
   "cell_type": "code",
   "execution_count": 30,
   "id": "9a281f79-257a-4212-9abe-3194e32aae79",
   "metadata": {},
   "outputs": [],
   "source": [
    "arr1 = np.random.randint(1, 10, (3,4))\n",
    "\n",
    "arr2 = np.random.randint(1, 10, (3,4))"
   ]
  },
  {
   "cell_type": "code",
   "execution_count": 31,
   "id": "7a0dcd6d-2180-49dc-b812-3090906d64c4",
   "metadata": {},
   "outputs": [
    {
     "data": {
      "text/plain": [
       "array([[6, 3, 2, 4],\n",
       "       [6, 3, 3, 6],\n",
       "       [8, 9, 9, 8]])"
      ]
     },
     "execution_count": 31,
     "metadata": {},
     "output_type": "execute_result"
    }
   ],
   "source": [
    "arr1"
   ]
  },
  {
   "cell_type": "code",
   "execution_count": 32,
   "id": "869ebd0f-862d-41d9-8272-497cdb252a9d",
   "metadata": {},
   "outputs": [
    {
     "data": {
      "text/plain": [
       "array([[7, 8, 4, 1],\n",
       "       [7, 7, 7, 3],\n",
       "       [9, 1, 9, 1]])"
      ]
     },
     "execution_count": 32,
     "metadata": {},
     "output_type": "execute_result"
    }
   ],
   "source": [
    "arr2"
   ]
  },
  {
   "cell_type": "code",
   "execution_count": 33,
   "id": "779c0ecf-861b-47f8-b1ce-552b4896b57e",
   "metadata": {},
   "outputs": [
    {
     "data": {
      "text/plain": [
       "array([[13, 11,  6,  5],\n",
       "       [13, 10, 10,  9],\n",
       "       [17, 10, 18,  9]])"
      ]
     },
     "execution_count": 33,
     "metadata": {},
     "output_type": "execute_result"
    }
   ],
   "source": [
    "arr1 + arr2"
   ]
  },
  {
   "cell_type": "code",
   "execution_count": 34,
   "id": "0c89b3d8-4a67-4658-9785-fc9e29519ab3",
   "metadata": {},
   "outputs": [
    {
     "data": {
      "text/plain": [
       "array([[42, 24,  8,  4],\n",
       "       [42, 21, 21, 18],\n",
       "       [72,  9, 81,  8]])"
      ]
     },
     "execution_count": 34,
     "metadata": {},
     "output_type": "execute_result"
    }
   ],
   "source": [
    "arr1 * arr2"
   ]
  },
  {
   "cell_type": "code",
   "execution_count": 35,
   "id": "9348da31-27d8-45dd-8e53-f0c9875c31f0",
   "metadata": {},
   "outputs": [
    {
     "data": {
      "text/plain": [
       "array([[-1, -5, -2,  3],\n",
       "       [-1, -4, -4,  3],\n",
       "       [-1,  8,  0,  7]])"
      ]
     },
     "execution_count": 35,
     "metadata": {},
     "output_type": "execute_result"
    }
   ],
   "source": [
    "arr1 - arr2"
   ]
  },
  {
   "cell_type": "code",
   "execution_count": 36,
   "id": "f12abce3-46fc-41ce-8a10-5f3a027b457e",
   "metadata": {},
   "outputs": [
    {
     "data": {
      "text/plain": [
       "array([[0.85714286, 0.375     , 0.5       , 4.        ],\n",
       "       [0.85714286, 0.42857143, 0.42857143, 2.        ],\n",
       "       [0.88888889, 9.        , 1.        , 8.        ]])"
      ]
     },
     "execution_count": 36,
     "metadata": {},
     "output_type": "execute_result"
    }
   ],
   "source": [
    "arr1 / arr2"
   ]
  },
  {
   "cell_type": "code",
   "execution_count": 37,
   "id": "83930d16-8091-4158-94a7-8dce813fb55d",
   "metadata": {},
   "outputs": [
    {
     "data": {
      "text/plain": [
       "array([[   279936,      6561,        16,         4],\n",
       "       [   279936,      2187,      2187,       216],\n",
       "       [134217728,         9, 387420489,         8]])"
      ]
     },
     "execution_count": 37,
     "metadata": {},
     "output_type": "execute_result"
    }
   ],
   "source": [
    "arr1 ** arr2"
   ]
  },
  {
   "cell_type": "code",
   "execution_count": 38,
   "id": "6e4f2430-52d9-4b32-bc3c-90f581b59934",
   "metadata": {},
   "outputs": [
    {
     "data": {
      "text/plain": [
       "array([[ -7,  -4,  -3,  -5],\n",
       "       [ -7,  -4,  -4,  -7],\n",
       "       [ -9, -10, -10,  -9]])"
      ]
     },
     "execution_count": 38,
     "metadata": {},
     "output_type": "execute_result"
    }
   ],
   "source": [
    "~arr1"
   ]
  },
  {
   "cell_type": "code",
   "execution_count": 39,
   "id": "7ea67927-a58b-4502-a9f6-1a688b62e385",
   "metadata": {},
   "outputs": [
    {
     "data": {
      "text/plain": [
       "array([[6, 3, 2, 4],\n",
       "       [6, 3, 3, 6],\n",
       "       [8, 9, 9, 8]])"
      ]
     },
     "execution_count": 39,
     "metadata": {},
     "output_type": "execute_result"
    }
   ],
   "source": [
    "arr1"
   ]
  },
  {
   "cell_type": "code",
   "execution_count": 40,
   "id": "c008eab4-168a-473d-8806-b1460747e4e6",
   "metadata": {},
   "outputs": [
    {
     "data": {
      "text/plain": [
       "array([[False, False, False,  True],\n",
       "       [False, False, False,  True],\n",
       "       [False,  True, False,  True]])"
      ]
     },
     "execution_count": 40,
     "metadata": {},
     "output_type": "execute_result"
    }
   ],
   "source": [
    "arr1 > arr2"
   ]
  },
  {
   "cell_type": "code",
   "execution_count": 41,
   "id": "cdffb92f-6a94-42bb-b419-058b1bab055c",
   "metadata": {},
   "outputs": [],
   "source": [
    "# Numpy - String Operations"
   ]
  },
  {
   "cell_type": "code",
   "execution_count": 52,
   "id": "db0b3b77-31ec-4669-96cb-0c1186b6f589",
   "metadata": {},
   "outputs": [],
   "source": [
    "arr2 = np.array(['Rama', 'manohar'])"
   ]
  },
  {
   "cell_type": "code",
   "execution_count": 53,
   "id": "f0f07841-b4cb-4823-b764-a0e489f9683b",
   "metadata": {},
   "outputs": [
    {
     "data": {
      "text/plain": [
       "array(['Rama', 'manohar'], dtype='<U7')"
      ]
     },
     "execution_count": 53,
     "metadata": {},
     "output_type": "execute_result"
    }
   ],
   "source": [
    "arr2"
   ]
  },
  {
   "cell_type": "code",
   "execution_count": 54,
   "id": "39fd02af-c9f3-4643-8148-ca98261a4224",
   "metadata": {},
   "outputs": [
    {
     "data": {
      "text/plain": [
       "array(['RAMA', 'MANOHAR'], dtype='<U7')"
      ]
     },
     "execution_count": 54,
     "metadata": {},
     "output_type": "execute_result"
    }
   ],
   "source": [
    "np.char.upper(arr2)"
   ]
  },
  {
   "cell_type": "code",
   "execution_count": 55,
   "id": "149f3981-194a-4036-bfe2-c2d373b9bac0",
   "metadata": {},
   "outputs": [
    {
     "data": {
      "text/plain": [
       "array(['Rama', 'Manohar'], dtype='<U7')"
      ]
     },
     "execution_count": 55,
     "metadata": {},
     "output_type": "execute_result"
    }
   ],
   "source": [
    "np.char.capitalize(arr2)"
   ]
  },
  {
   "cell_type": "code",
   "execution_count": 51,
   "id": "259cb321-7e39-40c8-bbcf-c3aa756a1f30",
   "metadata": {},
   "outputs": [
    {
     "data": {
      "text/plain": [
       "array(['RAMA', ',MANOHAR'], dtype='<U8')"
      ]
     },
     "execution_count": 51,
     "metadata": {},
     "output_type": "execute_result"
    }
   ],
   "source": [
    "np.char.upper(arr2)"
   ]
  },
  {
   "cell_type": "code",
   "execution_count": 56,
   "id": "5e22aeaa-c305-4723-b141-d830aedec428",
   "metadata": {},
   "outputs": [
    {
     "data": {
      "text/plain": [
       "array(['Rama', 'Manohar'], dtype='<U7')"
      ]
     },
     "execution_count": 56,
     "metadata": {},
     "output_type": "execute_result"
    }
   ],
   "source": [
    "np.char.title(arr2)"
   ]
  },
  {
   "cell_type": "code",
   "execution_count": 57,
   "id": "35956b24-25d8-448f-b67f-6ef34898ad4e",
   "metadata": {},
   "outputs": [],
   "source": [
    "# Numpy - Mathematical Operations"
   ]
  },
  {
   "cell_type": "code",
   "execution_count": 58,
   "id": "6ce68729-ea57-497e-92f4-fc5055203478",
   "metadata": {},
   "outputs": [
    {
     "data": {
      "text/plain": [
       "array([[6, 3, 2, 4],\n",
       "       [6, 3, 3, 6],\n",
       "       [8, 9, 9, 8]])"
      ]
     },
     "execution_count": 58,
     "metadata": {},
     "output_type": "execute_result"
    }
   ],
   "source": [
    "arr1"
   ]
  },
  {
   "cell_type": "code",
   "execution_count": 59,
   "id": "333eadea-2edb-4048-b6f2-509c612ef098",
   "metadata": {},
   "outputs": [
    {
     "data": {
      "text/plain": [
       "array([[-0.2794155 ,  0.14112001,  0.90929743, -0.7568025 ],\n",
       "       [-0.2794155 ,  0.14112001,  0.14112001, -0.2794155 ],\n",
       "       [ 0.98935825,  0.41211849,  0.41211849,  0.98935825]])"
      ]
     },
     "execution_count": 59,
     "metadata": {},
     "output_type": "execute_result"
    }
   ],
   "source": [
    "np.sin(arr1)"
   ]
  },
  {
   "cell_type": "code",
   "execution_count": 60,
   "id": "498ffd7c-dd12-4760-8348-429fef0f2315",
   "metadata": {},
   "outputs": [
    {
     "data": {
      "text/plain": [
       "array([[ 0.96017029, -0.9899925 , -0.41614684, -0.65364362],\n",
       "       [ 0.96017029, -0.9899925 , -0.9899925 ,  0.96017029],\n",
       "       [-0.14550003, -0.91113026, -0.91113026, -0.14550003]])"
      ]
     },
     "execution_count": 60,
     "metadata": {},
     "output_type": "execute_result"
    }
   ],
   "source": [
    "np.cos(arr1)"
   ]
  },
  {
   "cell_type": "code",
   "execution_count": 61,
   "id": "cee6fd40-6ee8-4b3e-912b-283eaddda545",
   "metadata": {},
   "outputs": [
    {
     "data": {
      "text/plain": [
       "array([[-0.29100619, -0.14254654, -2.18503986,  1.15782128],\n",
       "       [-0.29100619, -0.14254654, -0.14254654, -0.29100619],\n",
       "       [-6.79971146, -0.45231566, -0.45231566, -6.79971146]])"
      ]
     },
     "execution_count": 61,
     "metadata": {},
     "output_type": "execute_result"
    }
   ],
   "source": [
    "np.tan(arr1)"
   ]
  },
  {
   "cell_type": "code",
   "execution_count": 62,
   "id": "0c14d074-7beb-49ce-89a8-2c4f3be4dbab",
   "metadata": {},
   "outputs": [
    {
     "data": {
      "text/plain": [
       "array([[0.77815125, 0.47712125, 0.30103   , 0.60205999],\n",
       "       [0.77815125, 0.47712125, 0.47712125, 0.77815125],\n",
       "       [0.90308999, 0.95424251, 0.95424251, 0.90308999]])"
      ]
     },
     "execution_count": 62,
     "metadata": {},
     "output_type": "execute_result"
    }
   ],
   "source": [
    "np.log10(arr1)"
   ]
  },
  {
   "cell_type": "code",
   "execution_count": 63,
   "id": "502a6f91-35e6-4fd1-b47f-01a321dd5184",
   "metadata": {},
   "outputs": [
    {
     "data": {
      "text/plain": [
       "array([[4.03428793e+02, 2.00855369e+01, 7.38905610e+00, 5.45981500e+01],\n",
       "       [4.03428793e+02, 2.00855369e+01, 2.00855369e+01, 4.03428793e+02],\n",
       "       [2.98095799e+03, 8.10308393e+03, 8.10308393e+03, 2.98095799e+03]])"
      ]
     },
     "execution_count": 63,
     "metadata": {},
     "output_type": "execute_result"
    }
   ],
   "source": [
    "np.exp(arr1)"
   ]
  },
  {
   "cell_type": "code",
   "execution_count": 65,
   "id": "6e32953e-fc43-4e82-85a7-718ffdba0c7c",
   "metadata": {},
   "outputs": [
    {
     "data": {
      "text/plain": [
       "array([[36,  9,  4, 16],\n",
       "       [36,  9,  9, 36],\n",
       "       [64, 81, 81, 64]])"
      ]
     },
     "execution_count": 65,
     "metadata": {},
     "output_type": "execute_result"
    }
   ],
   "source": [
    "np.power(arr1, 2)"
   ]
  },
  {
   "cell_type": "code",
   "execution_count": 66,
   "id": "c84910a5-add2-4e92-9cef-776c50ca7bf2",
   "metadata": {},
   "outputs": [
    {
     "data": {
      "text/plain": [
       "5.583333333333333"
      ]
     },
     "execution_count": 66,
     "metadata": {},
     "output_type": "execute_result"
    }
   ],
   "source": [
    "np.mean(arr1)"
   ]
  },
  {
   "cell_type": "code",
   "execution_count": 67,
   "id": "006b2e13-65e8-4eda-9c3f-e1d2ea0dcf06",
   "metadata": {},
   "outputs": [
    {
     "data": {
      "text/plain": [
       "6.0"
      ]
     },
     "execution_count": 67,
     "metadata": {},
     "output_type": "execute_result"
    }
   ],
   "source": [
    "np.median(arr1)"
   ]
  },
  {
   "cell_type": "code",
   "execution_count": 68,
   "id": "5a7ea790-9cbf-4ebb-bbe0-dc657a60752b",
   "metadata": {},
   "outputs": [
    {
     "data": {
      "text/plain": [
       "2.43099202430247"
      ]
     },
     "execution_count": 68,
     "metadata": {},
     "output_type": "execute_result"
    }
   ],
   "source": [
    "np.std(arr1)"
   ]
  },
  {
   "cell_type": "code",
   "execution_count": 69,
   "id": "f0ce9f52-3501-4219-a975-323ba67aff2f",
   "metadata": {},
   "outputs": [
    {
     "data": {
      "text/plain": [
       "5.909722222222222"
      ]
     },
     "execution_count": 69,
     "metadata": {},
     "output_type": "execute_result"
    }
   ],
   "source": [
    "np.var(arr1)"
   ]
  },
  {
   "cell_type": "code",
   "execution_count": 70,
   "id": "f9387146-0f32-46a1-85ad-c8b3dbb93602",
   "metadata": {},
   "outputs": [
    {
     "data": {
      "text/plain": [
       "2"
      ]
     },
     "execution_count": 70,
     "metadata": {},
     "output_type": "execute_result"
    }
   ],
   "source": [
    "np.min(arr1)"
   ]
  },
  {
   "cell_type": "code",
   "execution_count": 71,
   "id": "67bbf8a7-cf84-414b-90af-e9ae6d7ddd90",
   "metadata": {},
   "outputs": [
    {
     "data": {
      "text/plain": [
       "9"
      ]
     },
     "execution_count": 71,
     "metadata": {},
     "output_type": "execute_result"
    }
   ],
   "source": [
    "np.max(arr1)"
   ]
  },
  {
   "cell_type": "code",
   "execution_count": 72,
   "id": "0680c820-60fb-46a8-bb6a-c6a99378e23d",
   "metadata": {},
   "outputs": [],
   "source": [
    "# Numpy - Arithmetic Operations"
   ]
  },
  {
   "cell_type": "code",
   "execution_count": 77,
   "id": "4be15772-6a70-49b8-a35e-8093042444b5",
   "metadata": {},
   "outputs": [],
   "source": [
    "arr3 = np.random.randint(5, 25, (4, 4))"
   ]
  },
  {
   "cell_type": "code",
   "execution_count": 79,
   "id": "fe120867-52b4-452d-900f-ad9e18369f00",
   "metadata": {},
   "outputs": [],
   "source": [
    "arr4 = np.random.randint(5, 25, (4, 4))"
   ]
  },
  {
   "cell_type": "code",
   "execution_count": 80,
   "id": "bbc1724e-ed3d-48e2-a784-516d1140b6ba",
   "metadata": {},
   "outputs": [
    {
     "data": {
      "text/plain": [
       "array([[15, 20,  8,  5],\n",
       "       [16, 13, 12, 19],\n",
       "       [ 9, 10,  7, 23],\n",
       "       [23, 22, 22, 18]])"
      ]
     },
     "execution_count": 80,
     "metadata": {},
     "output_type": "execute_result"
    }
   ],
   "source": [
    "arr3"
   ]
  },
  {
   "cell_type": "code",
   "execution_count": 81,
   "id": "a125f9f6-1cdd-4752-ab89-f75d55cc0663",
   "metadata": {},
   "outputs": [
    {
     "data": {
      "text/plain": [
       "array([[11, 14, 21, 12],\n",
       "       [13, 12,  7, 18],\n",
       "       [17, 14, 14, 24],\n",
       "       [11,  8,  8, 15]])"
      ]
     },
     "execution_count": 81,
     "metadata": {},
     "output_type": "execute_result"
    }
   ],
   "source": [
    "arr4"
   ]
  },
  {
   "cell_type": "code",
   "execution_count": 83,
   "id": "c74dc587-c01b-4086-a43a-fb7e87ece4b1",
   "metadata": {},
   "outputs": [
    {
     "data": {
      "text/plain": [
       "array([[26, 34, 29, 17],\n",
       "       [29, 25, 19, 37],\n",
       "       [26, 24, 21, 47],\n",
       "       [34, 30, 30, 33]])"
      ]
     },
     "execution_count": 83,
     "metadata": {},
     "output_type": "execute_result"
    }
   ],
   "source": [
    "np.add(arr3, arr4)"
   ]
  },
  {
   "cell_type": "code",
   "execution_count": 84,
   "id": "1f654803-02aa-4262-996e-daa038ecbc7e",
   "metadata": {},
   "outputs": [
    {
     "data": {
      "text/plain": [
       "array([[  4,   6, -13,  -7],\n",
       "       [  3,   1,   5,   1],\n",
       "       [ -8,  -4,  -7,  -1],\n",
       "       [ 12,  14,  14,   3]])"
      ]
     },
     "execution_count": 84,
     "metadata": {},
     "output_type": "execute_result"
    }
   ],
   "source": [
    "np.subtract(arr3, arr4)"
   ]
  },
  {
   "cell_type": "code",
   "execution_count": 85,
   "id": "e7558721-4893-4304-af56-cdfbd66861c7",
   "metadata": {},
   "outputs": [
    {
     "data": {
      "text/plain": [
       "array([[165, 280, 168,  60],\n",
       "       [208, 156,  84, 342],\n",
       "       [153, 140,  98, 552],\n",
       "       [253, 176, 176, 270]])"
      ]
     },
     "execution_count": 85,
     "metadata": {},
     "output_type": "execute_result"
    }
   ],
   "source": [
    "np.multiply(arr3, arr4)"
   ]
  },
  {
   "cell_type": "code",
   "execution_count": 86,
   "id": "0f296bbd-1ad1-448f-844c-d6ce5a297fa7",
   "metadata": {},
   "outputs": [
    {
     "data": {
      "text/plain": [
       "array([[ 4,  6,  8,  5],\n",
       "       [ 3,  1,  5,  1],\n",
       "       [ 9, 10,  7, 23],\n",
       "       [ 1,  6,  6,  3]])"
      ]
     },
     "execution_count": 86,
     "metadata": {},
     "output_type": "execute_result"
    }
   ],
   "source": [
    "np.mod(arr3, arr4)"
   ]
  },
  {
   "cell_type": "code",
   "execution_count": 88,
   "id": "45509b52-846f-496f-9647-d0b8520f0353",
   "metadata": {},
   "outputs": [
    {
     "data": {
      "text/plain": [
       "array([[       8649755859375,  1638400000000000000, -9223372036854775808,\n",
       "                   244140625],\n",
       "       [    4503599627370496,       23298085122481,             35831808,\n",
       "        -4519998179177339479],\n",
       "       [   16677181699666569,      100000000000000,         678223072849,\n",
       "        -8560217158519514431],\n",
       "       [     952809757913927,          54875873536,          54875873536,\n",
       "         6746640616477458432]])"
      ]
     },
     "execution_count": 88,
     "metadata": {},
     "output_type": "execute_result"
    }
   ],
   "source": [
    "np.power(arr3, arr4)"
   ]
  },
  {
   "cell_type": "code",
   "execution_count": 89,
   "id": "6b63dd53-0b56-4b7d-a3bb-2292ab1307de",
   "metadata": {},
   "outputs": [
    {
     "data": {
      "text/plain": [
       "array([[3.87298335, 4.47213595, 2.82842712, 2.23606798],\n",
       "       [4.        , 3.60555128, 3.46410162, 4.35889894],\n",
       "       [3.        , 3.16227766, 2.64575131, 4.79583152],\n",
       "       [4.79583152, 4.69041576, 4.69041576, 4.24264069]])"
      ]
     },
     "execution_count": 89,
     "metadata": {},
     "output_type": "execute_result"
    }
   ],
   "source": [
    "np.sqrt(arr3)"
   ]
  },
  {
   "cell_type": "code",
   "execution_count": 90,
   "id": "3844ed1b-b063-4ada-bb7d-a0c4a9cf157f",
   "metadata": {},
   "outputs": [],
   "source": [
    "# Numpy - Stastical Functions"
   ]
  },
  {
   "cell_type": "code",
   "execution_count": 91,
   "id": "1920350e-d7c2-4e61-99a7-3ef2a88a4543",
   "metadata": {},
   "outputs": [
    {
     "data": {
      "text/plain": [
       "array([[15, 20,  8,  5],\n",
       "       [16, 13, 12, 19],\n",
       "       [ 9, 10,  7, 23],\n",
       "       [23, 22, 22, 18]])"
      ]
     },
     "execution_count": 91,
     "metadata": {},
     "output_type": "execute_result"
    }
   ],
   "source": [
    "arr3"
   ]
  },
  {
   "cell_type": "code",
   "execution_count": 92,
   "id": "36846621-c3eb-4a51-9faa-c5a1198aea9b",
   "metadata": {},
   "outputs": [
    {
     "data": {
      "text/plain": [
       "15.125"
      ]
     },
     "execution_count": 92,
     "metadata": {},
     "output_type": "execute_result"
    }
   ],
   "source": [
    "np.mean(arr3)"
   ]
  },
  {
   "cell_type": "code",
   "execution_count": 93,
   "id": "da4d8730-1198-4f82-bbea-b306551391a7",
   "metadata": {},
   "outputs": [
    {
     "data": {
      "text/plain": [
       "15.5"
      ]
     },
     "execution_count": 93,
     "metadata": {},
     "output_type": "execute_result"
    }
   ],
   "source": [
    "np.median(arr3)"
   ]
  },
  {
   "cell_type": "code",
   "execution_count": 94,
   "id": "3cf1f55a-25f9-42b3-abe0-faeb6ad86055",
   "metadata": {},
   "outputs": [
    {
     "data": {
      "text/plain": [
       "5.935855035291883"
      ]
     },
     "execution_count": 94,
     "metadata": {},
     "output_type": "execute_result"
    }
   ],
   "source": [
    "np.std(arr3)"
   ]
  },
  {
   "cell_type": "code",
   "execution_count": 95,
   "id": "2fb3f206-9d72-4a6b-95b3-b3c1c9ab6ab8",
   "metadata": {},
   "outputs": [
    {
     "data": {
      "text/plain": [
       "35.234375"
      ]
     },
     "execution_count": 95,
     "metadata": {},
     "output_type": "execute_result"
    }
   ],
   "source": [
    "np.var(arr3)"
   ]
  },
  {
   "cell_type": "code",
   "execution_count": null,
   "id": "68aa9e9b-9ea8-49f6-8694-722c0f397494",
   "metadata": {},
   "outputs": [],
   "source": []
  }
 ],
 "metadata": {
  "kernelspec": {
   "display_name": "Python 3 (ipykernel)",
   "language": "python",
   "name": "python3"
  },
  "language_info": {
   "codemirror_mode": {
    "name": "ipython",
    "version": 3
   },
   "file_extension": ".py",
   "mimetype": "text/x-python",
   "name": "python",
   "nbconvert_exporter": "python",
   "pygments_lexer": "ipython3",
   "version": "3.10.8"
  }
 },
 "nbformat": 4,
 "nbformat_minor": 5
}
