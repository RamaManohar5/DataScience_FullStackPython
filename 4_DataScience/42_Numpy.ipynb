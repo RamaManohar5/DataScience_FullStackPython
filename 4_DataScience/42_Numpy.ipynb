{
 "cells": [
  {
   "cell_type": "code",
   "execution_count": 87,
   "id": "60f26dc2-85a3-4046-b8cc-569ae72606e4",
   "metadata": {},
   "outputs": [],
   "source": [
    "import numpy as np"
   ]
  },
  {
   "cell_type": "code",
   "execution_count": 88,
   "id": "2dea1d85-1908-4723-8dbf-2e011b2150df",
   "metadata": {},
   "outputs": [],
   "source": [
    "# generating ranges"
   ]
  },
  {
   "cell_type": "code",
   "execution_count": 89,
   "id": "6fa1f3cd-0394-4dc6-90c8-3010c5fa7d1e",
   "metadata": {},
   "outputs": [
    {
     "data": {
      "text/plain": [
       "[0, 1, 2, 3, 4]"
      ]
     },
     "execution_count": 89,
     "metadata": {},
     "output_type": "execute_result"
    }
   ],
   "source": [
    "list(range(5))"
   ]
  },
  {
   "cell_type": "code",
   "execution_count": 90,
   "id": "b7d85fb0-f9a5-4d11-b14e-9a4dfb85018b",
   "metadata": {},
   "outputs": [
    {
     "data": {
      "text/plain": [
       "array([0, 1, 2, 3, 4])"
      ]
     },
     "execution_count": 90,
     "metadata": {},
     "output_type": "execute_result"
    }
   ],
   "source": [
    "np.arange(5)"
   ]
  },
  {
   "cell_type": "code",
   "execution_count": 91,
   "id": "53fae713-d409-4efe-a659-744578ecae96",
   "metadata": {},
   "outputs": [
    {
     "data": {
      "text/plain": [
       "array([0.4, 1.4, 2.4, 3.4, 4.4, 5.4, 6.4, 7.4, 8.4, 9.4])"
      ]
     },
     "execution_count": 91,
     "metadata": {},
     "output_type": "execute_result"
    }
   ],
   "source": [
    "np.arange(0.4, 10.4)"
   ]
  },
  {
   "cell_type": "code",
   "execution_count": 92,
   "id": "6b686ea5-9b9b-4f83-9c97-91fe6268d830",
   "metadata": {},
   "outputs": [
    {
     "data": {
      "text/plain": [
       "array([0.4, 2.4, 4.4, 6.4, 8.4])"
      ]
     },
     "execution_count": 92,
     "metadata": {},
     "output_type": "execute_result"
    }
   ],
   "source": [
    "np.arange(0.4, 10.4, 2)"
   ]
  },
  {
   "cell_type": "code",
   "execution_count": 93,
   "id": "99032cfc-0f71-42e8-811d-37325378c7e6",
   "metadata": {},
   "outputs": [],
   "source": [
    "# generating data sets"
   ]
  },
  {
   "cell_type": "code",
   "execution_count": 94,
   "id": "cdf1c6c1-b4cb-464d-a416-14033ae0e49a",
   "metadata": {},
   "outputs": [
    {
     "data": {
      "text/plain": [
       "array([1.        , 1.21052632, 1.42105263, 1.63157895, 1.84210526,\n",
       "       2.05263158, 2.26315789, 2.47368421, 2.68421053, 2.89473684,\n",
       "       3.10526316, 3.31578947, 3.52631579, 3.73684211, 3.94736842,\n",
       "       4.15789474, 4.36842105, 4.57894737, 4.78947368, 5.        ])"
      ]
     },
     "execution_count": 94,
     "metadata": {},
     "output_type": "execute_result"
    }
   ],
   "source": [
    "np.linspace(1,5, 20) # generates data between 1 to 5 with 20 equally divided divisions"
   ]
  },
  {
   "cell_type": "code",
   "execution_count": 95,
   "id": "0ac525e5-583a-48dd-ad20-6c021b1b583e",
   "metadata": {},
   "outputs": [
    {
     "data": {
      "text/plain": [
       "array([1.00000000e+01, 1.62377674e+01, 2.63665090e+01, 4.28133240e+01,\n",
       "       6.95192796e+01, 1.12883789e+02, 1.83298071e+02, 2.97635144e+02,\n",
       "       4.83293024e+02, 7.84759970e+02, 1.27427499e+03, 2.06913808e+03,\n",
       "       3.35981829e+03, 5.45559478e+03, 8.85866790e+03, 1.43844989e+04,\n",
       "       2.33572147e+04, 3.79269019e+04, 6.15848211e+04, 1.00000000e+05])"
      ]
     },
     "execution_count": 95,
     "metadata": {},
     "output_type": "execute_result"
    }
   ],
   "source": [
    "np.logspace(1, 5, 20) # same as above but with log base 10"
   ]
  },
  {
   "cell_type": "code",
   "execution_count": 96,
   "id": "f567ff99-9e93-4e7d-a966-873b1428d768",
   "metadata": {},
   "outputs": [
    {
     "data": {
      "text/plain": [
       "array([0., 0., 0., 0., 0.])"
      ]
     },
     "execution_count": 96,
     "metadata": {},
     "output_type": "execute_result"
    }
   ],
   "source": [
    "np.zeros(5) # generate a dataset with zeroes"
   ]
  },
  {
   "cell_type": "code",
   "execution_count": 97,
   "id": "14919876-ea7a-4b4f-8e7d-aa92155c4ea7",
   "metadata": {},
   "outputs": [
    {
     "data": {
      "text/plain": [
       "array([[0., 0., 0., 0.],\n",
       "       [0., 0., 0., 0.],\n",
       "       [0., 0., 0., 0.]])"
      ]
     },
     "execution_count": 97,
     "metadata": {},
     "output_type": "execute_result"
    }
   ],
   "source": [
    "np.zeros((3,4)) # generate a dataset with 3 rows & 4 columns of zeroes"
   ]
  },
  {
   "cell_type": "code",
   "execution_count": 98,
   "id": "69cb0dae-586c-4c82-8e51-85c27663692f",
   "metadata": {},
   "outputs": [
    {
     "data": {
      "text/plain": [
       "array([[[0., 0.],\n",
       "        [0., 0.],\n",
       "        [0., 0.],\n",
       "        [0., 0.]],\n",
       "\n",
       "       [[0., 0.],\n",
       "        [0., 0.],\n",
       "        [0., 0.],\n",
       "        [0., 0.]],\n",
       "\n",
       "       [[0., 0.],\n",
       "        [0., 0.],\n",
       "        [0., 0.],\n",
       "        [0., 0.]]])"
      ]
     },
     "execution_count": 98,
     "metadata": {},
     "output_type": "execute_result"
    }
   ],
   "source": [
    "np.zeros((3,4,2)) # generates a dataset "
   ]
  },
  {
   "cell_type": "code",
   "execution_count": 99,
   "id": "bff9f58d-0d1b-4384-9d72-c3c2d26398ab",
   "metadata": {},
   "outputs": [
    {
     "data": {
      "text/plain": [
       "array([1., 1., 1., 1., 1.])"
      ]
     },
     "execution_count": 99,
     "metadata": {},
     "output_type": "execute_result"
    }
   ],
   "source": [
    "np.ones(5) # same as zeroes"
   ]
  },
  {
   "cell_type": "code",
   "execution_count": 100,
   "id": "25909a98-fe72-4cad-8e27-96d3eed125a1",
   "metadata": {},
   "outputs": [
    {
     "data": {
      "text/plain": [
       "array([[1., 1., 1., 1.],\n",
       "       [1., 1., 1., 1.],\n",
       "       [1., 1., 1., 1.]])"
      ]
     },
     "execution_count": 100,
     "metadata": {},
     "output_type": "execute_result"
    }
   ],
   "source": [
    "np.ones((3,4))"
   ]
  },
  {
   "cell_type": "code",
   "execution_count": 101,
   "id": "5ea6a5f1-d27c-43b7-b7b9-0e902ca25013",
   "metadata": {},
   "outputs": [],
   "source": [
    "arr = np.ones((3,4))"
   ]
  },
  {
   "cell_type": "code",
   "execution_count": 102,
   "id": "6a8ec654-da6a-4c6c-93f8-eedb53ff8eb2",
   "metadata": {},
   "outputs": [
    {
     "data": {
      "text/plain": [
       "array([[1., 1., 1., 1.],\n",
       "       [1., 1., 1., 1.],\n",
       "       [1., 1., 1., 1.]])"
      ]
     },
     "execution_count": 102,
     "metadata": {},
     "output_type": "execute_result"
    }
   ],
   "source": [
    "arr"
   ]
  },
  {
   "cell_type": "code",
   "execution_count": 103,
   "id": "59004728-3972-4fcd-b18b-192bc2665a87",
   "metadata": {},
   "outputs": [
    {
     "data": {
      "text/plain": [
       "array([[4., 4., 4., 4.],\n",
       "       [4., 4., 4., 4.],\n",
       "       [4., 4., 4., 4.]])"
      ]
     },
     "execution_count": 103,
     "metadata": {},
     "output_type": "execute_result"
    }
   ],
   "source": [
    "arr+3"
   ]
  },
  {
   "cell_type": "code",
   "execution_count": 104,
   "id": "8a37ba53-40bf-41f8-9ca7-0d4cd98136c9",
   "metadata": {},
   "outputs": [
    {
     "data": {
      "text/plain": [
       "array([[4., 4., 4., 4.],\n",
       "       [4., 4., 4., 4.],\n",
       "       [4., 4., 4., 4.]])"
      ]
     },
     "execution_count": 104,
     "metadata": {},
     "output_type": "execute_result"
    }
   ],
   "source": [
    "np.empty((3,4)) # generates an empty array"
   ]
  },
  {
   "cell_type": "code",
   "execution_count": 105,
   "id": "55dd68ee-7991-46c9-8cb2-6d7ab99ccf73",
   "metadata": {},
   "outputs": [
    {
     "data": {
      "text/plain": [
       "array([[1., 0., 0., 0., 0.],\n",
       "       [0., 1., 0., 0., 0.],\n",
       "       [0., 0., 1., 0., 0.],\n",
       "       [0., 0., 0., 1., 0.],\n",
       "       [0., 0., 0., 0., 1.]])"
      ]
     },
     "execution_count": 105,
     "metadata": {},
     "output_type": "execute_result"
    }
   ],
   "source": [
    "np.eye(5) # creates an arry with equal rows & columns"
   ]
  },
  {
   "cell_type": "code",
   "execution_count": 106,
   "id": "fd7fb1ca-99ab-4356-818c-13260f9112cb",
   "metadata": {},
   "outputs": [],
   "source": [
    "arr1 = np.eye(5)"
   ]
  },
  {
   "cell_type": "code",
   "execution_count": 107,
   "id": "09783269-903c-4150-b666-eea5c3355d09",
   "metadata": {},
   "outputs": [],
   "source": [
    "import pandas as pd"
   ]
  },
  {
   "cell_type": "code",
   "execution_count": 108,
   "id": "187679ab-907c-4f6f-af35-d1441d43416b",
   "metadata": {},
   "outputs": [
    {
     "data": {
      "text/html": [
       "<div>\n",
       "<style scoped>\n",
       "    .dataframe tbody tr th:only-of-type {\n",
       "        vertical-align: middle;\n",
       "    }\n",
       "\n",
       "    .dataframe tbody tr th {\n",
       "        vertical-align: top;\n",
       "    }\n",
       "\n",
       "    .dataframe thead th {\n",
       "        text-align: right;\n",
       "    }\n",
       "</style>\n",
       "<table border=\"1\" class=\"dataframe\">\n",
       "  <thead>\n",
       "    <tr style=\"text-align: right;\">\n",
       "      <th></th>\n",
       "      <th>0</th>\n",
       "      <th>1</th>\n",
       "      <th>2</th>\n",
       "      <th>3</th>\n",
       "      <th>4</th>\n",
       "    </tr>\n",
       "  </thead>\n",
       "  <tbody>\n",
       "    <tr>\n",
       "      <th>0</th>\n",
       "      <td>1.0</td>\n",
       "      <td>0.0</td>\n",
       "      <td>0.0</td>\n",
       "      <td>0.0</td>\n",
       "      <td>0.0</td>\n",
       "    </tr>\n",
       "    <tr>\n",
       "      <th>1</th>\n",
       "      <td>0.0</td>\n",
       "      <td>1.0</td>\n",
       "      <td>0.0</td>\n",
       "      <td>0.0</td>\n",
       "      <td>0.0</td>\n",
       "    </tr>\n",
       "    <tr>\n",
       "      <th>2</th>\n",
       "      <td>0.0</td>\n",
       "      <td>0.0</td>\n",
       "      <td>1.0</td>\n",
       "      <td>0.0</td>\n",
       "      <td>0.0</td>\n",
       "    </tr>\n",
       "    <tr>\n",
       "      <th>3</th>\n",
       "      <td>0.0</td>\n",
       "      <td>0.0</td>\n",
       "      <td>0.0</td>\n",
       "      <td>1.0</td>\n",
       "      <td>0.0</td>\n",
       "    </tr>\n",
       "    <tr>\n",
       "      <th>4</th>\n",
       "      <td>0.0</td>\n",
       "      <td>0.0</td>\n",
       "      <td>0.0</td>\n",
       "      <td>0.0</td>\n",
       "      <td>1.0</td>\n",
       "    </tr>\n",
       "  </tbody>\n",
       "</table>\n",
       "</div>"
      ],
      "text/plain": [
       "     0    1    2    3    4\n",
       "0  1.0  0.0  0.0  0.0  0.0\n",
       "1  0.0  1.0  0.0  0.0  0.0\n",
       "2  0.0  0.0  1.0  0.0  0.0\n",
       "3  0.0  0.0  0.0  1.0  0.0\n",
       "4  0.0  0.0  0.0  0.0  1.0"
      ]
     },
     "execution_count": 108,
     "metadata": {},
     "output_type": "execute_result"
    }
   ],
   "source": [
    "pd.DataFrame(arr1) # converting np arrays to DataFrames"
   ]
  },
  {
   "cell_type": "code",
   "execution_count": 109,
   "id": "4329fa85-4d7a-467d-bc14-b96a192f580e",
   "metadata": {},
   "outputs": [
    {
     "data": {
      "text/plain": [
       "array([[0.75543594, 0.41140816, 0.13757118],\n",
       "       [0.16766869, 0.68159065, 0.34016667]])"
      ]
     },
     "execution_count": 109,
     "metadata": {},
     "output_type": "execute_result"
    }
   ],
   "source": [
    "np.random.rand(2,3)"
   ]
  },
  {
   "cell_type": "code",
   "execution_count": 110,
   "id": "862610e3-d266-47ab-93f5-a4f1b5865e2d",
   "metadata": {},
   "outputs": [
    {
     "data": {
      "text/plain": [
       "array([[ 1.10587964, -1.8934279 ,  0.03898257],\n",
       "       [ 0.12789598,  0.2505106 , -0.28793498]])"
      ]
     },
     "execution_count": 110,
     "metadata": {},
     "output_type": "execute_result"
    }
   ],
   "source": [
    "np.random.randn(2,3) # generates normally distributed dataset"
   ]
  },
  {
   "cell_type": "code",
   "execution_count": 111,
   "id": "3c6267cd-1320-458d-bf4d-a03724aa9910",
   "metadata": {},
   "outputs": [
    {
     "data": {
      "text/plain": [
       "array([[1, 1, 4, 3],\n",
       "       [2, 3, 4, 3],\n",
       "       [4, 2, 2, 4]])"
      ]
     },
     "execution_count": 111,
     "metadata": {},
     "output_type": "execute_result"
    }
   ],
   "source": [
    "np.random.randint(1,5, (3,4)) # generates random intreger dataset between the given range with gven rows and columns"
   ]
  },
  {
   "cell_type": "code",
   "execution_count": 112,
   "id": "73192353-9bbc-4db4-a248-b4ebd696d116",
   "metadata": {},
   "outputs": [],
   "source": [
    "arr2 = np.random.randint(1,5, (3,4))"
   ]
  },
  {
   "cell_type": "code",
   "execution_count": 113,
   "id": "b07d657e-c60e-4c10-8cfb-1eb38c623fba",
   "metadata": {},
   "outputs": [
    {
     "data": {
      "text/plain": [
       "12"
      ]
     },
     "execution_count": 113,
     "metadata": {},
     "output_type": "execute_result"
    }
   ],
   "source": [
    "arr2.size"
   ]
  },
  {
   "cell_type": "code",
   "execution_count": 114,
   "id": "063c8031-de51-4c9b-9d99-c2ea1f110081",
   "metadata": {},
   "outputs": [
    {
     "data": {
      "text/plain": [
       "(3, 4)"
      ]
     },
     "execution_count": 114,
     "metadata": {},
     "output_type": "execute_result"
    }
   ],
   "source": [
    "arr2.shape"
   ]
  },
  {
   "cell_type": "code",
   "execution_count": 115,
   "id": "f62f1db9-a093-47de-aed9-6499b6fbdec9",
   "metadata": {},
   "outputs": [
    {
     "data": {
      "text/plain": [
       "array([[2, 4],\n",
       "       [1, 1],\n",
       "       [1, 4],\n",
       "       [1, 3],\n",
       "       [3, 3],\n",
       "       [2, 2]])"
      ]
     },
     "execution_count": 115,
     "metadata": {},
     "output_type": "execute_result"
    }
   ],
   "source": [
    "arr2.reshape(6,2)"
   ]
  },
  {
   "cell_type": "code",
   "execution_count": 116,
   "id": "0a3c5b54-56cb-4985-a543-3ad3875fd85c",
   "metadata": {},
   "outputs": [
    {
     "ename": "ValueError",
     "evalue": "cannot reshape array of size 12 into shape (6,3)",
     "output_type": "error",
     "traceback": [
      "\u001b[0;31m---------------------------------------------------------------------------\u001b[0m",
      "\u001b[0;31mValueError\u001b[0m                                Traceback (most recent call last)",
      "Cell \u001b[0;32mIn[116], line 1\u001b[0m\n\u001b[0;32m----> 1\u001b[0m \u001b[43marr2\u001b[49m\u001b[38;5;241;43m.\u001b[39;49m\u001b[43mreshape\u001b[49m\u001b[43m(\u001b[49m\u001b[38;5;241;43m6\u001b[39;49m\u001b[43m,\u001b[49m\u001b[38;5;241;43m3\u001b[39;49m\u001b[43m)\u001b[49m\n",
      "\u001b[0;31mValueError\u001b[0m: cannot reshape array of size 12 into shape (6,3)"
     ]
    }
   ],
   "source": [
    "arr2.reshape(6,3)"
   ]
  },
  {
   "cell_type": "code",
   "execution_count": 117,
   "id": "3dc506d8-aefc-4645-b024-92828b1cc13a",
   "metadata": {},
   "outputs": [
    {
     "data": {
      "text/plain": [
       "array([[2, 4, 1],\n",
       "       [1, 1, 4],\n",
       "       [1, 3, 3],\n",
       "       [3, 2, 2]])"
      ]
     },
     "execution_count": 117,
     "metadata": {},
     "output_type": "execute_result"
    }
   ],
   "source": [
    "arr2.reshape(4,3)\n"
   ]
  },
  {
   "cell_type": "code",
   "execution_count": 118,
   "id": "a4a39e30-2402-4281-9f95-0674987c0554",
   "metadata": {},
   "outputs": [
    {
     "data": {
      "text/plain": [
       "array([[2, 4, 1],\n",
       "       [1, 1, 4],\n",
       "       [1, 3, 3],\n",
       "       [3, 2, 2]])"
      ]
     },
     "execution_count": 118,
     "metadata": {},
     "output_type": "execute_result"
    }
   ],
   "source": [
    "arr2.reshape(4, -1)"
   ]
  },
  {
   "cell_type": "code",
   "execution_count": 119,
   "id": "c7135175-63b9-4b35-85a1-70b4b0237c2e",
   "metadata": {},
   "outputs": [
    {
     "data": {
      "text/plain": [
       "array([[[2, 4, 1],\n",
       "        [1, 1, 4]],\n",
       "\n",
       "       [[1, 3, 3],\n",
       "        [3, 2, 2]]])"
      ]
     },
     "execution_count": 119,
     "metadata": {},
     "output_type": "execute_result"
    }
   ],
   "source": [
    "arr2.reshape(2,2,3)"
   ]
  },
  {
   "cell_type": "code",
   "execution_count": 120,
   "id": "4944bc33-4a73-45dd-8e93-289411f208d2",
   "metadata": {},
   "outputs": [
    {
     "data": {
      "text/plain": [
       "array([[[[[2]],\n",
       "\n",
       "         [[4]],\n",
       "\n",
       "         [[1]]],\n",
       "\n",
       "\n",
       "        [[[1]],\n",
       "\n",
       "         [[1]],\n",
       "\n",
       "         [[4]]]],\n",
       "\n",
       "\n",
       "\n",
       "       [[[[1]],\n",
       "\n",
       "         [[3]],\n",
       "\n",
       "         [[3]]],\n",
       "\n",
       "\n",
       "        [[[3]],\n",
       "\n",
       "         [[2]],\n",
       "\n",
       "         [[2]]]]])"
      ]
     },
     "execution_count": 120,
     "metadata": {},
     "output_type": "execute_result"
    }
   ],
   "source": [
    "arr2.reshape(2,2,3,1,1,)"
   ]
  },
  {
   "cell_type": "code",
   "execution_count": 121,
   "id": "64ae3e34-cd23-433c-b6f4-ab5d5ed2f538",
   "metadata": {},
   "outputs": [],
   "source": [
    "arr3 = np.random.randint(1,10, (5,6))"
   ]
  },
  {
   "cell_type": "code",
   "execution_count": 122,
   "id": "26cba079-05d6-419a-8981-919b16ff4d56",
   "metadata": {},
   "outputs": [
    {
     "data": {
      "text/plain": [
       "array([[7, 6, 8, 7, 1, 5],\n",
       "       [7, 3, 7, 1, 1, 1],\n",
       "       [1, 6, 6, 5, 5, 3],\n",
       "       [5, 3, 2, 7, 6, 3],\n",
       "       [5, 6, 8, 9, 2, 5]])"
      ]
     },
     "execution_count": 122,
     "metadata": {},
     "output_type": "execute_result"
    }
   ],
   "source": [
    "arr3"
   ]
  },
  {
   "cell_type": "code",
   "execution_count": 123,
   "id": "cff0ed0b-4203-40e2-b3d5-4d41ec7cfccf",
   "metadata": {},
   "outputs": [
    {
     "data": {
      "text/plain": [
       "array([[False, False, False, False, False, False],\n",
       "       [False, False, False, False, False, False],\n",
       "       [False, False, False, False, False, False],\n",
       "       [False, False, False, False, False, False],\n",
       "       [False, False, False,  True, False, False]])"
      ]
     },
     "execution_count": 123,
     "metadata": {},
     "output_type": "execute_result"
    }
   ],
   "source": [
    "arr3 > 8"
   ]
  },
  {
   "cell_type": "code",
   "execution_count": 125,
   "id": "0302bec3-2bd3-4e59-8bf5-d999fc56a7ac",
   "metadata": {},
   "outputs": [
    {
     "data": {
      "text/plain": [
       "array([9])"
      ]
     },
     "execution_count": 125,
     "metadata": {},
     "output_type": "execute_result"
    }
   ],
   "source": [
    "arr3[arr3 > 8 ] # extract the dataset with the given conditon"
   ]
  },
  {
   "cell_type": "code",
   "execution_count": 127,
   "id": "2c8db63f-2346-4245-b3f5-ebf65d8e489a",
   "metadata": {},
   "outputs": [
    {
     "data": {
      "text/plain": [
       "array([7, 6, 8, 7, 1, 5])"
      ]
     },
     "execution_count": 127,
     "metadata": {},
     "output_type": "execute_result"
    }
   ],
   "source": [
    "arr3[0] # extract an dataset (subset)"
   ]
  },
  {
   "cell_type": "code",
   "execution_count": 128,
   "id": "722b8251-4f95-4fc5-a810-9d370ba87a91",
   "metadata": {},
   "outputs": [
    {
     "data": {
      "text/plain": [
       "array([1., 1.])"
      ]
     },
     "execution_count": 128,
     "metadata": {},
     "output_type": "execute_result"
    }
   ],
   "source": [
    "arr[0, [0,1]]"
   ]
  },
  {
   "cell_type": "code",
   "execution_count": 130,
   "id": "d786e05a-c9d7-4d3f-a5d6-d38292035e80",
   "metadata": {},
   "outputs": [
    {
     "data": {
      "text/plain": [
       "array([[6, 5],\n",
       "       [2, 7]])"
      ]
     },
     "execution_count": 130,
     "metadata": {},
     "output_type": "execute_result"
    }
   ],
   "source": [
    "arr3[2:4, [2,3]] #extracting a subset from an array"
   ]
  },
  {
   "cell_type": "code",
   "execution_count": 131,
   "id": "6d7fbd1b-2cfa-4f29-8b58-c588688518d8",
   "metadata": {},
   "outputs": [],
   "source": [
    "arr4 = np.random.randint(1,3, (3,3))\n",
    "\n",
    "arr5 = np.random.randint(1,3, (3,3))"
   ]
  },
  {
   "cell_type": "code",
   "execution_count": 132,
   "id": "5a00eb9b-807f-44fd-a505-d59e28db2a91",
   "metadata": {},
   "outputs": [
    {
     "data": {
      "text/plain": [
       "array([[1, 1, 2],\n",
       "       [2, 1, 1],\n",
       "       [2, 2, 1]])"
      ]
     },
     "execution_count": 132,
     "metadata": {},
     "output_type": "execute_result"
    }
   ],
   "source": [
    "arr4"
   ]
  },
  {
   "cell_type": "code",
   "execution_count": 133,
   "id": "96249cf4-5463-4d80-bef0-9368b2c39f36",
   "metadata": {},
   "outputs": [
    {
     "data": {
      "text/plain": [
       "array([[2, 2, 1],\n",
       "       [2, 1, 2],\n",
       "       [1, 1, 1]])"
      ]
     },
     "execution_count": 133,
     "metadata": {},
     "output_type": "execute_result"
    }
   ],
   "source": [
    "arr5"
   ]
  },
  {
   "cell_type": "code",
   "execution_count": 136,
   "id": "3555f249-fac5-457e-91b7-4e9fcc6b38eb",
   "metadata": {},
   "outputs": [
    {
     "data": {
      "text/plain": [
       "array([[3, 3, 3],\n",
       "       [4, 2, 3],\n",
       "       [3, 3, 2]])"
      ]
     },
     "execution_count": 136,
     "metadata": {},
     "output_type": "execute_result"
    }
   ],
   "source": [
    "arr4 + arr5  # we can perform multiple mathematical opearations on arrays"
   ]
  },
  {
   "cell_type": "code",
   "execution_count": 139,
   "id": "7d43f45c-c5df-47a4-959c-eb684836ef9b",
   "metadata": {},
   "outputs": [
    {
     "data": {
      "text/plain": [
       "array([[6, 5, 5],\n",
       "       [7, 6, 5],\n",
       "       [9, 7, 7]])"
      ]
     },
     "execution_count": 139,
     "metadata": {},
     "output_type": "execute_result"
    }
   ],
   "source": [
    "arr4 @ arr5  # matrix mutiplication"
   ]
  },
  {
   "cell_type": "code",
   "execution_count": 140,
   "id": "bd204ad1-e6df-45bb-ac7a-1508a5ed83e0",
   "metadata": {},
   "outputs": [
    {
     "data": {
      "text/plain": [
       "array([[0.5, 0.5, 2. ],\n",
       "       [1. , 1. , 0.5],\n",
       "       [2. , 2. , 1. ]])"
      ]
     },
     "execution_count": 140,
     "metadata": {},
     "output_type": "execute_result"
    }
   ],
   "source": [
    "arr4 / arr5"
   ]
  },
  {
   "cell_type": "code",
   "execution_count": 141,
   "id": "876d34ce-baf3-4b6a-8cf9-01ddc05617a8",
   "metadata": {},
   "outputs": [
    {
     "name": "stderr",
     "output_type": "stream",
     "text": [
      "/tmp/ipykernel_102/3327478922.py:1: RuntimeWarning: divide by zero encountered in divide\n",
      "  arr4 / 0\n"
     ]
    },
    {
     "data": {
      "text/plain": [
       "array([[inf, inf, inf],\n",
       "       [inf, inf, inf],\n",
       "       [inf, inf, inf]])"
      ]
     },
     "execution_count": 141,
     "metadata": {},
     "output_type": "execute_result"
    }
   ],
   "source": [
    "arr4 / 0"
   ]
  },
  {
   "cell_type": "code",
   "execution_count": 143,
   "id": "5260fcdc-dafe-4d4c-be6d-fdad26666d9e",
   "metadata": {},
   "outputs": [],
   "source": [
    "# numpy - broadcasting"
   ]
  },
  {
   "cell_type": "code",
   "execution_count": 144,
   "id": "eedbec04-64f5-4588-bcd5-1c343bc0c0f8",
   "metadata": {},
   "outputs": [],
   "source": [
    "arr6 = np.zeros((3,4))"
   ]
  },
  {
   "cell_type": "code",
   "execution_count": 145,
   "id": "be539849-72ba-4d03-96b8-ffaf6136569c",
   "metadata": {},
   "outputs": [
    {
     "data": {
      "text/plain": [
       "array([[0., 0., 0., 0.],\n",
       "       [0., 0., 0., 0.],\n",
       "       [0., 0., 0., 0.]])"
      ]
     },
     "execution_count": 145,
     "metadata": {},
     "output_type": "execute_result"
    }
   ],
   "source": [
    "arr6"
   ]
  },
  {
   "cell_type": "code",
   "execution_count": 146,
   "id": "4d342a39-be25-4c12-b7df-251d45c618b6",
   "metadata": {},
   "outputs": [
    {
     "data": {
      "text/plain": [
       "array([[5., 5., 5., 5.],\n",
       "       [5., 5., 5., 5.],\n",
       "       [5., 5., 5., 5.]])"
      ]
     },
     "execution_count": 146,
     "metadata": {},
     "output_type": "execute_result"
    }
   ],
   "source": [
    "arr6 + 5"
   ]
  },
  {
   "cell_type": "code",
   "execution_count": 150,
   "id": "1ed08a62-0730-4bd7-bc69-294055375372",
   "metadata": {},
   "outputs": [],
   "source": [
    "a = np.array([1,2,3,4])"
   ]
  },
  {
   "cell_type": "code",
   "execution_count": 153,
   "id": "82d7ed2a-0f3e-401c-82aa-3a9cf4ee72d9",
   "metadata": {},
   "outputs": [
    {
     "data": {
      "text/plain": [
       "array([1, 2, 3, 4])"
      ]
     },
     "execution_count": 153,
     "metadata": {},
     "output_type": "execute_result"
    }
   ],
   "source": [
    "a"
   ]
  },
  {
   "cell_type": "code",
   "execution_count": 154,
   "id": "a85f08ba-df61-487c-b283-42f2144df443",
   "metadata": {},
   "outputs": [
    {
     "data": {
      "text/plain": [
       "array([[1., 2., 3., 4.],\n",
       "       [1., 2., 3., 4.],\n",
       "       [1., 2., 3., 4.]])"
      ]
     },
     "execution_count": 154,
     "metadata": {},
     "output_type": "execute_result"
    }
   ],
   "source": [
    "arr6 + a"
   ]
  },
  {
   "cell_type": "code",
   "execution_count": 157,
   "id": "0cb34ea6-ed4f-415a-990e-4238e2555c57",
   "metadata": {},
   "outputs": [],
   "source": [
    "b = np.array([[3,4,5]])"
   ]
  },
  {
   "cell_type": "code",
   "execution_count": 159,
   "id": "a9a15401-c2d7-475a-b6c3-9206fd4c95e0",
   "metadata": {},
   "outputs": [
    {
     "data": {
      "text/plain": [
       "array([[3, 4, 5]])"
      ]
     },
     "execution_count": 159,
     "metadata": {},
     "output_type": "execute_result"
    }
   ],
   "source": [
    "b"
   ]
  },
  {
   "cell_type": "code",
   "execution_count": 160,
   "id": "b1aa5b31-ec7c-4c11-a839-6a3dee1fd2d0",
   "metadata": {},
   "outputs": [
    {
     "ename": "ValueError",
     "evalue": "operands could not be broadcast together with shapes (3,4) (1,3) ",
     "output_type": "error",
     "traceback": [
      "\u001b[0;31m---------------------------------------------------------------------------\u001b[0m",
      "\u001b[0;31mValueError\u001b[0m                                Traceback (most recent call last)",
      "Cell \u001b[0;32mIn[160], line 1\u001b[0m\n\u001b[0;32m----> 1\u001b[0m \u001b[43marr6\u001b[49m\u001b[43m \u001b[49m\u001b[38;5;241;43m+\u001b[39;49m\u001b[43m \u001b[49m\u001b[43mb\u001b[49m\n",
      "\u001b[0;31mValueError\u001b[0m: operands could not be broadcast together with shapes (3,4) (1,3) "
     ]
    }
   ],
   "source": [
    "arr6 + b"
   ]
  },
  {
   "cell_type": "code",
   "execution_count": 161,
   "id": "7aca98d6-4cae-4ffd-9c20-2a30bc42f640",
   "metadata": {},
   "outputs": [
    {
     "data": {
      "text/plain": [
       "array([[3., 3., 3., 3.],\n",
       "       [4., 4., 4., 4.],\n",
       "       [5., 5., 5., 5.]])"
      ]
     },
     "execution_count": 161,
     "metadata": {},
     "output_type": "execute_result"
    }
   ],
   "source": [
    "arr6 + b.T"
   ]
  },
  {
   "cell_type": "code",
   "execution_count": 162,
   "id": "4d2652b5-b435-46fa-a768-fa04b2d9b50b",
   "metadata": {},
   "outputs": [
    {
     "data": {
      "text/plain": [
       "array([[3],\n",
       "       [4],\n",
       "       [5]])"
      ]
     },
     "execution_count": 162,
     "metadata": {},
     "output_type": "execute_result"
    }
   ],
   "source": [
    "b.T"
   ]
  },
  {
   "cell_type": "code",
   "execution_count": 164,
   "id": "c608c1e2-b087-43cf-8f85-52cbe5241fe3",
   "metadata": {},
   "outputs": [],
   "source": [
    "arr7 = arr6 + b.T"
   ]
  },
  {
   "cell_type": "code",
   "execution_count": 165,
   "id": "0d3b07a5-ec92-47ed-aaa2-288ee330808c",
   "metadata": {},
   "outputs": [
    {
     "data": {
      "text/plain": [
       "array([[3., 3., 3., 3.],\n",
       "       [4., 4., 4., 4.],\n",
       "       [5., 5., 5., 5.]])"
      ]
     },
     "execution_count": 165,
     "metadata": {},
     "output_type": "execute_result"
    }
   ],
   "source": [
    "arr7"
   ]
  },
  {
   "cell_type": "code",
   "execution_count": 166,
   "id": "119913cd-761a-4952-b865-af4c024036e8",
   "metadata": {},
   "outputs": [
    {
     "data": {
      "text/plain": [
       "array([[1.73205081, 1.73205081, 1.73205081, 1.73205081],\n",
       "       [2.        , 2.        , 2.        , 2.        ],\n",
       "       [2.23606798, 2.23606798, 2.23606798, 2.23606798]])"
      ]
     },
     "execution_count": 166,
     "metadata": {},
     "output_type": "execute_result"
    }
   ],
   "source": [
    "np.sqrt(arr7)"
   ]
  },
  {
   "cell_type": "code",
   "execution_count": 167,
   "id": "8b72377e-ac8b-40ee-bf7b-8ca00faf51d4",
   "metadata": {},
   "outputs": [
    {
     "data": {
      "text/plain": [
       "array([[0.47712125, 0.47712125, 0.47712125, 0.47712125],\n",
       "       [0.60205999, 0.60205999, 0.60205999, 0.60205999],\n",
       "       [0.69897   , 0.69897   , 0.69897   , 0.69897   ]])"
      ]
     },
     "execution_count": 167,
     "metadata": {},
     "output_type": "execute_result"
    }
   ],
   "source": [
    "np.log10(arr7)"
   ]
  },
  {
   "cell_type": "code",
   "execution_count": 168,
   "id": "c32a1122-b59f-4c64-9329-0904411163ed",
   "metadata": {},
   "outputs": [
    {
     "data": {
      "text/plain": [
       "array([[ 20.08553692,  20.08553692,  20.08553692,  20.08553692],\n",
       "       [ 54.59815003,  54.59815003,  54.59815003,  54.59815003],\n",
       "       [148.4131591 , 148.4131591 , 148.4131591 , 148.4131591 ]])"
      ]
     },
     "execution_count": 168,
     "metadata": {},
     "output_type": "execute_result"
    }
   ],
   "source": [
    "np.exp(arr7)"
   ]
  },
  {
   "cell_type": "code",
   "execution_count": 169,
   "id": "dab2f6c8-a45d-44b5-9728-4a8f59ce0f9d",
   "metadata": {},
   "outputs": [
    {
     "data": {
      "text/plain": [
       "3.0"
      ]
     },
     "execution_count": 169,
     "metadata": {},
     "output_type": "execute_result"
    }
   ],
   "source": [
    "np.min(arr7)"
   ]
  },
  {
   "cell_type": "code",
   "execution_count": 170,
   "id": "a1d8b314-cfef-4943-a135-4746287aa002",
   "metadata": {},
   "outputs": [
    {
     "data": {
      "text/plain": [
       "5.0"
      ]
     },
     "execution_count": 170,
     "metadata": {},
     "output_type": "execute_result"
    }
   ],
   "source": [
    "np.max(arr7)"
   ]
  },
  {
   "cell_type": "code",
   "execution_count": null,
   "id": "055041c2-370d-4b69-974f-a704a59c1d33",
   "metadata": {},
   "outputs": [],
   "source": []
  }
 ],
 "metadata": {
  "kernelspec": {
   "display_name": "Python 3 (ipykernel)",
   "language": "python",
   "name": "python3"
  },
  "language_info": {
   "codemirror_mode": {
    "name": "ipython",
    "version": 3
   },
   "file_extension": ".py",
   "mimetype": "text/x-python",
   "name": "python",
   "nbconvert_exporter": "python",
   "pygments_lexer": "ipython3",
   "version": "3.10.8"
  }
 },
 "nbformat": 4,
 "nbformat_minor": 5
}
