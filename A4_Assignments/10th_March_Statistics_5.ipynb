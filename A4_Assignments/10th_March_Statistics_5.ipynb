{
 "cells": [
  {
   "cell_type": "markdown",
   "id": "31dc4234-b71b-4811-92dd-3a9e67979f5b",
   "metadata": {},
   "source": [
    "### Q1: What is Estimation Statistics? Explain point estimate and interval estimate.\n",
    "    \n",
    "    In statistics, estimation refers to the process by which one makes inferences about a population, based on information obtained from a sample.\n",
    "    \n",
    "    A point estimate is a single value estimate of a parameter. For instance, a sample mean is a point estimate of a population mean. \n",
    "    \n",
    "    An interval estimate gives us a range of values where the parameter is expected to lie. A confidence interval is the most common type of interval estimate."
   ]
  },
  {
   "cell_type": "markdown",
   "id": "ab7aba5f-0c3f-490b-8e0c-99f01376ff2c",
   "metadata": {},
   "source": [
    "### Q2. Write a Python function to estimate the population mean using a sample mean and standard deviation."
   ]
  },
  {
   "cell_type": "code",
   "execution_count": 3,
   "id": "97acb5f7-3ee8-46ce-9578-52eac576d596",
   "metadata": {},
   "outputs": [
    {
     "name": "stdout",
     "output_type": "stream",
     "text": [
      " lowebound :  72.35, upperbound = 72.65 \n"
     ]
    }
   ],
   "source": [
    "import math\n",
    "\n",
    "\"\"\"\n",
    "Z-Test = (x̄ – μ) / (σ / √n)\n",
    "\n",
    "x̄ = ( (Z-Test) * (σ / √n) ) + μ\n",
    "\n",
    "\"\"\"\n",
    "def population_mean(sample_mean, std, n) :\n",
    "    # # Calculate the margin of error for a 95% confidence interval\n",
    "    error_margin = 1.96 * (std/math.sqrt(n))\n",
    "    # Calculate the lower and upper bounds of the confidence interval\n",
    "    lower_bound = sample_mean - error_margin # lowerbound population mean\n",
    "    upper_bound = sample_mean + error_margin # upperbound population mean\n",
    "    \n",
    "    return lower_bound, upper_bound\n",
    "\n",
    "sample_mean = 72.5\n",
    "standard_deviation = 2.5\n",
    "sample_size = 1000\n",
    "output = population_mean(sample_mean, standard_deviation, sample_size)\n",
    "print(f\" lowebound : {output[0] : .2f}, upperbound ={output[1] : .2f} \")"
   ]
  },
  {
   "cell_type": "markdown",
   "id": "1480c0b0-1741-4a9d-90f6-59ed8fc00e97",
   "metadata": {},
   "source": [
    "### Q3: What is Hypothesis testing? Why is it used? State the importance of Hypothesis testing.\n",
    "    \n",
    "    Hypothesis testing is a form of statistical inference that uses data from a sample to draw conclusions about a population parameter or a population probability distribution.\n",
    "    \n",
    "    The purpose of hypothesis testing is to test whether the null hypothesis (there is no difference, no effect) can be rejected or approved. If the null hypothesis is rejected, then the alternative hypothesis can be accepted. If the null hypothesis is accepted, then the alternative hypothesis is rejected.\n",
    "    \n",
    "    Hypothesis testing allows the researcher to determine whether the data from the sample is statistically significant or not"
   ]
  },
  {
   "cell_type": "markdown",
   "id": "bb119b47-1672-493f-bb1d-e9afa1dbbf89",
   "metadata": {},
   "source": [
    "### Q4. Create a hypothesis that states whether the average weight of male college students is greater than the average weight of female college students.\n",
    "    \n",
    "    Here is the Hypothesis:\n",
    "        \n",
    "        1) Null hypothesis: The average weight of male college students is equal to or less than the average weight of female college students.\n",
    "\n",
    "        2) Alternative hypothesis: The average weight of male college students is greater than the average weight of female college students.\n",
    "        \n",
    "        3) To test this hypothesis, we could randomly sample male and female college students, measure their weights, and perform a statistical test, such as a one-tailed t-test, to determine whether the sample data provides evidence to reject or fail to reject the null hypothesis in favor of the alternative hypothesis."
   ]
  },
  {
   "cell_type": "markdown",
   "id": "55bd7513-4249-4a6e-bc91-1dfbae136bc5",
   "metadata": {},
   "source": [
    "### Q5. Write a Python script to conduct a hypothesis test on the difference between two population means, given a sample from each population."
   ]
  },
  {
   "cell_type": "code",
   "execution_count": 39,
   "id": "5094185b-3588-4a3b-8bc6-e55687572427",
   "metadata": {},
   "outputs": [
    {
     "name": "stdout",
     "output_type": "stream",
     "text": [
      "Sample 1 mean:  6.0\n",
      "Sample 2 mean:  8.0\n",
      "Pooled standard deviation:  2.792848008753788\n",
      "Test statistic:  -1.2229989761755713\n",
      "Critical value:  2.2281388519649385\n",
      "Margin of error:  3.643729709296292\n",
      "Confidence interval: (-5.64, 1.64)\n",
      "Fail to reject the null hypothesis that the population means are equal.\n"
     ]
    }
   ],
   "source": [
    "import numpy as np\n",
    "import math\n",
    "from scipy.stats import t\n",
    "\n",
    "sample1 = np.array([2, 4, 6, 8, 10])\n",
    "sample2 = np.array([1, 3, 5, 7, 9])\n",
    "\n",
    "# Set the significance level (alpha)\n",
    "alpha = 0.05\n",
    "\n",
    "# Define the sample data for the two populations\n",
    "sample1 = np.array([3, 5, 6, 7, 9])\n",
    "sample2 = np.array([4, 5, 6, 8, 10, 11, 12])\n",
    "\n",
    "# Calculate the sample means and standard deviations\n",
    "x1 = np.mean(sample1)\n",
    "x2 = np.mean(sample2)\n",
    "s1 = np.std(sample1, ddof=1)\n",
    "s2 = np.std(sample2, ddof=1)\n",
    "\n",
    "# Calculate the pooled standard deviation\n",
    "sp = np.sqrt(((len(sample1) - 1) * s1**2 + (len(sample2) - 1) * s2**2) / (len(sample1) + len(sample2) - 2))\n",
    "\n",
    "# Calculate the test statistic\n",
    "t_statistic = (x1 - x2) / (sp * np.sqrt(1/len(sample1) + 1/len(sample2)))\n",
    "\n",
    "# Find the critical value from the t-distribution\n",
    "df = len(sample1) + len(sample2) - 2\n",
    "t_critical = t.ppf(1 - alpha/2, df)\n",
    "\n",
    "# Calculate the confidence interval for the difference between means\n",
    "margin_of_error = t_critical * sp * np.sqrt(1/len(sample1) + 1/len(sample2))\n",
    "ci_lower = (x1 - x2) - margin_of_error\n",
    "ci_upper = (x1 - x2) + margin_of_error\n",
    "\n",
    "# Print the results\n",
    "print(\"Sample 1 mean: \", x1)\n",
    "print(\"Sample 2 mean: \", x2)\n",
    "print(\"Pooled standard deviation: \", sp)\n",
    "print(\"Test statistic: \", t_statistic)\n",
    "print(\"Critical value: \", t_critical)\n",
    "print(\"Margin of error: \", margin_of_error)\n",
    "print(\"Confidence interval: ({:.2f}, {:.2f})\".format(ci_lower, ci_upper))\n",
    "\n",
    "# Conduct the hypothesis test\n",
    "if abs(t_statistic) > t_critical:\n",
    "    print(\"Reject the null hypothesis that the population means are equal.\")\n",
    "else:\n",
    "    print(\"Fail to reject the null hypothesis that the population means are equal.\")\n",
    "\n"
   ]
  },
  {
   "cell_type": "markdown",
   "id": "6f5c4409-0abf-4a14-b352-4cabefaf262f",
   "metadata": {},
   "source": [
    "### Q6: What is a null and alternative hypothesis? Give some examples.\n",
    "    \n",
    "        A null hypothesis is a statement, in which there is no relationship between two variables.\n",
    "        \n",
    "        An alternative hypothesis is statement in which there is some statistical significance between two measured phenomenon.\n",
    "        \n",
    "        Examples : \n",
    "            \n",
    "            1) Investing in stock market: Buying stocks during down market will earn higher returns\n",
    "                a) Null hypothesis: It is not true that buying stocks during down market will return higher return\n",
    "                b) Alternate hypothesis: Buying stocks during down market earns higher returns.\n",
    "            \n",
    "            2) New heart medicine: New medicine reduces the risk of heart attack by 60%\n",
    "                a) Null hypothesis: It is not true that new medicine reduces the risk of heart attack by 60%\n",
    "                b) Alternate Hypothesis: New medicine reduces the risk of heart attack by at least 60%."
   ]
  },
  {
   "cell_type": "markdown",
   "id": "1e9efd00-2ea7-40df-916a-b98762454f6c",
   "metadata": {},
   "source": [
    "### Q7: Write down the steps involved in hypothesis testing.\n",
    "    \n",
    "    There are 5 main steps in hypothesis testing:\n",
    "    \n",
    "        1) State your research hypothesis as a null hypothesis (Ho) and alternate hypothesis (Ha or H1).\n",
    "        2) Collect data in a way designed to test the hypothesis.\n",
    "        3) Perform an appropriate statistical test.\n",
    "        4) Decide whether to reject or fail to reject your null hypothesis.\n",
    "        5) Present the findings in your results and discussion section.\n"
   ]
  },
  {
   "cell_type": "markdown",
   "id": "d2eaec74-478a-4849-af1f-c884d62afe5c",
   "metadata": {},
   "source": [
    "### Q8. Define p-value and explain its significance in hypothesis testing.\n",
    "\n",
    "    The P value is defined as the probability under the assumption of no effect or no difference (null hypothesis), of obtaining a result equal to or more extreme than what was actually observed. The P stands for probability and measures how likely it is that any observed difference between groups is due to chance.\n",
    "    \n",
    "    P-Values are used in statistical hypothesis testing to determine whether to reject the null hypothesis. The smaller the p-value, the stronger the likelihood that we should reject the null hypothesis. "
   ]
  },
  {
   "cell_type": "markdown",
   "id": "54e940d4-5ac7-4d99-97aa-01fbfb407174",
   "metadata": {},
   "source": [
    "### Q9. Generate a Student's t-distribution plot using Python's matplotlib library, with the degrees of freedom parameter set to 10.\n",
    "    \n",
    "    "
   ]
  },
  {
   "cell_type": "code",
   "execution_count": 6,
   "id": "9b207419-8ea0-4e45-a8f5-64f6371cfe43",
   "metadata": {},
   "outputs": [
    {
     "data": {
      "image/png": "[encoded data removed]",
      "text/plain": [
       "<Figure size 640x480 with 1 Axes>"
      ]
     },
     "metadata": {},
     "output_type": "display_data"
    }
   ],
   "source": [
    "import numpy as np\n",
    "import matplotlib.pyplot as plt\n",
    "from scipy.stats import t\n",
    "\n",
    "df = 10  # degrees of freedom\n",
    "x = np.linspace(-4, 4, 1000)  # range of x values\n",
    "\n",
    "# calculate the y values for the t-distribution\n",
    "y = t.pdf(x, df)\n",
    "\n",
    "# create a new figure and axis\n",
    "fig, ax = plt.subplots()\n",
    "\n",
    "# plot the t-distribution\n",
    "ax.plot(x, y, label=f't-distribution (df={df})')\n",
    "\n",
    "# add a legend and axis labels\n",
    "ax.legend()\n",
    "ax.set_xlabel('x')\n",
    "ax.set_ylabel('y')\n",
    "ax.set_title(f'Student\\'s t-distribution (df={df})')\n",
    "\n",
    "# show the plot\n",
    "plt.show()\n"
   ]
  },
  {
   "cell_type": "markdown",
   "id": "2222a5a2-d5d8-4fcd-90de-03343bfafd16",
   "metadata": {},
   "source": [
    "### Q10. Write a Python program to calculate the two-sample t-test for independent samples, given two random samples of equal size and a null hypothesis that the population means are equal."
   ]
  },
  {
   "cell_type": "code",
   "execution_count": 9,
   "id": "f2d24e6a-e9a3-4824-9e83-5dcba7c8aae9",
   "metadata": {},
   "outputs": [
    {
     "name": "stdout",
     "output_type": "stream",
     "text": [
      "Reject null hypothesis\n"
     ]
    }
   ],
   "source": [
    "import numpy as np\n",
    "from scipy.stats import ttest_ind\n",
    "\n",
    "# generate two random samples of equal size\n",
    "sample1 = np.random.normal(10, 2, size=20)\n",
    "sample2 = np.random.normal(12, 2, size=20)\n",
    "\n",
    "# calculate the t-statistic and p-value using scipy.stats.ttest_ind\n",
    "t_stat, p_value = ttest_ind(sample1, sample2)\n",
    "\n",
    "# check if the p-value is less than alpha (typically 0.05) to reject the null hypothesis\n",
    "alpha = 0.05\n",
    "if p_value < alpha:\n",
    "    print('Reject null hypothesis')\n",
    "else:\n",
    "    print('Fail to reject null hypothesis')"
   ]
  },
  {
   "cell_type": "markdown",
   "id": "3a28e4a1-1c53-49ca-a6a5-e10a5a26f33e",
   "metadata": {},
   "source": [
    "### Q11: What is Student’s t distribution? When to use the t-Distribution.\n",
    "    \n",
    "    The Student’s t distribution is a one-parameter family of curves. This distribution is typically used to test a hypothesis regarding the population mean when the population standard deviation is unknown.\n",
    "    \n",
    "    The T distribution (also called Student’s T Distribution) is a family of distributions that look almost identical to the normal distribution curve, only a bit shorter and fatter. The t distribution is used instead of the normal distribution when we have small samples (for more on this, see: t-score vs. z-score). The larger the sample size, the more the t distribution looks like the normal distribution.\n",
    "    \n",
    "    "
   ]
  },
  {
   "cell_type": "markdown",
   "id": "02171e16-0476-4a2e-b116-cc3d30399e9b",
   "metadata": {},
   "source": [
    "### Q12: What is t-statistic? State the formula for t-statistic.\n",
    "    \n",
    "    In statistics, the t-statistic is the ratio of the departure of the estimated value of a parameter from its hypothesized value to its standard error.\n",
    "    \n",
    "    Formula : \n",
    "        \n",
    "        t = [ x – μ> ] / [ s / sqrt( n ) ]\n",
    "        \n",
    "        s = sample standard deviation\n",
    "        n = sample size\n",
    "        x = mean of sample\n",
    "        μ = mean of population"
   ]
  },
  {
   "cell_type": "markdown",
   "id": "5720d630-30ba-4a97-953b-2a9c18a2fc82",
   "metadata": {},
   "source": [
    "### Q13. A coffee shop owner wants to estimate the average daily revenue for their shop. They take a random sample of 50 days and find the sample mean revenue to be 500 with a standard deviation of 50. Estimate the population mean revenue with a 95% confidence interval.\n",
    "    \n",
    "    To estimate the population mean revenue with a 95% confidence interval, we can use the following formula:\n",
    "    \n",
    "    CI = X̄ ± z * (σ/√n)\n",
    "    \n",
    "        X̄ is the sample mean revenue\n",
    "        σ is the population standard deviation (unknown)\n",
    "        n is the sample size\n",
    "        z* is the critical value from the standard normal distribution at the desired confidence level. For a 95% confidence level, z* = 1.96.\n",
    "        \n",
    "    CI = 500 ± 1.96 * (50/√50)\n",
    "       = 500 ± 1.96 * 7.07\n",
    "       = (485.57, 514.43)\n",
    "       \n",
    "       Therefore, we can be 95% confident that the population mean revenue is between $485.57 and $514.43 per day."
   ]
  },
  {
   "cell_type": "markdown",
   "id": "730dc8d3-d27d-46f9-b6eb-43f290512adc",
   "metadata": {},
   "source": [
    "### Q14. A researcher hypothesizes that a new drug will decrease blood pressure by 10 mmHg. They conduct a clinical trial with 100 patients and find that the sample mean decrease in blood pressure is 8 mmHg with a standard deviation of 3 mmHg. Test the hypothesis with a significance level of 0.05.\n",
    "    \n",
    "    To test the hypothesis that the new drug will decrease blood pressure by 10 mmHg, we can use a one-sample t-test.\n",
    "    \n",
    "    formula : \n",
    "        t = (X - μ) / (s / √n)\n",
    "            X = sample mean\n",
    "            μ = population mean\n",
    "            s = sample satandard deviation\n",
    "            n = sample_size\n",
    "    Hypothesis :\n",
    "        The null hypothesis is that the population mean decrease in blood pressure is equal to 10 mmHg\n",
    "        The alternative hypothesis is that the population mean decrease in blood pressure is less than 10 mmHg.\n",
    "    \n",
    "    t = (8 - 10) / (3 / √100)\n",
    "      = -2.82\n",
    "    \n",
    "    The degrees of freedom for the t-distribution is n - 1 = 99. Using a t-table or a calculator, we can find the critical value of t for a one-tailed test at a significance level of 0.05 and 99 degrees of freedom to be -1.660. Since the calculated t-value (-2.82) is less than the critical value (-1.660), we reject the null hypothesis and conclude that there is sufficient evidence to suggest that the new drug decreases blood pressure by less than 10 mmHg."
   ]
  },
  {
   "cell_type": "markdown",
   "id": "28cca71e-d793-478c-86ae-07b061f57f5a",
   "metadata": {},
   "source": [
    "### Q15. An electronics company produces a certain type of product with a mean weight of 5 pounds and a standard deviation of 0.5 pounds. A random sample of 25 products is taken, and the sample mean weight is found to be 4.8 pounds. Test the hypothesis that the true mean weight of the products is less than 5 pounds with a significance level of 0.01.\n",
    "\n",
    "    To test the hypothesis that the true mean weight of the products is less than 5 pounds, we can use a one-sample t-test. \n",
    "    \n",
    "    Hypothesis :\n",
    "    \n",
    "    The null hypothesis is that the population mean weight is equal to 5 pounds\n",
    "    The alternative hypothesis is that the population mean weight is less than 5 pounds.\n",
    "    \n",
    "    The test statistic for the one-sample t-test\n",
    "        \n",
    "        formula : \n",
    "        t = (X - μ) / (s / √n)\n",
    "            X = sample mean\n",
    "            μ = population mean\n",
    "            s = sample satandard deviation\n",
    "            n = sample_size\n",
    "        \n",
    "        t = (4.8 - 5) / (0.5 / √25)\n",
    "          = -2\n",
    "          \n",
    "    The degrees of freedom for the t-distribution is n - 1 = 24. Using a t-table or a calculator, we can find the critical value of t for a one-tailed test at a significance level of 0.01 and 24 degrees of freedom to be -2.492. Since the calculated t-value (-2) is greater than the critical value (-2.492), we fail to reject the null hypothesis and conclude that there is not sufficient evidence to suggest that the true mean weight of the products is less than 5 pounds at a significance level of 0.01.\n"
   ]
  },
  {
   "cell_type": "markdown",
   "id": "c1b7f452-c100-47f3-bc92-4031980c1203",
   "metadata": {},
   "source": [
    "### Q16. Two groups of students are given different study materials to prepare for a test. The first group (n1 = 30) has a mean score of 80 with a standard deviation of 10, and the second group (n2 = 40) has a mean score of 75 with a standard deviation of 8. Test the hypothesis that the population means for the two groups are equal with a significance level of 0.01.\n",
    "    \n",
    "    To test the hypothesis that the population means for the two groups are equal, we can use a two-sample t-test.\n",
    "        \n",
    "        Hypothesis :\n",
    "        \n",
    "        The null hypothesis is that the population means for the two groups are equal\n",
    "        The alternative hypothesis is that they are not equal.\n",
    "        \n",
    "        The test statistic for the two-sample t-test is calculated as:\n",
    "\n",
    "        t = (x1 - x2) / (s_pooled * sqrt(1/n1 + 1/n2))\n",
    "        \n",
    "        s_pooled = sqrt(((n1 - 1) * s1 ** 2 + (n2 - 1) * s2 ** 2) / (n1 + n2 - 2))\n",
    "        \n",
    "        where x1 and x2 are the sample means, s1 and s2 are the sample standard deviations, and n1 and n2 are the sample sizes.\n",
    "        \n",
    "        s_pooled = sqrt(((30 - 1) * 10 ** 2 + (40 - 1) * 8 ** 2) / (30 + 40 - 2))\n",
    "                 = 8.90\n",
    "        \n",
    "        t = (x1 - x2) / (s_pooled * sqrt(1/n1 + 1/n2))\n",
    "          = (80-75) / (8.90 * sqrt(1/30 + 1/40))\n",
    "          = 2.32\n",
    "        \n",
    "        Using a significance level of 0.01 and degrees of freedom df = n1 + n2 - 2 = 68, we can find the critical value from a t-distribution table or a calculator. For a two-tailed test, the critical value is ±2.660.\n",
    "\n",
    "        Since the calculated t-value of 2.32 is within the acceptance region between -2.660 and 2.660, we fail to reject the null hypothesis. Therefore, we do not have sufficient evidence to conclude that the population means for the two groups are different at the 0.01 significance level."
   ]
  },
  {
   "cell_type": "markdown",
   "id": "82665a20-13b0-4eb7-a795-cbb8bb4e8a81",
   "metadata": {},
   "source": [
    "### Q17. A marketing company wants to estimate the average number of ads watched by viewers during a TV program. They take a random sample of 50 viewers and find that the sample mean is 4 with a standard deviation of 1.5. Estimate the population mean with a 99% confidence interval.\n",
    "    \n",
    "    To estimate the population mean with a 99% confidence interval, we can use the following formula:\n",
    "\n",
    "        CI = x ± zα/2 * (σ/√n)\n",
    "\n",
    "        where CI is the confidence interval, x̄ is the sample mean, zα/2 is the critical value for the desired confidence level (99% in this case), σ is the population standard deviation (unknown), and n is the sample size.\n",
    "\n",
    "        Since the population standard deviation is unknown, we can use the sample standard deviation as an estimate, which is s = 1.5. Substituting the given values, we get:\n",
    "\n",
    "        CI = 4 ± 2.576 * (1.5/√50) = 4 ± 0.645\n",
    "\n",
    "        Therefore, the 99% confidence interval for the population mean number of ads watched by viewers during a TV program is (4 - 0.645, 4 + 0.645), or approximately (3.355, 4.645). We can interpret this interval as follows: we are 99% confident that the true population mean number of ads watched by viewers during a TV program lies between 3.355 and 4.645.\n",
    "    "
   ]
  },
  {
   "cell_type": "code",
   "execution_count": null,
   "id": "5b7bf04c-7589-4939-b9ae-03a3bb393398",
   "metadata": {},
   "outputs": [],
   "source": []
  }
 ],
 "metadata": {
  "kernelspec": {
   "display_name": "Python 3 (ipykernel)",
   "language": "python",
   "name": "python3"
  },
  "language_info": {
   "codemirror_mode": {
    "name": "ipython",
    "version": 3
   },
   "file_extension": ".py",
   "mimetype": "text/x-python",
   "name": "python",
   "nbconvert_exporter": "python",
   "pygments_lexer": "ipython3",
   "version": "3.10.8"
  }
 },
 "nbformat": 4,
 "nbformat_minor": 5
}
