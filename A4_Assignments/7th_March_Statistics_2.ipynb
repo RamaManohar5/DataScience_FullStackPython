{
 "cells": [
  {
   "cell_type": "markdown",
   "id": "52f2594d-789b-4673-b169-3321e4893e23",
   "metadata": {},
   "source": [
    "### Q1. What are the three measures of central tendency?\n",
    "    \n",
    "    The three measures of central tendency are :\n",
    "                                                Mean\n",
    "                                                Median\n",
    "                                                Mode"
   ]
  },
  {
   "cell_type": "markdown",
   "id": "9154059b-0558-4eb6-85e1-6ee4d74bda41",
   "metadata": {},
   "source": [
    "## Q2. What is the difference between the mean, median, and mode? How are they used to measure the central tendency of a dataset?\n",
    "        \n",
    "    1) Mean :\n",
    "    ---------\n",
    "        The mean is the arithmetic average, and it is probably the measure of central tendency that we are most familiar. Calculating the mean is very simple. We just add up all of the values and divide by the number of observations in your dataset.\n",
    "        The calculation of the mean incorporates all values in the data. If we change any value, the mean changes. However, the mean doesn’t always locate the center of the data accurately.\n",
    "    \n",
    "    2) Median : \n",
    "    ------------\n",
    "        The median is the middle value. It is the value that splits the dataset in half, making it a natural measure of central tendency.\n",
    "        To find the median, order our data from smallest to largest, and then find the data point that has an equal number of values above it and below it. \n",
    "        The method for locating the median varies slightly depending on whether our dataset has an even or odd number of values. When there is an even number of values, you count in to the two innermost values and then take the average.\n",
    "    \n",
    "    3) Mode :\n",
    "    ----------\n",
    "        The mode is the value that occurs the most frequently in our data set, making it a different type of measure of central tendency than the mean or median.\n",
    "\n",
    "        To find the mode, sort the values in our dataset by numeric values or by categories. Then identify the value that occurs most often."
   ]
  },
  {
   "cell_type": "markdown",
   "id": "4443c507-021f-4b28-a31a-4b9662a9e229",
   "metadata": {},
   "source": [
    "### Q3. Measure the three measures of central tendency for the given height data:\n",
    "    \n",
    "    [178,177,176,177,178.2,178,175,179,180,175,178.9,176.2,177,172.5,178,176.5]"
   ]
  },
  {
   "cell_type": "code",
   "execution_count": 58,
   "id": "786cde5e-9000-4030-8f18-596e05d03a4c",
   "metadata": {},
   "outputs": [
    {
     "name": "stdout",
     "output_type": "stream",
     "text": [
      "Mean   : 177.01875\n",
      "Median : 177.0\n",
      "Mode   : ModeResult(mode=array([177.]), count=array([3]))\n"
     ]
    }
   ],
   "source": [
    "import numpy as np\n",
    "from scipy import stats\n",
    "\n",
    "lst = [178,177,176,177,178.2,178,175,179,180,175,178.9,176.2,177,172.5,178,176.5]\n",
    "\n",
    "print(f\"Mean   : {np.mean(lst)}\")\n",
    "print(f\"Median : {np.median(lst)}\")\n",
    "print(f\"Mode   : {stats.mode(lst, keepdims=True)}\")"
   ]
  },
  {
   "cell_type": "markdown",
   "id": "cf263d52-5788-4fa7-9d07-e81c7a77fc58",
   "metadata": {},
   "source": [
    "### Q4. Find the standard deviation for the given data:\n",
    "    [178,177,176,177,178.2,178,175,179,180,175,178.9,176.2,177,172.5,178,176.5]"
   ]
  },
  {
   "cell_type": "code",
   "execution_count": 59,
   "id": "246c0d22-7d33-4c19-8379-db8d9b65421a",
   "metadata": {},
   "outputs": [
    {
     "name": "stdout",
     "output_type": "stream",
     "text": [
      "Standard Deviation : [1.84723893]\n"
     ]
    }
   ],
   "source": [
    "import pandas as pd\n",
    "\n",
    "lst1 = [178,177,176,177,178.2,178,175,179,180,175,178.9,176.2,177,172.5,178,176.5]\n",
    "df = pd.DataFrame(lst1)\n",
    "print(f\"Standard Deviation : {df.std(axis=0).values}\")"
   ]
  },
  {
   "cell_type": "markdown",
   "id": "7061a8f4-0fc0-4c7d-b05d-091532319509",
   "metadata": {},
   "source": [
    "## Q5. How are measures of dispersion such as range, variance, and standard deviation used to describe the spread of a dataset? Provide an example.\n",
    "     \n",
    "     The range, variance, and standard deviation are all measures of dispersion that provide information about how spread out the data values are.\n",
    "     The range is a simple measure that is sensitive to outliers, while the variance and standard deviation are more robust measures that take into account all the values in the dataset. \n",
    "     The standard deviation is particularly useful for describing the spread of data that follows a normal distribution."
   ]
  },
  {
   "cell_type": "code",
   "execution_count": 60,
   "id": "c2eb70b0-0e34-4a85-b47f-3116f482ff07",
   "metadata": {},
   "outputs": [
    {
     "name": "stdout",
     "output_type": "stream",
     "text": [
      "Range              : 28\n",
      "Variance           : 62.7400\n",
      "Standard Deviation : 7.9209\n"
     ]
    }
   ],
   "source": [
    "import numpy as np\n",
    "\n",
    "scores = np.array([70, 72, 73, 75, 76, 78, 80, 81, 82, 83, 84, 85, 86, 88, 89, 90, 92, 94, 96, 98])\n",
    "\n",
    "print(f\"Range              : {np.ptp(scores)}\")\n",
    "print(f\"Variance           : {np.var(scores):.4f}\")\n",
    "print(f\"Standard Deviation : {np.std(scores):.4f}\")\n"
   ]
  },
  {
   "cell_type": "markdown",
   "id": "e5b96461-5c50-4719-9a04-5813fa63d347",
   "metadata": {},
   "source": [
    "The range is the difference between the maximum and minimum values in the dataset. In this case, the range is 28.\n",
    "\n",
    "The variance is the average of the squared differences of each value from the mean. It measures how much the data points are spread out from the mean. In this case, the variance is: 62.7400\n",
    "\n",
    "The standard deviation is the square root of the variance. It is a measure of how spread out the data is from the mean, and is commonly used to describe the variability in a dataset. In this case, the standard deviation is: 7.9209"
   ]
  },
  {
   "cell_type": "markdown",
   "id": "9de1892a-4df3-441a-aec4-d28dd802103e",
   "metadata": {},
   "source": [
    "### Q6. What is a Venn diagram?\n",
    "    A Venn diagram uses overlapping circles or other shapes to illustrate the logical relationships between two or more sets of items."
   ]
  },
  {
   "cell_type": "markdown",
   "id": "524d9fcd-a0bd-4d6f-9b41-df1882c90e44",
   "metadata": {},
   "source": [
    "### Q7. For the two given sets A = (2,3,4,5,6,7) & B = (0,2,6,8,10). Find:\n",
    "    (i) A B\n",
    "    (ii) A ⋃ B"
   ]
  },
  {
   "cell_type": "code",
   "execution_count": 61,
   "id": "ce0b50d5-f706-41bc-bd14-a7cfc5d52860",
   "metadata": {},
   "outputs": [
    {
     "name": "stdout",
     "output_type": "stream",
     "text": [
      "Intersection of A & B sets : [2 6]\n",
      "Union of A & B sets        : [ 0  2  3  4  5  6  7  8 10]\n"
     ]
    }
   ],
   "source": [
    "import numpy as np\n",
    "\n",
    "A = np.array([2,3,4,5,6,7])\n",
    "B = np.array([0,2,6,8,10])\n",
    "\n",
    "print(f\"Intersection of A & B sets : {np.intersect1d(A, B)}\")\n",
    "print(f\"Union of A & B sets        : {np.union1d(A, B)}\")"
   ]
  },
  {
   "cell_type": "markdown",
   "id": "6b712be2-f46a-46b8-8c4f-565f399870f3",
   "metadata": {},
   "source": [
    "### Q8. What do you understand about skewness in data?\n",
    "\n",
    "    Skewness is a measurement of the distortion of symmetrical distribution or asymmetry in a data set. \n",
    "    \n",
    "    Skewness is demonstrated on a bell curve when data points are not distributed symmetrically to the left and right sides of the median on a bell curve."
   ]
  },
  {
   "cell_type": "markdown",
   "id": "7b91d04b-a501-449e-a093-31e35396a7b5",
   "metadata": {},
   "source": [
    "### Q9. If a data is right skewed then what will be the position of median with respect to mean?\n",
    "    \n",
    "    When the distribution is skewed to the right, the mean is often greater than the median."
   ]
  },
  {
   "cell_type": "markdown",
   "id": "ac1c5b5c-0230-40e3-876f-c67e5c512034",
   "metadata": {},
   "source": [
    "### Q10. Explain the difference between covariance and correlation. How are these measures used in statistical analysis?\n",
    "        \n",
    "        Covariance and correlation are two measures of the relationship between two variables in a dataset. While both measures are used to describe the strength and direction of the relationship between variables.\n",
    "        \n",
    "        Covariance shows us how the two variables differ, whereas correlation shows us how the two variables are related.\n",
    "        \n",
    "         covariance and correlation are used to determine the strength and direction of the relationship between two variables. These measures are often used in regression analysis, where the goal is to predict the value of one variable (the dependent variable) based on the value of one or more other variables (the independent variables). Correlation is also used to determine the degree of association between two variables in other statistical analyses, such as hypothesis testing or factor analysis.\n",
    "    "
   ]
  },
  {
   "cell_type": "markdown",
   "id": "73a03b15-0be6-4d41-a444-630c2720828d",
   "metadata": {},
   "source": [
    "### Q11. What is the formula for calculating the sample mean? Provide an example calculation for a dataset.\n",
    "    \n",
    "    The formula for calculating the sample mean (also known as the sample average) is:\n",
    "\n",
    "        sample mean = sum of observations / number of observations"
   ]
  },
  {
   "cell_type": "code",
   "execution_count": 62,
   "id": "5e24d54f-deba-448b-917a-2aa51480e875",
   "metadata": {},
   "outputs": [
    {
     "name": "stdout",
     "output_type": "stream",
     "text": [
      "Mean of array : 5.4\n"
     ]
    }
   ],
   "source": [
    "import numpy as np\n",
    "\n",
    "arr = np.array([3, 5, 8, 2, 9])\n",
    "print(f\"Mean of array : {np.mean(arr)}\")"
   ]
  },
  {
   "cell_type": "markdown",
   "id": "40e14d5a-82da-478a-9206-54a760102e2f",
   "metadata": {},
   "source": [
    "### Q12. For a normal distribution data what is the relationship between its measure of central tendency?\n",
    "    \n",
    "    For a normal distribution, the mean, median, and mode are all equal. In other words, the measure of central tendency for a normal distribution is the same, regardless of whether we use the mean, median, or mode to describe it.\n",
    "    \n",
    "    This is because a normal distribution is symmetric around its mean. The mean is the arithmetic average of all the data points, the median is the middle value of the dataset when it is ordered from smallest to largest, and the mode is the most common value in the dataset. Since the normal distribution is symmetric, the mean, median, and mode all lie at the same point in the distribution."
   ]
  },
  {
   "cell_type": "markdown",
   "id": "d2619e5e-3054-43a1-b930-ff3e4b47ad0f",
   "metadata": {},
   "source": [
    "### Q13. How is covariance different from correlation?\n",
    "\n",
    "    Covariance and correlation are two measures that describe the relationship between two variables. While both measures are used to describe the direction and strength of the relationship, there are some differences between them:\n",
    "\n",
    "    Standardization: Covariance is not standardized, while correlation is standardized. This means that the magnitude of the covariance depends on the scale of the variables being measured, while the correlation coefficient always ranges from -1 to 1.\n",
    "\n",
    "    Interpretation: Covariance can take on any value, including negative values, while correlation ranges from -1 (perfect negative correlation) to 1 (perfect positive correlation). Correlation values of 0 indicate no linear relationship between the variables.\n",
    "\n",
    "    Units: Covariance is measured in units that are the product of the units of the two variables being measured, while correlation is unitless.\n",
    "\n",
    "    Sensitivity to outliers: Covariance is sensitive to outliers in the data, while correlation is more robust to outliers.\n",
    "\n",
    "    In summary, covariance and correlation are both measures of the relationship between two variables, but covariance is not standardized and is affected by the units of the variables being measured, while correlation is standardized, unitless, and more robust to outliers."
   ]
  },
  {
   "cell_type": "markdown",
   "id": "e2b0daed-7758-4c29-ac87-2f2027d6539b",
   "metadata": {},
   "source": [
    "### Q14. How do outliers affect measures of central tendency and dispersion? Provide an example.\n",
    "    \n",
    "    Outliers are extreme values in a dataset that are much higher or lower than the rest of the data. Outliers can have a significant impact on measures of central tendency and dispersion, as they can pull the mean, median, mode, and measures of spread away from the typical values of the dataset."
   ]
  },
  {
   "cell_type": "code",
   "execution_count": 63,
   "id": "a8ec1844-ff0e-47ae-aaf1-1c56ba1247dd",
   "metadata": {},
   "outputs": [
    {
     "name": "stdout",
     "output_type": "stream",
     "text": [
      " without outliers : Mean : 87.8889, Median 89.0, Mode ModeResult(mode=array([90]), count=array([2])), Variance 23.8765, Standard Deviation 4.8864\n",
      " with outliers :    Mean : 94.9000, Median 89.5, Mode ModeResult(mode=array([90]), count=array([2])), Variance 463.8900, Standard Deviation 21.5381\n"
     ]
    }
   ],
   "source": [
    "import numpy as np\n",
    "from scipy import stats\n",
    "\n",
    "arr1 = np.array([78, 89, 92, 84, 96, 90, 85, 87, 90])\n",
    "arr2 = np.array([78, 89, 92, 84, 96, 90, 85, 87, 90, 158])\n",
    "\n",
    "print(f\" without outliers : Mean : {np.mean(arr1):.4f}, Median {np.median(arr1)}, Mode {stats.mode(arr1, keepdims=True)}, Variance {np.var(arr1):.4f}, Standard Deviation {np.std(arr1):.4f}\")\n",
    "print(f\" with outliers :    Mean : {np.mean(arr2):.4f}, Median {np.median(arr2)}, Mode {stats.mode(arr2, keepdims=True)}, Variance {np.var(arr2):.4f}, Standard Deviation {np.std(arr2):.4f}\")"
   ]
  },
  {
   "cell_type": "markdown",
   "id": "833ebfc7-43b4-4b92-acdb-8f6a994d26c6",
   "metadata": {},
   "source": [
    "As we can see, the outlier has had a significant impact on the measures of central tendency and dispersion. The mean, the variance and the standard deviation have all increased significantly. This is because the outlier is so far from the rest of the data that it pulls the measures of central tendency and dispersion towards it.\n",
    "\n",
    "This example demonstrates the importance of identifying and dealing with outliers in a dataset, as they can significantly affect the results of statistical analysis."
   ]
  },
  {
   "cell_type": "code",
   "execution_count": null,
   "id": "afd75fd3-484c-4d38-aaf2-8851f301fd7b",
   "metadata": {},
   "outputs": [],
   "source": []
  }
 ],
 "metadata": {
  "kernelspec": {
   "display_name": "Python 3 (ipykernel)",
   "language": "python",
   "name": "python3"
  },
  "language_info": {
   "codemirror_mode": {
    "name": "ipython",
    "version": 3
   },
   "file_extension": ".py",
   "mimetype": "text/x-python",
   "name": "python",
   "nbconvert_exporter": "python",
   "pygments_lexer": "ipython3",
   "version": "3.10.8"
  }
 },
 "nbformat": 4,
 "nbformat_minor": 5
}
