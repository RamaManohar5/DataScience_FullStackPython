{
 "cells": [
  {
   "cell_type": "markdown",
   "id": "e3aea293-3753-4850-bf3f-b64227660b79",
   "metadata": {},
   "source": [
    "### Q1: What are the Probability Mass Function (PMF) and Probability Density Function (PDF)? Explain with an example.\n",
    "\n",
    "    Probability mass function can be defined as the probability that a discrete random variable will be exactly equal to some particular value. In other words, the probability mass function assigns a particular probability to every possible value of a discrete random variable.\n",
    "    \n",
    "    Probability density function defines the density of the probability that a continuous random variable will lie within a particular range of values. To determine this probability, we integrate the probability density function between two specified points.\n",
    "    \n",
    "    Example :\n",
    "        Let's look at an example to see the difference between PMF and PDF. Suppose we have a random variable X that represents the number of heads that come up when we toss a fair coin three times.\n",
    "\n",
    "        X can take on the values of 0, 1, 2, or 3. To calculate the PMF of X, we would find the probability of each possible value. Since we know that the coin is fair, the probability of getting any one outcome is 1/8. So the PMF of X is:\n",
    "\n",
    "        P(X=0) = 1/8\n",
    "        P(X=1) = 3/8\n",
    "        P(X=2) = 3/8\n",
    "        P(X=3) = 1/8\n",
    "\n",
    "        Now let's say we have a random variable Y that represents the height of people in a population. Y can take on any value within a certain range, and so it is a continuous random variable. To describe the distribution of Y, we would use a PDF. Suppose we know that the PDF of Y is a normal distribution with a mean of 170 cm and a standard deviation of 10 cm. The PDF of Y would be:\n",
    "\n",
    "        f(y) = (1/ (sqrt(2*pi)10)) * exp(-((y-170)^2)/(210^2))\n",
    "\n",
    "        This PDF tells us the probability density of the random variable Y at each point in the range of possible values. For example, the PDF tells us that the probability density of someone being exactly 170 cm tall is about 0.04. However, since Y is a continuous random variable, the probability of someone being exactly 170 cm tall is actually 0.\n"
   ]
  },
  {
   "cell_type": "markdown",
   "id": "6ea67497-5eac-4e19-a7dc-af8f7f058518",
   "metadata": {},
   "source": [
    "### Q2: What is Cumulative Density Function (CDF)? Explain with an example. Why CDF is used?\n",
    "    \n",
    "    The Cumulative Density Function (CDF) is a function that gives the probability that a random variable X is less than or equal to a certain value x. In other words, it provides the cumulative distribution of a random variable.\n",
    "\n",
    "    For a discrete random variable, the CDF is the sum of the probabilities of all possible outcomes up to and including x. For a continuous random variable, the CDF is the integral of the probability density function from negative infinity to x.\n",
    "    \n",
    "    To find the CDF of X at a certain value x, we can use the formula:\n",
    "\n",
    "    F(x) = P(X <= x) = ∫ (-∞ to x) f(t) dt\n",
    "\n",
    "    where f(t) is the probability density function of X.\n",
    "    \n",
    "    For example, if we want to find the probability that a person's height is less than or equal to 180 cm, we can calculate the CDF as follows:\n",
    "\n",
    "    F(180) = P(X <= 180) = ∫ (-∞ to 180) f(t) dt\n",
    "\n",
    "    Using the normal distribution with mean 170 cm and standard deviation 10 cm, we can find the probability density function f(t) and then integrate from negative infinity to 180 cm to find the CDF.\n",
    "    \n",
    "    CDF is used to describe the overall distribution of a random variable, and it provides a useful tool for analyzing the behavior of random variables. The CDF can also be used to generate other important statistical measures, such as the mean and variance of a random variable.\n"
   ]
  },
  {
   "cell_type": "markdown",
   "id": "589098d3-a80b-4978-aeb8-6128bc95ad17",
   "metadata": {},
   "source": [
    "### Q3: What are some examples of situations where the normal distribution might be used as a model? Explain how the parameters of the normal distribution relate to the shape of the distribution.\n",
    "    \n",
    "    Characteristics that are the sum of many independent processes frequently follow normal distributions. \n",
    "    \n",
    "    For example, heights, blood pressure, Technical Stock Market, measurement error, and IQ scores follow the normal distribution.\n",
    "    \n",
    "    The two main parameters of a (normal) distribution are the mean and standard deviation. The parameters determine the shape and probabilities of the distribution. The shape of the distribution changes as the parameter values change.\n",
    "\n",
    "    1. Mean (μ): \n",
    "        The mean is used by researchers as a measure of central tendency. It can be used to describe the distribution of variables measured as ratios or intervals. In a normal distribution graph, the mean defines the location of the peak, and most of the data points are clustered around the mean. Any changes made to the value of the mean move the curve either to the left or right along the X-axis.\n",
    "\n",
    "    2. Standard Deviation (σ): \n",
    "        The standard deviation measures the dispersion of the data points relative to the mean. It determines how far away from the mean the data points are positioned and represents the distance between the mean and the observations.\n",
    "\n",
    "        On the graph, the standard deviation determines the width of the curve, and it tightens or expands the width of the distribution along the x-axis. Typically, a small standard deviation relative to the mean produces a steep curve, while a large standard deviation relative to the mean produces a flatter curve."
   ]
  },
  {
   "cell_type": "markdown",
   "id": "c39f7c18-6c3c-468b-86b6-4924c9687225",
   "metadata": {},
   "source": [
    "### Q4: Explain the importance of Normal Distribution. Give a few real-life examples of Normal Distribution.\n",
    "    \n",
    "        The normal distribution is widely used in understanding distributions of factors in the population. Because the normal distribution approximates many natural phenomena so well, it has developed into a standard of reference for many probability problems.\n",
    "        Normal/Gaussian Distribution is a bell-shaped graph that encompasses two basic terms- mean and standard deviation. It is a symmetrical arrangement of a data set in which most values cluster in the mean and the rest taper off symmetrically towards either extreme. Numerous genetic and environmental factors influence the trait.\n",
    "        \n",
    "        Real-Life Examples :\n",
    "            1) Heights of the people\n",
    "            2) Rolling a Dice\n",
    "            3) Tossing a coin\n",
    "            4) IQ\n",
    "            5) Technical Stock Market\n",
    "            6) Blood Pressure\n",
    "            7) Student’s Average Report\n",
    "            8) Weights of new born babies\n",
    "            \n",
    "        "
   ]
  },
  {
   "cell_type": "markdown",
   "id": "9141213b-0bbc-4158-86e7-c5b6023fb195",
   "metadata": {},
   "source": [
    "### Q5: What is Bernaulli Distribution? Give an Example. What is the difference between Bernoulli Distribution and Binomial Distribution?\n",
    "    \n",
    "    Bernoulli distribution is a discrete probability distribution. It describes the probability of achieving a “success” or “failure” from a Bernoulli trial. A Bernoulli trial is an event that has only two possible outcomes (success or failure). \n",
    "    \n",
    "    For example, will a coin land on heads (success) or tails (failure)?\n",
    "    \n",
    "    The Bernoulli distribution represents the success or failure of a single Bernoulli trial. The Binomial Distribution represents the number of successes and failures in n independent Bernoulli trials for some given value of n."
   ]
  },
  {
   "cell_type": "markdown",
   "id": "3e7f1109-d15a-48cc-92ce-aa84d2eb319e",
   "metadata": {},
   "source": [
    "### Q6. Consider a dataset with a mean of 50 and a standard deviation of 10. If we assume that the dataset is normally distributed, what is the probability that a randomly selected observation will be greater than 60? Use the appropriate formula and show your calculations."
   ]
  },
  {
   "cell_type": "code",
   "execution_count": 3,
   "id": "95dd3f97-c919-4afc-b4db-4bdc6598d8d4",
   "metadata": {},
   "outputs": [
    {
     "name": "stdout",
     "output_type": "stream",
     "text": [
      "z-score : 1.0\n"
     ]
    }
   ],
   "source": [
    "mean = 50 # μ\n",
    "standard_deviation = 10 # σ\n",
    "x = 60 # obseravation\n",
    "# the z-score formula:\n",
    "# z = (x - μ) / σ\n",
    "z = (60 - 50) / 10\n",
    "print(f\"z-score : {z}\")"
   ]
  },
  {
   "cell_type": "markdown",
   "id": "2c33db8d-f087-48d0-9a1b-f2fafede743b",
   "metadata": {},
   "source": [
    "Now, we need to find the probability of a randomly selected observation being greater than 60, which is equivalent to finding the area under the standard normal distribution curve to the right of z = 1. We can use a standard normal distribution table or a calculator to find this area.\n",
    "\n",
    "Using a standard normal distribution table, we look for the probability corresponding to a z-score of 1, which is 0.8413 or 84.13%.\n",
    "\n",
    "Hence the answer:\n",
    "    P(x > 60) = P(z > 1) = 0.8413 ≈ 84.13%"
   ]
  },
  {
   "cell_type": "markdown",
   "id": "bbba5b3f-f7c0-4b1b-a3d8-196c5301807a",
   "metadata": {},
   "source": [
    "### Q7: Explain uniform Distribution with an example.\n",
    "    \n",
    "    Uniform distribution is a continuous probability distribution where every value within a given range has an equal probability of occurrence. In other words, all values within the range are equally likely to occur.\n",
    "\n",
    "    An example of a uniform distribution can be the roll of a fair six-sided die. The possible outcomes are the numbers 1, 2, 3, 4, 5, and 6, and each outcome has an equal probability of 1/6 or approximately 0.167. The range of values is from 1 to 6, and each value has an equal chance of occurring."
   ]
  },
  {
   "cell_type": "markdown",
   "id": "bb675c93-15f9-4dec-acf0-bd137b0507b9",
   "metadata": {},
   "source": [
    "### Q8: What is the z score? State the importance of the z score.\n",
    "        The z-score, also known as the standard score, is a measure of how many standard deviations a given observation or data point is from the mean of a distribution. It is calculated by subtracting the mean of the distribution from the observation and then dividing the result by the standard deviation of the distribution:\n",
    "\n",
    "        z = (x - μ) / σ\n",
    "\n",
    "        where x is the observation, μ is the mean, and σ is the standard deviation.\n",
    "    \n",
    "        Here are some of the important uses of z-scores:\n",
    "\n",
    "            Standardization:\n",
    "            ------------------\n",
    "            The z-score standardizes data to a common scale, which allows us to compare observations from different distributions, even if they have different means and standard deviations. This makes it easier to analyze and interpret data, especially when comparing observations from different samples or populations.\n",
    "\n",
    "            Outlier detection: \n",
    "            -------------------\n",
    "            The z-score is also used to detect outliers in a dataset. An observation that has a z-score greater than a certain threshold (usually 2 or 3 standard deviations from the mean) is considered an outlier, which may indicate an error in data collection or an unusual observation that requires further investigation.\n",
    "\n",
    "            Hypothesis testing: \n",
    "            --------------------\n",
    "            The z-score is used in hypothesis testing to determine the statistical significance of an observed difference between two groups or samples. By calculating the z-score for a test statistic, we can determine whether the observed difference is statistically significant or just due to chance.\n",
    "\n",
    "            Confidence intervals: \n",
    "            ----------------------\n",
    "            The z-score is used to calculate confidence intervals, which are a range of values that are likely to contain the true population parameter with a certain degree of confidence. By calculating the z-score for a given level of confidence, we can determine the upper and lower bounds of the confidence interval.\n",
    "        "
   ]
  },
  {
   "cell_type": "markdown",
   "id": "3fb8f633-82cb-4f7b-875c-450a1020b7c7",
   "metadata": {},
   "source": [
    "### Q9: What is Central Limit Theorem? State the significance of the Central Limit Theorem.\n",
    "        \n",
    "        The central limit theorem says that the sampling distribution of the mean will always be normally distributed, as long as the sample size is large enough. Regardless of whether the population has a normal, Poisson, binomial, or any other distribution, the sampling distribution of the mean will be normal.\n",
    "        \n",
    "        Inother words, \n",
    "            The central limit theorem  states that the sum of a large number of independent and identically distributed random variables tends to be normally distributed, regardless of the underlying distribution of the individual variables. This is true even if the individual variables are not normally distributed, as long as they are not too skewed or have too heavy tails.\n",
    "        \n",
    "        Significance :\n",
    "            The significance of the Central Limit Theorem is that it provides a powerful tool for making inferences about a population based on a sample."
   ]
  },
  {
   "cell_type": "markdown",
   "id": "d0d2deff-ce7f-49f4-ae1c-cd1851fbc834",
   "metadata": {},
   "source": [
    "### Q10: State the assumptions of the Central Limit Theorem.\n",
    "    \n",
    "    The central limit theorem (CLT) is a fundamental statistical concept that describes the behavior of the means of a large number of independent and identically distributed random variables. \n",
    "    \n",
    "    The assumptions of the CLT are as follows:\n",
    "\n",
    "        Independence: The observations are independent of each other, meaning that the outcome of one observation does not affect the outcome of any other observation.\n",
    "\n",
    "        Sample size: The sample size is sufficiently large. There is no set rule for what constitutes a \"sufficiently large\" sample size, but as a general rule, the sample size should be at least 30.\n",
    "\n",
    "        Finite variance: The population from which the sample is drawn has a finite variance. That is, the variability in the population from which the sample is drawn is not infinite.\n",
    "\n",
    "        Identically distributed: The random variables in the sample are identically distributed. This means that they come from the same population and have the same distribution.\n",
    "\n",
    "        If these assumptions are met, the central limit theorem states that the distribution of the sample means will approach a normal distribution, regardless of the distribution of the original population. This theorem has important applications in statistical inference and hypothesis testing.\n"
   ]
  },
  {
   "cell_type": "code",
   "execution_count": null,
   "id": "257ef012-8e72-43a5-9bce-1e25a0af1198",
   "metadata": {},
   "outputs": [],
   "source": []
  }
 ],
 "metadata": {
  "kernelspec": {
   "display_name": "Python 3 (ipykernel)",
   "language": "python",
   "name": "python3"
  },
  "language_info": {
   "codemirror_mode": {
    "name": "ipython",
    "version": 3
   },
   "file_extension": ".py",
   "mimetype": "text/x-python",
   "name": "python",
   "nbconvert_exporter": "python",
   "pygments_lexer": "ipython3",
   "version": "3.10.8"
  }
 },
 "nbformat": 4,
 "nbformat_minor": 5
}
