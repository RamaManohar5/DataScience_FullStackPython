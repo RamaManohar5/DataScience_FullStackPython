{
 "cells": [
  {
   "cell_type": "markdown",
   "id": "41d80682-0931-42d1-81e8-7e780a4eadc9",
   "metadata": {},
   "source": [
    "### Q1. Write a Python function that takes in two arrays of data and calculates the F-value for a variance ratio test. The function should return the F-value and the corresponding p-value for the test."
   ]
  },
  {
   "cell_type": "code",
   "execution_count": 3,
   "id": "b017915e-0092-42c1-abf7-f9cc9ce5c267",
   "metadata": {},
   "outputs": [
    {
     "name": "stdout",
     "output_type": "stream",
     "text": [
      "F-value: 108.48204530358464\n",
      "p-value: 1.5504585243740938e-20\n"
     ]
    }
   ],
   "source": [
    "from scipy.stats import f_oneway\n",
    "import numpy as np\n",
    "\n",
    "def variance_ratio_test(data1, data2):\n",
    "    \"\"\"\n",
    "    Perform a variance ratio test on two arrays of data.\n",
    "\n",
    "    Parameters:\n",
    "        data1 (array-like): First array of data.\n",
    "        data2 (array-like): Second array of data.\n",
    "\n",
    "    Returns:\n",
    "        f_value (float): The F-value for the variance ratio test.\n",
    "        p_value (float): The p-value for the variance ratio test.\n",
    "    \"\"\"\n",
    "    f_value, p_value = f_oneway(data1, data2)\n",
    "    return f_value, p_value\n",
    "\n",
    "# generate two arrays of random data\n",
    "data1 = np.random.normal(loc=5, scale=2, size=100)\n",
    "data2 = np.random.normal(loc=10, scale=5, size=100)\n",
    "\n",
    "# perform variance ratio test on the two arrays of data\n",
    "f_value, p_value = variance_ratio_test(data1, data2)\n",
    "\n",
    "# print the results\n",
    "print(\"F-value:\", f_value)\n",
    "print(\"p-value:\", p_value)"
   ]
  },
  {
   "cell_type": "markdown",
   "id": "1aa6b12b-cfbb-4ae3-9c88-f6a456230f13",
   "metadata": {},
   "source": [
    "### Q2. Given a significance level of 0.05 and the degrees of freedom for the numerator and denominator of an F-distribution, write a Python function that returns the critical F-value for a two-tailed test."
   ]
  },
  {
   "cell_type": "code",
   "execution_count": 4,
   "id": "2618502b-3a0b-43a5-86bc-3a4e83aa593c",
   "metadata": {},
   "outputs": [
    {
     "name": "stdout",
     "output_type": "stream",
     "text": [
      "4.236085668188633\n"
     ]
    }
   ],
   "source": [
    "from scipy.stats import f\n",
    "\n",
    "def critical_f_value(alpha, dfn, dfd):\n",
    "    \"\"\"\n",
    "    Returns the critical F-value for a two-tailed test with a given significance level and degrees of freedom\n",
    "    for the numerator and denominator of an F-distribution.\n",
    "    \n",
    "    Parameters:\n",
    "    alpha (float): The significance level (e.g. 0.05)\n",
    "    dfn (int): The degrees of freedom for the numerator of the F-distribution\n",
    "    dfd (int): The degrees of freedom for the denominator of the F-distribution\n",
    "    \n",
    "    Returns:\n",
    "    float: The critical F-value for a two-tailed test\n",
    "    \"\"\"\n",
    "    \n",
    "    # calculate the critical F-value using the inverse of the F-distribution's cumulative distribution function\n",
    "    return f.ppf(q=1-alpha/2, dfn=dfn, dfd=dfd)\n",
    "\n",
    "alpha = 0.05\n",
    "dfn = 5\n",
    "dfd = 10\n",
    "critical_f = critical_f_value(alpha, dfn, dfd)\n",
    "print(critical_f)"
   ]
  },
  {
   "cell_type": "markdown",
   "id": "9e30068e-0773-4698-bec0-f0160debbc0c",
   "metadata": {},
   "source": [
    "### Q3. Write a Python program that generates random samples from two normal distributions with known variances and uses an F-test to determine if the variances are equal. The program should output the F-value, degrees of freedom, and p-value for the test."
   ]
  },
  {
   "cell_type": "code",
   "execution_count": 5,
   "id": "134c3a15-a80a-4db5-a24f-e61229ee5b36",
   "metadata": {},
   "outputs": [
    {
     "name": "stdout",
     "output_type": "stream",
     "text": [
      "F-value: 0.23358046949978195\n",
      "Degrees of freedom (numerator, denominator): 29 29\n",
      "p-value: 0.0001914049595048754\n"
     ]
    }
   ],
   "source": [
    "import numpy as np\n",
    "from scipy.stats import f\n",
    "\n",
    "# set seed for reproducibility\n",
    "np.random.seed(42)\n",
    "\n",
    "# generate random samples from two normal distributions with known variances\n",
    "mu1, mu2 = 0, 0\n",
    "sigma1, sigma2 = 1, 2\n",
    "n1, n2 = 30, 30\n",
    "sample1 = np.random.normal(mu1, sigma1, n1)\n",
    "sample2 = np.random.normal(mu2, sigma2, n2)\n",
    "\n",
    "# perform F-test to determine if variances are equal\n",
    "f_value = np.var(sample1, ddof=1) / np.var(sample2, ddof=1)\n",
    "dfn = n1 - 1\n",
    "dfd = n2 - 1\n",
    "p_value = 2 * min(f.cdf(f_value, dfn, dfd), 1 - f.cdf(f_value, dfn, dfd))\n",
    "\n",
    "# output results\n",
    "print(\"F-value:\", f_value)\n",
    "print(\"Degrees of freedom (numerator, denominator):\", dfn, dfd)\n",
    "print(\"p-value:\", p_value)\n"
   ]
  },
  {
   "cell_type": "markdown",
   "id": "ab6ee9d8-de1f-411a-a26c-acd326df3e93",
   "metadata": {},
   "source": [
    "### Q4.The variances of two populations are known to be 10 and 15. A sample of 12 observations is taken from each population. Conduct an F-test at the 5% significance level to determine if the variances are significantly different."
   ]
  },
  {
   "cell_type": "code",
   "execution_count": 6,
   "id": "a35aacb1-e768-41cc-8e15-59d167ce4ae9",
   "metadata": {},
   "outputs": [
    {
     "name": "stdout",
     "output_type": "stream",
     "text": [
      "Fail to reject the null hypothesis. The variances of the two populations are equal.\n",
      "F-statistic:  0.3694885544859157\n",
      "Degrees of freedom (numerator, denominator):  11 11\n",
      "p-value:  0.11338185242754109\n"
     ]
    }
   ],
   "source": [
    "import numpy as np\n",
    "from scipy.stats import f\n",
    "\n",
    "# define the known population variances and sample sizes\n",
    "sigma1_squared = 10\n",
    "sigma2_squared = 15\n",
    "n1 = 12\n",
    "n2 = 12\n",
    "\n",
    "np.random.seed(42)\n",
    "# generate random samples from the populations\n",
    "pop1 = np.random.normal(loc=0, scale=np.sqrt(sigma1_squared), size=n1)\n",
    "pop2 = np.random.normal(loc=0, scale=np.sqrt(sigma2_squared), size=n2)\n",
    "\n",
    "# calculate the sample variances\n",
    "s1_squared = np.var(pop1, ddof=1)\n",
    "s2_squared = np.var(pop2, ddof=1)\n",
    "\n",
    "# calculate the test statistic\n",
    "f_statistic = s1_squared / s2_squared\n",
    "\n",
    "# calculate the p-value\n",
    "dfn = n1 - 1\n",
    "dfd = n2 - 1\n",
    "p_value = 2 * min(f.cdf(f_statistic, dfn, dfd), 1 - f.cdf(f_statistic, dfn, dfd))\n",
    "\n",
    "# compare p-value with the significance level alpha\n",
    "alpha = 0.05\n",
    "if p_value < alpha:\n",
    "    print(\"Reject the null hypothesis. The variances of the two populations are significantly different.\")\n",
    "else:\n",
    "    print(\"Fail to reject the null hypothesis. The variances of the two populations are equal.\")\n",
    "    \n",
    "# output the F-statistic, degrees of freedom, and p-value\n",
    "print(\"F-statistic: \", f_statistic)\n",
    "print(\"Degrees of freedom (numerator, denominator): \", dfn, dfd)\n",
    "print(\"p-value: \", p_value)\n"
   ]
  },
  {
   "cell_type": "markdown",
   "id": "43d63d8f-dbfc-4d40-8dde-fdb369604e57",
   "metadata": {},
   "source": [
    "### Q5. A manufacturer claims that the variance of the diameter of a certain product is 0.005. A sample of 25 products is taken, and the sample variance is found to be 0.006. Conduct an F-test at the 1% significance level to determine if the claim is justified."
   ]
  },
  {
   "cell_type": "code",
   "execution_count": 7,
   "id": "c1d1076f-356c-479b-81f5-b8d0c08cbadc",
   "metadata": {},
   "outputs": [
    {
     "name": "stdout",
     "output_type": "stream",
     "text": [
      "Fail to reject the null hypothesis. The variance of the population is equal to the claimed value.\n",
      "F-statistic:  1.2\n",
      "Degrees of freedom (numerator, denominator):  24 24\n",
      "p-value:  0.6587309365634488\n"
     ]
    }
   ],
   "source": [
    "from scipy.stats import f\n",
    "\n",
    "# define the claimed variance, sample variance, and sample size\n",
    "sigma_squared = 0.005\n",
    "s_squared = 0.006\n",
    "n = 25\n",
    "\n",
    "# calculate the test statistic\n",
    "f_statistic = s_squared / sigma_squared\n",
    "\n",
    "# calculate the p-value\n",
    "dfn = n - 1\n",
    "dfd = n - 1\n",
    "p_value = 2 * min(f.cdf(f_statistic, dfn, dfd), 1 - f.cdf(f_statistic, dfn, dfd))\n",
    "\n",
    "# compare p-value with the significance level alpha\n",
    "alpha = 0.01\n",
    "if p_value < alpha:\n",
    "    print(\"Reject the null hypothesis. The variance of the population is significantly different from the claimed value.\")\n",
    "else:\n",
    "    print(\"Fail to reject the null hypothesis. The variance of the population is equal to the claimed value.\")\n",
    "    \n",
    "# output the F-statistic, degrees of freedom, and p-value\n",
    "print(\"F-statistic: \", f_statistic)\n",
    "print(\"Degrees of freedom (numerator, denominator): \", dfn, dfd)\n",
    "print(\"p-value: \", p_value)\n"
   ]
  },
  {
   "cell_type": "markdown",
   "id": "617dd0ae-2d7e-4d53-ab18-16af0cd32404",
   "metadata": {},
   "source": [
    "### Q6. Write a Python function that takes in the degrees of freedom for the numerator and denominator of an F-distribution and calculates the mean and variance of the distribution. The function should return the mean and variance as a tuple."
   ]
  },
  {
   "cell_type": "code",
   "execution_count": 8,
   "id": "3740ed97-aafa-4c7f-b9d4-48eb6ce7e5c8",
   "metadata": {},
   "outputs": [
    {
     "name": "stdout",
     "output_type": "stream",
     "text": [
      "Mean: 1.1111111111111112\n",
      "Variance: 2.932098765432099\n"
     ]
    }
   ],
   "source": [
    "import math\n",
    "import random\n",
    "\n",
    "import math\n",
    "\n",
    "def f_distribution_mean_variance(numerator_df, denominator_df):\n",
    "    \"\"\"\n",
    "    Calculates the mean and variance of the F-distribution with given degrees of freedom for numerator and denominator.\n",
    "    \n",
    "    Parameters:\n",
    "    numerator_df (int): Degrees of freedom for numerator.\n",
    "    denominator_df (int): Degrees of freedom for denominator.\n",
    "    \n",
    "    Returns:\n",
    "    tuple: A tuple containing the mean and variance of the F-distribution, or None if the denominator degrees of freedom is less than or equal to 2.\n",
    "    \"\"\"\n",
    "    \n",
    "    # Check if denominator degrees of freedom is greater than 2\n",
    "    if denominator_df <= 2:\n",
    "        print(\"Error: Denominator degrees of freedom must be greater than 2.\")\n",
    "        return None\n",
    "    \n",
    "    # Calculate mean and variance\n",
    "    mean = denominator_df / (denominator_df - 2)\n",
    "    variance = (2 * (denominator_df ** 2) * (numerator_df + denominator_df - 2)) / ((numerator_df * (denominator_df - 2) ** 2 * (denominator_df - 4)))\n",
    "    \n",
    "    return (mean, variance)\n",
    "\n",
    "numerator_df = random.randint(1, 10)\n",
    "denominator_df = random.randint(3, 20)\n",
    "\n",
    "mean, variance = f_distribution_mean_variance(numerator_df, denominator_df)\n",
    "\n",
    "print(f\"Mean: {mean}\")\n",
    "print(f\"Variance: {variance}\")"
   ]
  },
  {
   "cell_type": "markdown",
   "id": "031a53ea-dc17-415e-a311-e0c1475eb030",
   "metadata": {},
   "source": [
    "### Q7. A random sample of 10 measurements is taken from a normal population with unknown variance. The sample variance is found to be 25. Another random sample of 15 measurements is taken from another normal population with unknown variance, and the sample variance is found to be 20. Conduct an F-test at the 10% significance level to determine if the variances are significantly different.\n",
    "    \n",
    "    To test if the variances of two normal populations are significantly different, we use an F-test. \n",
    "    \n",
    "        The null hypothesis is that the variances are equal\n",
    "        \n",
    "        The alternative hypothesis is that the variances are not equal. \n",
    "        \n",
    "        The test statistic is the ratio of the sample variances."
   ]
  },
  {
   "cell_type": "code",
   "execution_count": 9,
   "id": "e1ff4288-eca9-479b-8f9e-2b7854272d76",
   "metadata": {},
   "outputs": [
    {
     "name": "stdout",
     "output_type": "stream",
     "text": [
      "Fail to reject the null hypothesis: there is not enough evidence to conclude that the variances of the two populations are different.\n"
     ]
    }
   ],
   "source": [
    "import scipy.stats as stats\n",
    "\n",
    "# Sample sizes and variances\n",
    "n1 = 10\n",
    "n2 = 15\n",
    "s1_sq = 25\n",
    "s2_sq = 20\n",
    "\n",
    "# Calculate the test statistic\n",
    "f_stat = s1_sq / s2_sq\n",
    "\n",
    "# Calculate the degrees of freedom\n",
    "df1 = n1 - 1\n",
    "df2 = n2 - 1\n",
    "\n",
    "# Calculate the p-value\n",
    "p_value = 1 - stats.f.cdf(f_stat, df1, df2)\n",
    "\n",
    "# Set the significance level\n",
    "alpha = 0.1\n",
    "\n",
    "# Compare the p-value with the significance level\n",
    "if p_value < alpha:\n",
    "    print(\"Reject the null hypothesis: the variances of the two populations are equal.\")\n",
    "else:\n",
    "    print(\"Fail to reject the null hypothesis: there is not enough evidence to conclude that the variances of the two populations are different.\")\n"
   ]
  },
  {
   "cell_type": "markdown",
   "id": "403d3a58-2204-43c5-b8f7-a4412dc8080b",
   "metadata": {},
   "source": [
    "### Q8. The following data represent the waiting times in minutes at two different restaurants on a Saturday night: Restaurant A: 24, 25, 28, 23, 22, 20, 27; Restaurant B: 31, 33, 35, 30, 32, 36. Conduct an F-test at the 5% significance level to determine if the variances are significantly different.\n",
    "\n",
    "    To test if the variances of two normal populations are significantly different, we use an F-test. \n",
    "    \n",
    "        The null hypothesis is that the variances are equal\n",
    "        \n",
    "        The alternative hypothesis is that the variances are not equal. \n",
    "        \n",
    "        The test statistic is the ratio of the sample variances."
   ]
  },
  {
   "cell_type": "code",
   "execution_count": 10,
   "id": "19a57a88-f2b4-4a8d-b409-3405198728e9",
   "metadata": {},
   "outputs": [
    {
     "name": "stdout",
     "output_type": "stream",
     "text": [
      "Fail to reject the null hypothesis: there is not enough evidence to conclude that the means of the two populations are different.\n"
     ]
    }
   ],
   "source": [
    "import numpy as np\n",
    "import scipy.stats as stats\n",
    "\n",
    "# Sample data\n",
    "a = [24, 25, 28, 23, 22, 20, 27]\n",
    "b = [31, 33, 35, 30, 32, 36]\n",
    "\n",
    "# Sample variances\n",
    "s1_sq = np.var(a, ddof=1)\n",
    "s2_sq = np.var(b, ddof=1)\n",
    "\n",
    "# Calculate the test statistic\n",
    "f_stat = s1_sq / s2_sq\n",
    "\n",
    "# Calculate the degrees of freedom\n",
    "df1 = len(a) - 1\n",
    "df2 = len(b) - 1\n",
    "\n",
    "# Calculate the p-value\n",
    "p_value = 2 * min(stats.f.cdf(f_stat, df1, df2), 1 - stats.f.cdf(f_stat, df1, df2))\n",
    "\n",
    "# Set the significance level\n",
    "alpha = 0.05\n",
    "\n",
    "# Compare the p-value with the significance level\n",
    "if p_value < alpha:\n",
    "    print(\"Reject the null hypothesis: the means of the two populations are equal.\")\n",
    "else:\n",
    "    print(\"Fail to reject the null hypothesis: there is not enough evidence to conclude that the means of the two populations are different.\")\n",
    "\n"
   ]
  },
  {
   "cell_type": "markdown",
   "id": "8f66fbff-f40f-4add-aef1-b223fae58422",
   "metadata": {},
   "source": [
    "### Q9. The following data represent the test scores of two groups of students: Group A: 80, 85, 90, 92, 87, 83; Group B: 75, 78, 82, 79, 81, 84. Conduct an F test at the 1% significance level to determine if the variances are significantly different.\n",
    "    \n",
    "    To test if the variances of two normal populations are significantly different, we use an F-test. \n",
    "    \n",
    "        The null hypothesis is that the variances are equal\n",
    "        \n",
    "        The alternative hypothesis is that the variances are not equal. \n",
    "        \n",
    "        The test statistic is the ratio of the sample variances."
   ]
  },
  {
   "cell_type": "code",
   "execution_count": 11,
   "id": "a421150a-3c38-4cf9-8c14-f8f91b6d5cae",
   "metadata": {},
   "outputs": [
    {
     "name": "stdout",
     "output_type": "stream",
     "text": [
      "Fail to reject the null hypothesis: There is not enough evidence to suggest that the variances are significantly different.\n"
     ]
    }
   ],
   "source": [
    "import numpy as np\n",
    "import scipy.stats as stats\n",
    "\n",
    "# Sample data\n",
    "a = [80, 85, 90, 92, 87, 83]\n",
    "b = [75, 78, 82, 79, 81, 84]\n",
    "\n",
    "# Sample variances\n",
    "s1_sq = np.var(a, ddof=1)\n",
    "s2_sq = np.var(b, ddof=1)\n",
    "\n",
    "# Calculate the test statistic\n",
    "f_stat = s1_sq / s2_sq\n",
    "\n",
    "# Calculate the degrees of freedom\n",
    "df1 = len(a) - 1\n",
    "df2 = len(b) - 1\n",
    "\n",
    "# Calculate the p-value\n",
    "p_value = 2 * min(stats.f.cdf(f_stat, df1, df2), 1 - stats.f.cdf(f_stat, df1, df2))\n",
    "\n",
    "# Set the significance level\n",
    "alpha = 0.01\n",
    "\n",
    "# Compare the p-value with the significance level\n",
    "if p_value < alpha:\n",
    "    print(\"Reject the null hypothesis: The variances are significantly different.\")\n",
    "else:\n",
    "    print(\"Fail to reject the null hypothesis: There is not enough evidence to suggest that the variances are significantly different.\")\n"
   ]
  },
  {
   "cell_type": "code",
   "execution_count": null,
   "id": "d962f811-6c61-481e-af6a-290000905bcf",
   "metadata": {},
   "outputs": [],
   "source": []
  }
 ],
 "metadata": {
  "kernelspec": {
   "display_name": "Python 3 (ipykernel)",
   "language": "python",
   "name": "python3"
  },
  "language_info": {
   "codemirror_mode": {
    "name": "ipython",
    "version": 3
   },
   "file_extension": ".py",
   "mimetype": "text/x-python",
   "name": "python",
   "nbconvert_exporter": "python",
   "pygments_lexer": "ipython3",
   "version": "3.10.8"
  }
 },
 "nbformat": 4,
 "nbformat_minor": 5
}
