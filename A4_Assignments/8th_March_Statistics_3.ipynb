{
 "cells": [
  {
   "cell_type": "markdown",
   "id": "ab5daf13-0513-47bb-a56d-fb214f5839a8",
   "metadata": {},
   "source": [
    "### Q1. What is the Probability density function?\n",
    "    \n",
    "    A probability density function (PDF) describes a continuous distribution. Use it to find probabilities for values falling in ranges."
   ]
  },
  {
   "cell_type": "markdown",
   "id": "afc56a2f-6e8e-400e-b4bc-e91d69dc74a1",
   "metadata": {},
   "source": [
    "### Q2. What are the types of Probability distribution?\n",
    "    \n",
    "    There are two types of probability distributions: \n",
    "    \n",
    "        1) Discrete probability distributions\n",
    "        2) Continuous probability distributions\n",
    "    \n",
    "        1) Discrete distributions : \n",
    "                Uniform distribution\t\n",
    "                Binomial distribution\t\n",
    "                Bernoulli distribution\t\n",
    "                Poisson distribution\t\n",
    "\n",
    "        2) Continuous distributions:\n",
    "                Normal distribution\n",
    "                Standard Normal distribution\n",
    "                Student’s T distribution\n",
    "                Chi-squared  distribution"
   ]
  },
  {
   "cell_type": "markdown",
   "id": "49122177-7b54-43de-bcc3-3e1f9e25cb75",
   "metadata": {},
   "source": [
    "### Q3. Write a Python function to calculate the probability density function of a normal distribution with given mean and standard deviation at a given point.\n",
    "\n",
    "    "
   ]
  },
  {
   "cell_type": "code",
   "execution_count": 1,
   "id": "7fd09f54-295b-4249-bbe1-ac2707f57573",
   "metadata": {},
   "outputs": [
    {
     "name": "stdout",
     "output_type": "stream",
     "text": [
      "using pdf formula    :  0.018873160796088678\n",
      "using builtin method :  0.01887316079608868\n"
     ]
    }
   ],
   "source": [
    "import math\n",
    "from scipy.stats import norm\n",
    "\n",
    "def pdf(x, mean, std) :\n",
    "    \n",
    "    # using pdf formula : f(x) = (1 / (σ * sqrt(2π))) * exp(-((x - μ)^2) / (2 * σ^2))\n",
    "    return (1 / (std * math.sqrt(2 * math.pi))) * math.exp(-((x - mean)**2) / (2 * std**2))\n",
    "\n",
    "def pdf2(x, mean, std) :\n",
    "    \n",
    "    # using built in method\n",
    "    return norm.pdf(x, mean, std)\n",
    "\n",
    "print(f\"using pdf formula    :  {pdf(12.5, 25.3, 12.3)}\")\n",
    "print(f\"using builtin method :  {pdf2(12.5, 25.3, 12.3)}\")"
   ]
  },
  {
   "cell_type": "markdown",
   "id": "fd513369-6893-44ff-97c9-24e4e5e38f33",
   "metadata": {},
   "source": [
    "### Q4. What are the properties of Binomial distribution? Give two examples of events where binomial distribution can be applied.\n",
    "    \n",
    "    A binomial distribution is one that has the following properties:\n",
    "    \n",
    "        1) The number of observations n is fixed.\n",
    "        2) Each observation is independent.\n",
    "        3) Each observation represents one of two outcomes (\"success\" or \"failure\").\n",
    "        4) The probability of \"success\" p is the same for each outcome.\n",
    "    \n",
    "    Examples :\n",
    "        coin tossing experiments\n",
    "        sampling inspection plan\n",
    "        genetic experiments\n"
   ]
  },
  {
   "cell_type": "markdown",
   "id": "4ef3b114-903a-4e57-8e6d-a50395b2d60c",
   "metadata": {},
   "source": [
    "### Q5. Generate a random sample of size 1000 from a binomial distribution with probability of success 0.4 and plot a histogram of the results using matplotlib."
   ]
  },
  {
   "cell_type": "code",
   "execution_count": 2,
   "id": "e3ce278f-26ff-4bb8-ad04-5a900161f986",
   "metadata": {},
   "outputs": [
    {
     "data": {
      "image/png": "[encoded data removed]",
      "text/plain": [
       "<Figure size 800x400 with 1 Axes>"
      ]
     },
     "metadata": {},
     "output_type": "display_data"
    }
   ],
   "source": [
    "from scipy.stats import binom\n",
    "import matplotlib.pyplot as plt\n",
    "\n",
    "# number of observation\n",
    "n = 1000\n",
    "# pobability of success\n",
    "p = 0.4\n",
    "\n",
    "binom_dist = [binom.pmf(r, n, p) for r in range(n+1)]\n",
    "\n",
    "plt.figure(figsize=(8, 4))\n",
    "plt.hist(binom_dist)\n",
    "plt.show()"
   ]
  },
  {
   "cell_type": "markdown",
   "id": "687d08fb-6778-4a29-8b33-6b52418e1fad",
   "metadata": {},
   "source": [
    "### Q6. Write a Python function to calculate the cumulative distribution function of a Poisson distribution with given mean at a given point."
   ]
  },
  {
   "cell_type": "code",
   "execution_count": 3,
   "id": "00a37bac-8bbf-4bd4-90b7-b4ffb0f7f19e",
   "metadata": {},
   "outputs": [
    {
     "name": "stdout",
     "output_type": "stream",
     "text": [
      "cdf_poission at a given point : 0.03901199285499282\n"
     ]
    }
   ],
   "source": [
    "from scipy.stats import poisson\n",
    "\n",
    "def cdf_poisson(x, mean) :\n",
    "    # using builtin method from scipy module\n",
    "    return poisson.cdf(x, mean)\n",
    "\n",
    "print(f\"cdf_poission at a given point : {cdf_poisson(12.5, 20)}\")\n",
    "                    "
   ]
  },
  {
   "cell_type": "markdown",
   "id": "2844e843-490b-4896-923a-628f6d20d3e1",
   "metadata": {},
   "source": [
    "### Q7. How Binomial distribution different from Poisson distribution?\n",
    "        \n",
    "    The main difference between the binomial distribution and the Poisson distribution is the conditions under which they are used.\n",
    "\n",
    "    The binomial distribution is used to model the probability of a specific number of successes (or failures) in a fixed number of independent trials, where each trial has the same probability of success (or failure). The parameters of the binomial distribution are the number of trials (n) and the probability of success on each trial (p).\n",
    "    \n",
    "    On the other hand, the Poisson distribution is used to model the probability of a certain number of events occurring within a fixed interval of time or space, where the events occur randomly and independently. The parameter of the Poisson distribution is the average rate of occurrence of the events (λ).\n",
    "    \n",
    "    In summary, the binomial distribution is used for a fixed number of independent trials with a fixed probability of success, while the Poisson distribution is used for a random number of events occurring within a fixed interval of time or space."
   ]
  },
  {
   "cell_type": "markdown",
   "id": "a89f427c-6d36-45de-aecd-d102b035a052",
   "metadata": {},
   "source": [
    "### Q8. Generate a random sample of size 1000 from a Poisson distribution with mean 5 and calculate the sample mean and variance."
   ]
  },
  {
   "cell_type": "code",
   "execution_count": 4,
   "id": "bbdac72d-9406-4b52-aab9-3592484eea53",
   "metadata": {},
   "outputs": [
    {
     "data": {
      "text/plain": [
       "0.0009990009990009983"
      ]
     },
     "execution_count": 4,
     "metadata": {},
     "output_type": "execute_result"
    }
   ],
   "source": [
    "from scipy.stats import poisson\n",
    "import numpy as np\n",
    "\n",
    "# sample size\n",
    "n = 1000\n",
    "# given mean\n",
    "mean = 5\n",
    "\n",
    "poisson_dist = [poisson.pmf(x, mean) for x in range(n+1)]\n",
    "\n",
    "np.mean(poisson_dist)"
   ]
  },
  {
   "cell_type": "markdown",
   "id": "bdee8802-6427-4a49-b810-ce719ddc1a71",
   "metadata": {},
   "source": [
    "### Q9. How mean and variance are related in Binomial distribution and Poisson distribution?\n",
    "    \n",
    "    For the Binomial distribution with parameters n and p, the mean of the binomial distribution is np, and the variance of the binomial distribution is np (1 − p). Hence Binomial distribution depending on both n and p.\n",
    "    \n",
    "    For the Poisson distribution with parameter λ, both the mean and variance are equal to λ. This means that the variance is completely determined by the mean, and does not depend on any other parameters. \n"
   ]
  },
  {
   "cell_type": "markdown",
   "id": "9f1be846-7725-4ef3-a748-75ac463d58f9",
   "metadata": {},
   "source": [
    "### Q10. In normal distribution with respect to mean position, where does the least frequent data appear?\n",
    "    \n",
    "    In a normal distribution, the least frequent data appear in the tails of the distribution, which are the regions farthest away from the mean."
   ]
  },
  {
   "cell_type": "code",
   "execution_count": null,
   "id": "51504bd0-dbc3-4d22-813e-ceafef5e073e",
   "metadata": {},
   "outputs": [],
   "source": []
  }
 ],
 "metadata": {
  "kernelspec": {
   "display_name": "Python 3 (ipykernel)",
   "language": "python",
   "name": "python3"
  },
  "language_info": {
   "codemirror_mode": {
    "name": "ipython",
    "version": 3
   },
   "file_extension": ".py",
   "mimetype": "text/x-python",
   "name": "python",
   "nbconvert_exporter": "python",
   "pygments_lexer": "ipython3",
   "version": "3.10.8"
  }
 },
 "nbformat": 4,
 "nbformat_minor": 5
}
