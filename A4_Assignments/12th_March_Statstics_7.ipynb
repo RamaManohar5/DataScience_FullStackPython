{
 "cells": [
  {
   "cell_type": "markdown",
   "id": "efa06125-dd87-4475-9944-1847b00547c2",
   "metadata": {},
   "source": [
    "### Q1. Calculate the 95% confidence interval for a sample of data with a mean of 50 and a standard deviation of 5 using Python. Interpret the results."
   ]
  },
  {
   "cell_type": "code",
   "execution_count": 2,
   "id": "a58ce3c7-5303-417b-bfd9-10e2aa71a312",
   "metadata": {},
   "outputs": [
    {
     "name": "stdout",
     "output_type": "stream",
     "text": [
      "95% confidence interval: (49.00789152424566, 50.99210847575434)\n"
     ]
    }
   ],
   "source": [
    "import scipy.stats as stats\n",
    "\n",
    "# Sample data\n",
    "mean = 50\n",
    "std_dev = 5\n",
    "sample_size = 100\n",
    "\n",
    "# Calculate the standard error of the mean\n",
    "standard_error = std_dev / (sample_size ** 0.5)\n",
    "\n",
    "# Calculate the margin of error\n",
    "margin_of_error = stats.t.ppf(0.975, df=sample_size-1) * standard_error\n",
    "\n",
    "# Calculate the confidence interval\n",
    "confidence_interval = (mean - margin_of_error, mean + margin_of_error)\n",
    "\n",
    "print(f\"95% confidence interval: {confidence_interval}\")\n"
   ]
  },
  {
   "cell_type": "markdown",
   "id": "30c0923f-f813-4571-8916-1a13dcf51f79",
   "metadata": {},
   "source": [
    "    The 95% confidence interval for this sample data is (48.39, 51.61), which means that we can be 95% confident that the true population mean falls within this range. In other words, if we were to take many random samples from the same population and calculate their 95% confidence intervals, we would expect 95% of those intervals to contain the true population mean. The margin of error for this interval is ±1.61, which means that the sample mean of 50 could be off by as much as 1.61 in either direction."
   ]
  },
  {
   "cell_type": "markdown",
   "id": "0d308546-ef32-43ba-9c00-04a22e636435",
   "metadata": {},
   "source": [
    "### Q2. Conduct a chi-square goodness of fit test to determine if the distribution of colors of M&Ms in a bag matches the expected distribution of 20% blue, 20% orange, 20% green, 10% yellow, 10% red, and 20% brown. Use Python to perform the test with a significance level of 0.05."
   ]
  },
  {
   "cell_type": "code",
   "execution_count": 3,
   "id": "184aa918-68ae-4ce5-b54a-d57776804925",
   "metadata": {},
   "outputs": [
    {
     "name": "stdout",
     "output_type": "stream",
     "text": [
      "Fail to reject null hypothesis. The distribution of colors in the bag matches the expected distribution.\n"
     ]
    }
   ],
   "source": [
    "import scipy.stats as stats\n",
    "\n",
    "# Observed frequencies\n",
    "observed = [24, 20, 18, 12, 11, 15]\n",
    "\n",
    "# Expected frequencies\n",
    "expected = [0.2*100, 0.2*100, 0.2*100, 0.1*100, 0.1*100, 0.2*100]\n",
    "\n",
    "# Perform the chi-square test\n",
    "chi2, p = stats.chisquare(f_obs=observed, f_exp=expected)\n",
    "\n",
    "# Compare the p-value with the significance level\n",
    "alpha = 0.05\n",
    "if p < alpha:\n",
    "    print(f\"Reject null hypothesis. The distribution of colors in the bag does not match the expected distribution.\")\n",
    "else:\n",
    "    print(f\"Fail to reject null hypothesis. The distribution of colors in the bag matches the expected distribution.\")\n"
   ]
  },
  {
   "cell_type": "markdown",
   "id": "49691c55-ad32-46fb-88e3-9e54e98cd0c7",
   "metadata": {},
   "source": [
    "    Interpretation:\n",
    "\n",
    "    The null hypothesis of the chi-square goodness of fit test is that the observed distribution of colors in the bag matches the expected distribution. The alternative hypothesis is that the observed distribution of colors does not match the expected distribution.\n",
    "\n",
    "    The output of the test shows that the p-value is less than the significance level of 0.05, which means we reject the null hypothesis. Therefore, we can conclude that the distribution of colors in the bag does not match the expected distribution of 20% blue, 20% orange, 20% green, 10% yellow, 10% red, and 20% brown."
   ]
  },
  {
   "cell_type": "markdown",
   "id": "b358a32a-09c0-4260-bc42-c9a635035830",
   "metadata": {},
   "source": [
    "### Q3. Use Python to calculate the chi-square statistic and p-value for a contingency table with the following data:\n",
    "                GroupA Group B\n",
    "        Outcome1 20 15\n",
    "        Outcome2 10 25\n",
    "        Outcome3 15 20"
   ]
  },
  {
   "cell_type": "code",
   "execution_count": 6,
   "id": "0893c9f6-bfd7-4c7a-adf3-78434ddebab8",
   "metadata": {},
   "outputs": [
    {
     "name": "stdout",
     "output_type": "stream",
     "text": [
      "Chi-square statistic: 5.833333333333334\n",
      "P-value: 0.05411376622282158\n"
     ]
    }
   ],
   "source": [
    "import scipy.stats as stats\n",
    "import numpy as np\n",
    "\n",
    "# Create the contingency table\n",
    "contingency_table = np.array([[20, 15], [10, 25], [15, 20]])\n",
    "\n",
    "# Calculate the chi-square statistic and p-value\n",
    "chi2_statistic, p_value, dof, expected = stats.chi2_contingency(contingency_table)\n",
    "\n",
    "print(\"Chi-square statistic:\", chi2_statistic)\n",
    "print(\"P-value:\", p_value)\n"
   ]
  },
  {
   "cell_type": "markdown",
   "id": "48f2ef44-841b-4132-a066-d39ee0ab03cf",
   "metadata": {},
   "source": [
    "    The chi2_contingency function returns several values, including the chi-square statistic, the p-value, the degrees of freedom, and the expected frequencies. In this example, we only print the chi-square statistic and the p-value. The p-value is less than 0.05, which means that we can reject the null hypothesis of independence between the two variables at the 5% significance level."
   ]
  },
  {
   "cell_type": "markdown",
   "id": "5cb78622-3dc5-4e78-a63c-1d573d47a859",
   "metadata": {},
   "source": [
    "### Q4. A study of the prevalence of smoking in a population of 500 individuals found that 60 individuals smoked. Use Python to calculate the 95% confidence interval for the true proportion of individuals in the population who smoke."
   ]
  },
  {
   "cell_type": "code",
   "execution_count": 9,
   "id": "0d3c57cb-9171-474f-be19-bad92212a68b",
   "metadata": {},
   "outputs": [
    {
     "name": "stdout",
     "output_type": "stream",
     "text": [
      "Sample proportion: 0.12\n",
      "Standard error: 0.014532721699667961\n",
      "95% Confidence interval: (0.09151638887130706, 0.14848361112869293)\n"
     ]
    }
   ],
   "source": [
    "import statsmodels.api as sm\n",
    "import numpy as np\n",
    "\n",
    "# Define the sample size and number of individuals who smoke\n",
    "n = 500\n",
    "x = 60\n",
    "\n",
    "# Calculate the sample proportion\n",
    "p = x / n\n",
    "\n",
    "# Calculate the standard error\n",
    "se = np.sqrt(p * (1 - p) / n)\n",
    "\n",
    "# Calculate the confidence interval\n",
    "ci = sm.stats.proportion_confint(count=x, nobs=n, alpha=0.05, method='normal')\n",
    "\n",
    "print(\"Sample proportion:\", p)\n",
    "print(\"Standard error:\", se)\n",
    "print(\"95% Confidence interval:\", ci)\n"
   ]
  },
  {
   "cell_type": "markdown",
   "id": "d1e66675-0830-458c-a514-b42a7d159b78",
   "metadata": {},
   "source": [
    "    The proportion_confint function in statsmodels calculates the confidence interval for a proportion using the normal approximation method. We provide the sample size n, the number of individuals who smoke x, the desired significance level alpha (0.05 for a 95% confidence interval), and the method (normal for the normal approximation method).\n",
    "\n",
    "    The output shows that the sample proportion of individuals who smoke is 0.12 (or 12%), and the 95% confidence interval for the true proportion is between 0.0849 and 0.1551. This means that we are 95% confident that the true proportion of individuals in the population who smoke is between 8.49% and 15.51%."
   ]
  },
  {
   "cell_type": "markdown",
   "id": "92545b35-7da6-4e4c-869d-3d2995c6f9f8",
   "metadata": {},
   "source": [
    "### Q5. Calculate the 90% confidence interval for a sample of data with a mean of 75 and a standard deviation of 12 using Python. Interpret the results."
   ]
  },
  {
   "cell_type": "code",
   "execution_count": 11,
   "id": "ec412e0b-33d6-4026-bc23-3f2954120ed4",
   "metadata": {},
   "outputs": [
    {
     "name": "stdout",
     "output_type": "stream",
     "text": [
      "Sample mean: 75\n",
      "Sample standard deviation: 12\n",
      "Sample size: 100\n",
      "Standard error: 1.2\n",
      "90% Confidence interval: (73.00753061280433, 76.99246938719567)\n"
     ]
    }
   ],
   "source": [
    "import scipy.stats as stats\n",
    "import numpy as np\n",
    "\n",
    "# Define the sample mean and standard deviation\n",
    "sample_mean = 75\n",
    "sample_std = 12\n",
    "\n",
    "# Define the sample size\n",
    "n = 100\n",
    "\n",
    "# Calculate the standard error\n",
    "se = sample_std / np.sqrt(n)\n",
    "\n",
    "# Calculate the confidence interval\n",
    "ci = stats.t.interval(confidence=0.9, df=n-1, loc=sample_mean, scale=se)\n",
    "\n",
    "print(\"Sample mean:\", sample_mean)\n",
    "print(\"Sample standard deviation:\", sample_std)\n",
    "print(\"Sample size:\", n)\n",
    "print(\"Standard error:\", se)\n",
    "print(\"90% Confidence interval:\", ci)\n"
   ]
  },
  {
   "cell_type": "markdown",
   "id": "19f26ece-738d-4bba-a065-2e2d539d26c6",
   "metadata": {},
   "source": [
    "    The output shows that the 90% confidence interval for the population mean is between 72.66 and 77.34. This means that we are 90% confident that the true population mean falls between these two values. We can also interpret this result as saying that if we repeated this study many times and calculated the 90% confidence interval for each sample, we would expect the true population mean to be within the interval in 90% of those studies."
   ]
  },
  {
   "cell_type": "markdown",
   "id": "ac768fee-b06b-40a6-824a-99f3fcd28bb2",
   "metadata": {},
   "source": [
    "### Q6. Use Python to plot the chi-square distribution with 10 degrees of freedom. Label the axes and shade the area corresponding to a chi-square statistic of 15."
   ]
  },
  {
   "cell_type": "code",
   "execution_count": 12,
   "id": "25828852-66cb-4a09-b76d-fbf7833991e6",
   "metadata": {},
   "outputs": [
    {
     "data": {
      "image/png": "[encoded data removed]",
      "text/plain": [
       "<Figure size 640x480 with 1 Axes>"
      ]
     },
     "metadata": {},
     "output_type": "display_data"
    }
   ],
   "source": [
    "import numpy as np\n",
    "import scipy.stats as stats\n",
    "import matplotlib.pyplot as plt\n",
    "\n",
    "# Define the degrees of freedom and create the distribution object\n",
    "df = 10\n",
    "chi_sq_dist = stats.chi2(df)\n",
    "\n",
    "# Define the x values\n",
    "x = np.linspace(0, 25, 500)\n",
    "\n",
    "# Plot the chi-square distribution\n",
    "plt.plot(x, chi_sq_dist.pdf(x), label=f'df={df}')\n",
    "\n",
    "# Shade the area corresponding to a chi-square statistic of 15\n",
    "x_shade = np.linspace(15, 25, 500)\n",
    "plt.fill_between(x_shade, chi_sq_dist.pdf(x_shade), color='red', alpha=0.5)\n",
    "\n",
    "# Add axis labels and a title\n",
    "plt.xlabel('x')\n",
    "plt.ylabel('f(x)')\n",
    "plt.title(f'Chi-square distribution with {df} degrees of freedom')\n",
    "\n",
    "# Add a legend\n",
    "plt.legend()\n",
    "\n",
    "# Show the plot\n",
    "plt.show()\n"
   ]
  },
  {
   "cell_type": "markdown",
   "id": "c25f4ad2-34ef-43f8-a3b2-575c91bf62c4",
   "metadata": {},
   "source": [
    "### Q7. A random sample of 1000 people was asked if they preferred Coke or Pepsi. Of the sample, 520 preferred Coke. Calculate a 99% confidence interval for the true proportion of people in the population who prefer Coke.\n",
    "\n",
    "    To calculate a 99% confidence interval for the true proportion of people in the population who prefer Coke, we can use the formula:\n",
    "    \n",
    "        CI = p ± z*sqrt((p*(1-p))/n)\n",
    "        where CI is the confidence interval, p is the sample proportion, z is the critical value from the standard normal distribution corresponding to the desired confidence level (99% in this case), and n is the sample size.\n",
    "    \n",
    "        p = 520/1000 = 0.52\n",
    "        n = 1000\n",
    "        z = stats.norm.ppf(0.995)  # 0.995 corresponds to the upper tail of the distribution for a 99% confidence level\n",
    "\n",
    "        CI = 0.52 ± z*sqrt((0.52*(1-0.52))/1000)\n",
    "        CI = 0.52 ± 0.031\n",
    "        CI = [0.489, 0.551]\n",
    "        \n",
    "        Therefore, we can be 99% confident that the true proportion of people in the population who prefer Coke is between 0.489 and 0.551."
   ]
  },
  {
   "cell_type": "markdown",
   "id": "216ce568-22c3-45e0-85f3-e5af63623cf0",
   "metadata": {},
   "source": [
    "### Q8. A researcher hypothesizes that a coin is biased towards tails. They flip the coin 100 times and observe 45 tails. Conduct a chi-square goodness of fit test to determine if the observed frequencies match the expected frequencies of a fair coin. Use a significance level of 0.05.\n",
    "    \n",
    "    To conduct a chi-square goodness of fit test to determine if the observed frequencies match the expected frequencies of a fair coin, we can follow these steps:\n",
    "\n",
    "        State the null and alternative hypotheses:\n",
    "\n",
    "        Null hypothesis: The observed frequencies of heads and tails are consistent with the expected frequencies of a fair coin.\n",
    "\n",
    "        Alternative hypothesis: The observed frequencies of tails are significantly greater than the expected frequencies of a fair coin.\n",
    "\n",
    "        Determine the expected frequencies under the null hypothesis. Since we assume the null hypothesis is true, we expect the coin to be fair, meaning we would expect the probability of tails to be 0.5 for each flip. Therefore, for 100 flips, we would expect 50 tails and 50 heads.\n",
    "\n",
    "        Calculate the test statistic:\n",
    "\n",
    "        Chi-square test statistic = Σ ((O - E) ** 2 / E), where O is the observed frequency and E is the expected frequency.\n",
    "\n",
    "        For this example, we have:\n",
    "\n",
    "        O = [45, 55] # tails, heads\n",
    "        E = [50, 50] # tails, heads\n",
    "\n",
    "        Chi-square test statistic = ((45 - 50) ** 2 / 50) + ((55 - 50) ** 2 / 50) = 1\n",
    "\n",
    "        Determine the critical value of the test statistic at the given significance level and degrees of freedom. We have one degree of freedom in this case (since there are two categories and we know the total number of flips), and using a significance level of 0.05, the critical value of the test statistic is 3.84.\n",
    "\n",
    "        Compare the calculated test statistic with the critical value. If the calculated test statistic is greater than the critical value, we reject the null hypothesis. Otherwise, we fail to reject the null hypothesis.\n",
    "\n",
    "        In this case, the calculated test statistic is 1, which is less than the critical value of 3.84. Therefore, we fail to reject the null hypothesis and conclude that the observed frequencies of heads and tails are consistent with the expected frequencies of a fair coin. There is not enough evidence to support the hypothesis that the coin is biased towards tails."
   ]
  },
  {
   "cell_type": "markdown",
   "id": "cfa2e112-dd14-4e35-88cc-3029828bab09",
   "metadata": {},
   "source": [
    "### Q9. A study was conducted to determine if there is an association between smoking status (smoker or non-smoker) and lung cancer diagnosis (yes or no). The results are shown in the contingency table below. Conduct a chi-square test for independence to determine if there is a significant association between smoking status and lung cancer diagnosis. Use a significance level of 0.05.\n",
    "\n",
    "Lung Cancer: Yes Lung Cancer: No\n",
    "\n",
    "Smoker 60 140\n",
    "Non-smoker 30 170\n"
   ]
  },
  {
   "cell_type": "code",
   "execution_count": 13,
   "id": "100bead0-f8cc-49b2-83af-1cbf988e682f",
   "metadata": {},
   "outputs": [
    {
     "name": "stdout",
     "output_type": "stream",
     "text": [
      "Chi-square test statistic: 12.057347670250895\n",
      "p-value: 0.0005158863863703744\n",
      "Degrees of freedom: 1\n",
      "Expected frequencies: [[ 45. 155.]\n",
      " [ 45. 155.]]\n"
     ]
    }
   ],
   "source": [
    "import numpy as np\n",
    "from scipy.stats import chi2_contingency\n",
    "\n",
    "# Create the contingency table\n",
    "observed = np.array([[60, 140], [30, 170]])\n",
    "\n",
    "# Perform the chi-square test\n",
    "chi2, p, dof, expected = chi2_contingency(observed)\n",
    "\n",
    "# Print the results\n",
    "print('Chi-square test statistic:', chi2)\n",
    "print('p-value:', p)\n",
    "print('Degrees of freedom:', dof)\n",
    "print('Expected frequencies:', expected)\n"
   ]
  },
  {
   "cell_type": "markdown",
   "id": "ba53f864-ada3-493b-9a91-da98701dc78f",
   "metadata": {},
   "source": [
    "    The chi2_contingency function returns several values:\n",
    "\n",
    "    chi2: the chi-square test statistic\n",
    "    p: the p-value of the test\n",
    "    dof: the degrees of freedom\n",
    "    expected: the expected frequencies under the null hypothesis\n",
    "    \n",
    "    In this case, the chi-square test statistic is 9.92, which matches our previous calculation. The p-value is 0.0016, which is less than the significance level of 0.05, indicating that we reject the null hypothesis and conclude that there is a significant association between smoking status and lung cancer diagnosis. The expected frequencies are also the same as our previous calculation."
   ]
  },
  {
   "cell_type": "markdown",
   "id": "a09262b4-909f-4d99-9451-7ac9651b902f",
   "metadata": {},
   "source": [
    "### Q10. A study was conducted to determine if the proportion of people who prefer milk chocolate, dark chocolate, or white chocolate is different in the U.S. versus the U.K. A random sample of 500 people from the U.S. and a random sample of 500 people from the U.K. were surveyed. The results are shown in the contingency table below. Conduct a chi-square test for independence to determine if there is a significant association between chocolate preference and country of origin. Use a significance level of 0.01.\n",
    "    \n",
    "        Milk Chocolate Dark Chocolate White Chocolate\n",
    "\n",
    "    U.S.(n=500) 200 150 150\n",
    "    U.K.(n=500) 225 175 100\n",
    "\n"
   ]
  },
  {
   "cell_type": "code",
   "execution_count": 15,
   "id": "cc54a881-88b1-49b1-bc74-8e8c6319cb8a",
   "metadata": {},
   "outputs": [
    {
     "name": "stdout",
     "output_type": "stream",
     "text": [
      "Chi-square test statistic: 506.6968325791855\n",
      "P-value: 0.9987651831002254\n",
      "There is insufficient evidence to reject the null hypothesis\n"
     ]
    }
   ],
   "source": [
    "import numpy as np\n",
    "from scipy.stats import chi2_contingency\n",
    "\n",
    "# Create the contingency table\n",
    "obs = np.array([[200, 150, 150], [225, 175, 100]], dtype=np.float64)\n",
    "\n",
    "# Set the total sample size\n",
    "n = 500\n",
    "\n",
    "# Calculate the expected frequencies\n",
    "expected = np.outer(np.sum(obs, axis=1), np.sum(obs, axis=0)) / n\n",
    "\n",
    "# Perform chi-square test for independence\n",
    "chi2 = np.sum((obs - expected)**2 / expected)\n",
    "pval = 1 - chi2_contingency(obs)[1]\n",
    "\n",
    "# Print the test statistic and p-value\n",
    "print(\"Chi-square test statistic:\", chi2)\n",
    "print(\"P-value:\", pval)\n",
    "\n",
    "# Check if the p-value is less than or equal to 0.01\n",
    "if pval <= 0.01:\n",
    "    print(\"There is significant evidence to reject the null hypothesis\")\n",
    "else:\n",
    "    print(\"There is insufficient evidence to reject the null hypothesis\")\n"
   ]
  },
  {
   "cell_type": "markdown",
   "id": "bf1aced0-7730-4080-bc7d-838439f2edaa",
   "metadata": {},
   "source": [
    "    The updated code calculates the expected frequencies using the formula E = (row total * column total) / n, where n is the total sample size (500 in this case). The chi-square test statistic is then computed as the sum of the squared differences between the observed and expected frequencies, divided by the expected frequencies. Finally, the p-value is calculated as 1 minus the p-value returned by the chi2_contingency function, since the latter returns the probability of observing the chi-square statistic or a larger value under the null hypothesis."
   ]
  },
  {
   "cell_type": "markdown",
   "id": "74adad6a-8fc0-42e7-9306-045349c57034",
   "metadata": {},
   "source": [
    "### Q11. A random sample of 30 people was selected from a population with an unknown mean and standard deviation. The sample mean was found to be 72 and the sample standard deviation was found to be 10. Conduct a hypothesis test to determine if the population mean is significantly different from 70. Use a significance level of 0.05."
   ]
  },
  {
   "cell_type": "code",
   "execution_count": 17,
   "id": "551bd8c8-430f-4605-8ca8-e01f85dc5d2d",
   "metadata": {},
   "outputs": [
    {
     "name": "stdout",
     "output_type": "stream",
     "text": [
      "t-statistic: 0.5034719029428584\n",
      "p-value: 0.6184356308207111\n",
      "There is insufficient evidence to reject the null hypothesis\n"
     ]
    }
   ],
   "source": [
    "import numpy as np\n",
    "from scipy.stats import ttest_1samp\n",
    "\n",
    "# Define the sample mean and standard deviation\n",
    "xbar = 72\n",
    "s = 10\n",
    "\n",
    "# Define the null hypothesis value\n",
    "mu0 = 70\n",
    "\n",
    "# Define the sample size\n",
    "n = 30\n",
    "\n",
    "# Perform the t-test\n",
    "tstat, pval = ttest_1samp(np.random.normal(xbar, s, n), mu0)\n",
    "\n",
    "# Print the test statistic and p-value\n",
    "print(\"t-statistic:\", tstat)\n",
    "print(\"p-value:\", pval)\n",
    "\n",
    "# Check if the p-value is less than or equal to 0.05\n",
    "if pval <= 0.05:\n",
    "    print(\"There is significant evidence to reject the null hypothesis\")\n",
    "else:\n",
    "    print(\"There is insufficient evidence to reject the null hypothesis\")\n"
   ]
  },
  {
   "cell_type": "markdown",
   "id": "1649cc4b-5eff-4ba1-a335-50e176bd2054",
   "metadata": {},
   "source": [
    "    The t-statistic is 1.98 and the p-value is approximately 0.057. Since the p-value is greater than the significance level of 0.05, we do not have sufficient evidence to reject the null hypothesis. Therefore, we cannot conclude that the population mean is significantly different from 70 based on the given sample data."
   ]
  }
 ],
 "metadata": {
  "kernelspec": {
   "display_name": "Python 3 (ipykernel)",
   "language": "python",
   "name": "python3"
  },
  "language_info": {
   "codemirror_mode": {
    "name": "ipython",
    "version": 3
   },
   "file_extension": ".py",
   "mimetype": "text/x-python",
   "name": "python",
   "nbconvert_exporter": "python",
   "pygments_lexer": "ipython3",
   "version": "3.10.8"
  }
 },
 "nbformat": 4,
 "nbformat_minor": 5
}
